{
 "cells": [
  {
   "cell_type": "raw",
   "id": "3e4810fb-c490-4401-ba75-45cfdbe3f63c",
   "metadata": {},
   "source": [
    "**SOC predition SDBMS**"
   ]
  },
  {
   "cell_type": "markdown",
   "id": "c11cdc20-9e52-4bbb-a1dc-8aec0a544a68",
   "metadata": {},
   "source": [
    "Install pandas an sklearn"
   ]
  },
  {
   "cell_type": "code",
   "execution_count": 1,
   "id": "d34b8cff-8b87-43ed-a656-831e35c91ec3",
   "metadata": {
    "scrolled": true
   },
   "outputs": [
    {
     "name": "stdout",
     "output_type": "stream",
     "text": [
      "Requirement already satisfied: pandas in /Users/deganandaferdian/miniconda3/envs/battery-simulation-sdbms/lib/python3.11/site-packages (2.2.3)\n",
      "Requirement already satisfied: scikit-learn in /Users/deganandaferdian/miniconda3/envs/battery-simulation-sdbms/lib/python3.11/site-packages (1.6.1)\n",
      "Requirement already satisfied: tensorflow in /Users/deganandaferdian/miniconda3/envs/battery-simulation-sdbms/lib/python3.11/site-packages (2.19.0)\n",
      "Requirement already satisfied: numpy>=1.23.2 in /Users/deganandaferdian/miniconda3/envs/battery-simulation-sdbms/lib/python3.11/site-packages (from pandas) (1.26.4)\n",
      "Requirement already satisfied: python-dateutil>=2.8.2 in /Users/deganandaferdian/miniconda3/envs/battery-simulation-sdbms/lib/python3.11/site-packages (from pandas) (2.9.0.post0)\n",
      "Requirement already satisfied: pytz>=2020.1 in /Users/deganandaferdian/miniconda3/envs/battery-simulation-sdbms/lib/python3.11/site-packages (from pandas) (2025.2)\n",
      "Requirement already satisfied: tzdata>=2022.7 in /Users/deganandaferdian/miniconda3/envs/battery-simulation-sdbms/lib/python3.11/site-packages (from pandas) (2025.2)\n",
      "Requirement already satisfied: scipy>=1.6.0 in /Users/deganandaferdian/miniconda3/envs/battery-simulation-sdbms/lib/python3.11/site-packages (from scikit-learn) (1.15.2)\n",
      "Requirement already satisfied: joblib>=1.2.0 in /Users/deganandaferdian/miniconda3/envs/battery-simulation-sdbms/lib/python3.11/site-packages (from scikit-learn) (1.5.1)\n",
      "Requirement already satisfied: threadpoolctl>=3.1.0 in /Users/deganandaferdian/miniconda3/envs/battery-simulation-sdbms/lib/python3.11/site-packages (from scikit-learn) (3.6.0)\n",
      "Requirement already satisfied: absl-py>=1.0.0 in /Users/deganandaferdian/miniconda3/envs/battery-simulation-sdbms/lib/python3.11/site-packages (from tensorflow) (2.3.0)\n",
      "Requirement already satisfied: astunparse>=1.6.0 in /Users/deganandaferdian/miniconda3/envs/battery-simulation-sdbms/lib/python3.11/site-packages (from tensorflow) (1.6.3)\n",
      "Requirement already satisfied: flatbuffers>=24.3.25 in /Users/deganandaferdian/miniconda3/envs/battery-simulation-sdbms/lib/python3.11/site-packages (from tensorflow) (25.2.10)\n",
      "Requirement already satisfied: gast!=0.5.0,!=0.5.1,!=0.5.2,>=0.2.1 in /Users/deganandaferdian/miniconda3/envs/battery-simulation-sdbms/lib/python3.11/site-packages (from tensorflow) (0.6.0)\n",
      "Requirement already satisfied: google-pasta>=0.1.1 in /Users/deganandaferdian/miniconda3/envs/battery-simulation-sdbms/lib/python3.11/site-packages (from tensorflow) (0.2.0)\n",
      "Requirement already satisfied: libclang>=13.0.0 in /Users/deganandaferdian/miniconda3/envs/battery-simulation-sdbms/lib/python3.11/site-packages (from tensorflow) (18.1.1)\n",
      "Requirement already satisfied: opt-einsum>=2.3.2 in /Users/deganandaferdian/miniconda3/envs/battery-simulation-sdbms/lib/python3.11/site-packages (from tensorflow) (3.4.0)\n",
      "Requirement already satisfied: packaging in /Users/deganandaferdian/miniconda3/envs/battery-simulation-sdbms/lib/python3.11/site-packages (from tensorflow) (25.0)\n",
      "Requirement already satisfied: protobuf!=4.21.0,!=4.21.1,!=4.21.2,!=4.21.3,!=4.21.4,!=4.21.5,<6.0.0dev,>=3.20.3 in /Users/deganandaferdian/miniconda3/envs/battery-simulation-sdbms/lib/python3.11/site-packages (from tensorflow) (5.29.5)\n",
      "Requirement already satisfied: requests<3,>=2.21.0 in /Users/deganandaferdian/miniconda3/envs/battery-simulation-sdbms/lib/python3.11/site-packages (from tensorflow) (2.32.3)\n",
      "Requirement already satisfied: setuptools in /Users/deganandaferdian/miniconda3/envs/battery-simulation-sdbms/lib/python3.11/site-packages (from tensorflow) (78.1.1)\n",
      "Requirement already satisfied: six>=1.12.0 in /Users/deganandaferdian/miniconda3/envs/battery-simulation-sdbms/lib/python3.11/site-packages (from tensorflow) (1.17.0)\n",
      "Requirement already satisfied: termcolor>=1.1.0 in /Users/deganandaferdian/miniconda3/envs/battery-simulation-sdbms/lib/python3.11/site-packages (from tensorflow) (3.1.0)\n",
      "Requirement already satisfied: typing-extensions>=3.6.6 in /Users/deganandaferdian/miniconda3/envs/battery-simulation-sdbms/lib/python3.11/site-packages (from tensorflow) (4.13.2)\n",
      "Requirement already satisfied: wrapt>=1.11.0 in /Users/deganandaferdian/miniconda3/envs/battery-simulation-sdbms/lib/python3.11/site-packages (from tensorflow) (1.17.2)\n",
      "Requirement already satisfied: grpcio<2.0,>=1.24.3 in /Users/deganandaferdian/miniconda3/envs/battery-simulation-sdbms/lib/python3.11/site-packages (from tensorflow) (1.71.0)\n",
      "Requirement already satisfied: tensorboard~=2.19.0 in /Users/deganandaferdian/miniconda3/envs/battery-simulation-sdbms/lib/python3.11/site-packages (from tensorflow) (2.19.0)\n",
      "Requirement already satisfied: keras>=3.5.0 in /Users/deganandaferdian/miniconda3/envs/battery-simulation-sdbms/lib/python3.11/site-packages (from tensorflow) (3.10.0)\n",
      "Requirement already satisfied: h5py>=3.11.0 in /Users/deganandaferdian/miniconda3/envs/battery-simulation-sdbms/lib/python3.11/site-packages (from tensorflow) (3.13.0)\n",
      "Requirement already satisfied: ml-dtypes<1.0.0,>=0.5.1 in /Users/deganandaferdian/miniconda3/envs/battery-simulation-sdbms/lib/python3.11/site-packages (from tensorflow) (0.5.1)\n",
      "Requirement already satisfied: tensorflow-io-gcs-filesystem>=0.23.1 in /Users/deganandaferdian/miniconda3/envs/battery-simulation-sdbms/lib/python3.11/site-packages (from tensorflow) (0.37.1)\n",
      "Requirement already satisfied: charset_normalizer<4,>=2 in /Users/deganandaferdian/miniconda3/envs/battery-simulation-sdbms/lib/python3.11/site-packages (from requests<3,>=2.21.0->tensorflow) (3.4.2)\n",
      "Requirement already satisfied: idna<4,>=2.5 in /Users/deganandaferdian/miniconda3/envs/battery-simulation-sdbms/lib/python3.11/site-packages (from requests<3,>=2.21.0->tensorflow) (3.10)\n",
      "Requirement already satisfied: urllib3<3,>=1.21.1 in /Users/deganandaferdian/miniconda3/envs/battery-simulation-sdbms/lib/python3.11/site-packages (from requests<3,>=2.21.0->tensorflow) (2.4.0)\n",
      "Requirement already satisfied: certifi>=2017.4.17 in /Users/deganandaferdian/miniconda3/envs/battery-simulation-sdbms/lib/python3.11/site-packages (from requests<3,>=2.21.0->tensorflow) (2025.4.26)\n",
      "Requirement already satisfied: markdown>=2.6.8 in /Users/deganandaferdian/miniconda3/envs/battery-simulation-sdbms/lib/python3.11/site-packages (from tensorboard~=2.19.0->tensorflow) (3.8)\n",
      "Requirement already satisfied: tensorboard-data-server<0.8.0,>=0.7.0 in /Users/deganandaferdian/miniconda3/envs/battery-simulation-sdbms/lib/python3.11/site-packages (from tensorboard~=2.19.0->tensorflow) (0.7.2)\n",
      "Requirement already satisfied: werkzeug>=1.0.1 in /Users/deganandaferdian/miniconda3/envs/battery-simulation-sdbms/lib/python3.11/site-packages (from tensorboard~=2.19.0->tensorflow) (3.1.3)\n",
      "Requirement already satisfied: wheel<1.0,>=0.23.0 in /Users/deganandaferdian/miniconda3/envs/battery-simulation-sdbms/lib/python3.11/site-packages (from astunparse>=1.6.0->tensorflow) (0.45.1)\n",
      "Requirement already satisfied: rich in /Users/deganandaferdian/miniconda3/envs/battery-simulation-sdbms/lib/python3.11/site-packages (from keras>=3.5.0->tensorflow) (14.0.0)\n",
      "Requirement already satisfied: namex in /Users/deganandaferdian/miniconda3/envs/battery-simulation-sdbms/lib/python3.11/site-packages (from keras>=3.5.0->tensorflow) (0.1.0)\n",
      "Requirement already satisfied: optree in /Users/deganandaferdian/miniconda3/envs/battery-simulation-sdbms/lib/python3.11/site-packages (from keras>=3.5.0->tensorflow) (0.16.0)\n",
      "Requirement already satisfied: MarkupSafe>=2.1.1 in /Users/deganandaferdian/miniconda3/envs/battery-simulation-sdbms/lib/python3.11/site-packages (from werkzeug>=1.0.1->tensorboard~=2.19.0->tensorflow) (3.0.2)\n",
      "Requirement already satisfied: markdown-it-py>=2.2.0 in /Users/deganandaferdian/miniconda3/envs/battery-simulation-sdbms/lib/python3.11/site-packages (from rich->keras>=3.5.0->tensorflow) (3.0.0)\n",
      "Requirement already satisfied: pygments<3.0.0,>=2.13.0 in /Users/deganandaferdian/miniconda3/envs/battery-simulation-sdbms/lib/python3.11/site-packages (from rich->keras>=3.5.0->tensorflow) (2.19.1)\n",
      "Requirement already satisfied: mdurl~=0.1 in /Users/deganandaferdian/miniconda3/envs/battery-simulation-sdbms/lib/python3.11/site-packages (from markdown-it-py>=2.2.0->rich->keras>=3.5.0->tensorflow) (0.1.2)\n"
     ]
    }
   ],
   "source": [
    "!pip install pandas scikit-learn tensorflow\n"
   ]
  },
  {
   "cell_type": "code",
   "execution_count": 2,
   "id": "5723df53-bf4e-4722-b3aa-aac0245cee11",
   "metadata": {},
   "outputs": [],
   "source": [
    "import tensorflow as tf\n",
    "from sklearn.model_selection import train_test_split\n",
    "from sklearn.preprocessing import StandardScaler\n",
    "from sklearn.linear_model import LinearRegression\n",
    "from sklearn.metrics import mean_squared_error, r2_score"
   ]
  },
  {
   "cell_type": "markdown",
   "id": "76677179-b294-4844-afc8-7cef881a366c",
   "metadata": {},
   "source": [
    "Load data set to the dataframe"
   ]
  },
  {
   "cell_type": "code",
   "execution_count": 3,
   "id": "c23c3802-8934-4aa1-9624-cb41a470f053",
   "metadata": {},
   "outputs": [],
   "source": [
    "import pandas as pd\n",
    "dataSetLocation = \"./dataset/mendeley-LG18650HG2.csv\"\n",
    "dataFrame = pd.read_csv(dataSetLocation)"
   ]
  },
  {
   "cell_type": "markdown",
   "id": "3268ca53-d00a-40ba-8083-2da1c98c7ab2",
   "metadata": {},
   "source": [
    "remove unused column (timeDiff and variant)"
   ]
  },
  {
   "cell_type": "code",
   "execution_count": 12,
   "id": "34a0e18c-16c8-43ba-afd6-4cfab9bc8c46",
   "metadata": {},
   "outputs": [
    {
     "name": "stdout",
     "output_type": "stream",
     "text": [
      "    voltage  current  temperature  averageVoltage  averageCurrent       SOC\n",
      "0  0.385148  0.75102     0.303101        0.385148         0.75102  0.206417\n",
      "1  0.385152  0.75102     0.304591        0.385150         0.75102  0.206417\n",
      "2  0.385156  0.75102     0.306081        0.385152         0.75102  0.206417\n",
      "3  0.385160  0.75102     0.307572        0.385154         0.75102  0.206417\n",
      "4  0.385164  0.75102     0.309062        0.385156         0.75102  0.206417\n",
      "0.0628222157184988\n",
      "1.0004364760721152\n"
     ]
    }
   ],
   "source": [
    "print(dataFrame.head())\n",
    "print(dataFrame[\"SOC\"].min())\n",
    "print(dataFrame[\"SOC\"].max())\n"
   ]
  },
  {
   "cell_type": "markdown",
   "id": "38a09ce2-d17e-46a3-a821-2e22c998f4d4",
   "metadata": {},
   "source": [
    "Check Data Dimension"
   ]
  },
  {
   "cell_type": "code",
   "execution_count": 13,
   "id": "e81f32cb-955c-45d2-8687-6a2b17e4c5ae",
   "metadata": {},
   "outputs": [
    {
     "name": "stdout",
     "output_type": "stream",
     "text": [
      "(669956, 6)\n"
     ]
    }
   ],
   "source": [
    "print(dataFrame.shape)"
   ]
  },
  {
   "cell_type": "markdown",
   "id": "d518a853-aa8a-4969-8275-c67938b4537c",
   "metadata": {},
   "source": [
    "Check Mean,Median,Mode, Quartile, Standard Deviation"
   ]
  },
  {
   "cell_type": "code",
   "execution_count": 14,
   "id": "9dde5a6d-6fec-44fe-b9cc-707372ac1b80",
   "metadata": {},
   "outputs": [
    {
     "name": "stdout",
     "output_type": "stream",
     "text": [
      "           Column      Mean    Median      Mode        Q1        Q3   Std Dev\n",
      "0         voltage  0.710843  0.749018  0.977513  0.484394  0.970067  0.252053\n",
      "1         current  0.752365  0.751020  0.751020  0.751020  0.762989  0.079163\n",
      "2     temperature  0.672214  0.915628  0.917845  0.322932  0.925131  0.332360\n",
      "3  averageVoltage  0.710363  0.748360  0.977513  0.484137  0.969918  0.247668\n",
      "4  averageCurrent  0.752353  0.751020  0.751020  0.724062  0.754660  0.056138\n",
      "5             SOC  0.640461  0.702539  1.000000  0.292033  0.993671  0.333134\n"
     ]
    }
   ],
   "source": [
    "numeric_cols = dataFrame.select_dtypes(include=['number']).columns\n",
    "\n",
    "stats_list = []\n",
    "for col in numeric_cols:\n",
    "    stats = {\n",
    "        'Column': col,\n",
    "        'Mean': dataFrame[col].mean(),\n",
    "        'Median': dataFrame[col].median(),\n",
    "        'Mode': dataFrame[col].mode().values[0] if not dataFrame[col].mode().empty else None,\n",
    "        'Q1': dataFrame[col].quantile(0.25),\n",
    "        'Q3': dataFrame[col].quantile(0.75),\n",
    "        'Std Dev': dataFrame[col].std()\n",
    "    }\n",
    "    stats_list.append(stats)\n",
    "\n",
    "descriptiveStatisticDataFrame = pd.DataFrame(stats_list)\n",
    "print(descriptiveStatisticDataFrame)"
   ]
  },
  {
   "cell_type": "code",
   "execution_count": 15,
   "id": "cbcea26b-e5e8-422b-8a83-b7ac4ddacd57",
   "metadata": {},
   "outputs": [
    {
     "data": {
      "image/png": "[encoded data removed]",
      "text/plain": [
       "<Figure size 640x480 with 1 Axes>"
      ]
     },
     "metadata": {},
     "output_type": "display_data"
    },
    {
     "name": "stdout",
     "output_type": "stream",
     "text": [
      "    voltage  current  temperature  averageVoltage  averageCurrent       SOC\n",
      "0  0.385148  0.75102     0.303101        0.385148         0.75102  0.206417\n",
      "1  0.385152  0.75102     0.304591        0.385150         0.75102  0.206417\n",
      "2  0.385156  0.75102     0.306081        0.385152         0.75102  0.206417\n",
      "3  0.385160  0.75102     0.307572        0.385154         0.75102  0.206417\n",
      "4  0.385164  0.75102     0.309062        0.385156         0.75102  0.206417\n"
     ]
    }
   ],
   "source": [
    "import matplotlib.pyplot as plt\n",
    "\n",
    "plt.hist(dataFrame[\"SOC\"], bins=100, color=\"skyblue\", edgecolor=\"black\")\n",
    "plt.xlabel(\"SOC\")\n",
    "plt.ylabel(\"Frequency\")\n",
    "plt.title(\"SOC Distribution\")\n",
    "plt.show()\n",
    "\n",
    "print(dataFrame.head())"
   ]
  },
  {
   "cell_type": "markdown",
   "id": "dcf719d0-c54f-418f-bb6c-a1eabae0664e",
   "metadata": {},
   "source": [
    "Split X (Feature: Current, Voltage, CapacityDiff, BatteryCapacity) and Y (target: SOC)"
   ]
  },
  {
   "cell_type": "code",
   "execution_count": 16,
   "id": "0644c7b4-bf43-4d60-8ba7-1df48a7429bb",
   "metadata": {
    "scrolled": true
   },
   "outputs": [
    {
     "name": "stdout",
     "output_type": "stream",
     "text": [
      "feature: \n",
      "         voltage  current  temperature  averageVoltage  averageCurrent\n",
      "0       0.385148  0.75102     0.303101        0.385148         0.75102\n",
      "1       0.385152  0.75102     0.304591        0.385150         0.75102\n",
      "2       0.385156  0.75102     0.306081        0.385152         0.75102\n",
      "3       0.385160  0.75102     0.307572        0.385154         0.75102\n",
      "4       0.385164  0.75102     0.309062        0.385156         0.75102\n",
      "...          ...      ...          ...             ...             ...\n",
      "669951  0.478843  0.75102     0.008477        0.459558         0.75102\n",
      "669952  0.478843  0.75102     0.008477        0.459699         0.75102\n",
      "669953  0.478843  0.75102     0.008477        0.459839         0.75102\n",
      "669954  0.478961  0.75102     0.008477        0.459979         0.75102\n",
      "669955  0.478961  0.75102     0.008477        0.460117         0.75102\n",
      "\n",
      "[669956 rows x 5 columns]\n",
      "target: \n",
      "0         0.206417\n",
      "1         0.206417\n",
      "2         0.206417\n",
      "3         0.206417\n",
      "4         0.206417\n",
      "            ...   \n",
      "669951    0.283243\n",
      "669952    0.283243\n",
      "669953    0.283243\n",
      "669954    0.283243\n",
      "669955    0.283243\n",
      "Name: SOC, Length: 669956, dtype: float64\n"
     ]
    }
   ],
   "source": [
    "Y = dataFrame['SOC']\n",
    "X = dataFrame.drop('SOC', axis=1)\n",
    "print(\"feature: \")\n",
    "print(X)\n",
    "print(\"target: \")\n",
    "print(Y)"
   ]
  },
  {
   "cell_type": "markdown",
   "id": "f6e726d7-bad4-45a8-a1e4-44ac40758baf",
   "metadata": {},
   "source": [
    "Split 0.3 for test, 0.7 for training"
   ]
  },
  {
   "cell_type": "code",
   "execution_count": 17,
   "id": "59ee0783-3125-47f1-866d-e8abe0a9e082",
   "metadata": {},
   "outputs": [],
   "source": [
    "# Split into training and test sets\n",
    "X_train, X_test, Y_train, Y_test = train_test_split(X, Y, test_size=0.2, random_state=52)"
   ]
  },
  {
   "cell_type": "markdown",
   "id": "789bc1d5-a5d4-4d9e-947d-4de0b814a7c5",
   "metadata": {},
   "source": [
    "Normalize"
   ]
  },
  {
   "cell_type": "code",
   "execution_count": 18,
   "id": "e5e79dfb-a9d7-4f9b-9510-e948eae36c70",
   "metadata": {},
   "outputs": [],
   "source": [
    "scaler = StandardScaler()\n",
    "X_train = scaler.fit_transform(X_train)\n",
    "X_test = scaler.transform(X_test)"
   ]
  },
  {
   "cell_type": "markdown",
   "id": "4dd77162-755d-4655-baed-bfd2c1fd79ea",
   "metadata": {},
   "source": [
    "Train & Evaluate using TensorFlow"
   ]
  },
  {
   "cell_type": "code",
   "execution_count": 20,
   "id": "6a96015a-8e70-4731-9fdd-c94265a0344b",
   "metadata": {},
   "outputs": [
    {
     "name": "stdout",
     "output_type": "stream",
     "text": [
      "Epoch 1/100\n",
      "\u001b[1m13400/13400\u001b[0m \u001b[32m━━━━━━━━━━━━━━━━━━━━\u001b[0m\u001b[37m\u001b[0m \u001b[1m11s\u001b[0m 764us/step - loss: 0.0102 - mae: 0.0359 - val_loss: 6.5613e-04 - val_mae: 0.0157\n",
      "Epoch 2/100\n",
      "\u001b[1m13400/13400\u001b[0m \u001b[32m━━━━━━━━━━━━━━━━━━━━\u001b[0m\u001b[37m\u001b[0m \u001b[1m7s\u001b[0m 548us/step - loss: 5.7639e-04 - mae: 0.0147 - val_loss: 5.5315e-04 - val_mae: 0.0155\n",
      "Epoch 3/100\n",
      "\u001b[1m13400/13400\u001b[0m \u001b[32m━━━━━━━━━━━━━━━━━━━━\u001b[0m\u001b[37m\u001b[0m \u001b[1m7s\u001b[0m 557us/step - loss: 5.2037e-04 - mae: 0.0136 - val_loss: 5.0183e-04 - val_mae: 0.0130\n",
      "Epoch 4/100\n",
      "\u001b[1m13400/13400\u001b[0m \u001b[32m━━━━━━━━━━━━━━━━━━━━\u001b[0m\u001b[37m\u001b[0m \u001b[1m7s\u001b[0m 550us/step - loss: 5.0702e-04 - mae: 0.0130 - val_loss: 5.2351e-04 - val_mae: 0.0127\n",
      "Epoch 5/100\n",
      "\u001b[1m13400/13400\u001b[0m \u001b[32m━━━━━━━━━━━━━━━━━━━━\u001b[0m\u001b[37m\u001b[0m \u001b[1m7s\u001b[0m 541us/step - loss: 4.8951e-04 - mae: 0.0125 - val_loss: 4.8612e-04 - val_mae: 0.0127\n",
      "Epoch 6/100\n",
      "\u001b[1m13400/13400\u001b[0m \u001b[32m━━━━━━━━━━━━━━━━━━━━\u001b[0m\u001b[37m\u001b[0m \u001b[1m7s\u001b[0m 541us/step - loss: 4.9149e-04 - mae: 0.0124 - val_loss: 4.6409e-04 - val_mae: 0.0111\n",
      "Epoch 7/100\n",
      "\u001b[1m13400/13400\u001b[0m \u001b[32m━━━━━━━━━━━━━━━━━━━━\u001b[0m\u001b[37m\u001b[0m \u001b[1m7s\u001b[0m 550us/step - loss: 4.7883e-04 - mae: 0.0120 - val_loss: 4.5621e-04 - val_mae: 0.0113\n",
      "Epoch 8/100\n",
      "\u001b[1m13400/13400\u001b[0m \u001b[32m━━━━━━━━━━━━━━━━━━━━\u001b[0m\u001b[37m\u001b[0m \u001b[1m7s\u001b[0m 541us/step - loss: 4.7299e-04 - mae: 0.0119 - val_loss: 4.5573e-04 - val_mae: 0.0118\n",
      "Epoch 9/100\n",
      "\u001b[1m13400/13400\u001b[0m \u001b[32m━━━━━━━━━━━━━━━━━━━━\u001b[0m\u001b[37m\u001b[0m \u001b[1m7s\u001b[0m 541us/step - loss: 4.6456e-04 - mae: 0.0118 - val_loss: 4.3324e-04 - val_mae: 0.0101\n",
      "Epoch 10/100\n",
      "\u001b[1m13400/13400\u001b[0m \u001b[32m━━━━━━━━━━━━━━━━━━━━\u001b[0m\u001b[37m\u001b[0m \u001b[1m7s\u001b[0m 540us/step - loss: 4.6314e-04 - mae: 0.0117 - val_loss: 4.5370e-04 - val_mae: 0.0119\n",
      "Epoch 11/100\n",
      "\u001b[1m13400/13400\u001b[0m \u001b[32m━━━━━━━━━━━━━━━━━━━━\u001b[0m\u001b[37m\u001b[0m \u001b[1m8s\u001b[0m 576us/step - loss: 4.5262e-04 - mae: 0.0115 - val_loss: 4.3407e-04 - val_mae: 0.0114\n",
      "Epoch 12/100\n",
      "\u001b[1m13400/13400\u001b[0m \u001b[32m━━━━━━━━━━━━━━━━━━━━\u001b[0m\u001b[37m\u001b[0m \u001b[1m7s\u001b[0m 549us/step - loss: 4.4519e-04 - mae: 0.0114 - val_loss: 4.3487e-04 - val_mae: 0.0117\n",
      "Epoch 13/100\n",
      "\u001b[1m13400/13400\u001b[0m \u001b[32m━━━━━━━━━━━━━━━━━━━━\u001b[0m\u001b[37m\u001b[0m \u001b[1m8s\u001b[0m 572us/step - loss: 4.5486e-04 - mae: 0.0114 - val_loss: 4.0988e-04 - val_mae: 0.0106\n",
      "Epoch 14/100\n",
      "\u001b[1m13400/13400\u001b[0m \u001b[32m━━━━━━━━━━━━━━━━━━━━\u001b[0m\u001b[37m\u001b[0m \u001b[1m7s\u001b[0m 553us/step - loss: 4.3618e-04 - mae: 0.0112 - val_loss: 4.4899e-04 - val_mae: 0.0123\n",
      "Epoch 15/100\n",
      "\u001b[1m13400/13400\u001b[0m \u001b[32m━━━━━━━━━━━━━━━━━━━━\u001b[0m\u001b[37m\u001b[0m \u001b[1m7s\u001b[0m 556us/step - loss: 4.3451e-04 - mae: 0.0112 - val_loss: 4.3336e-04 - val_mae: 0.0113\n",
      "Epoch 16/100\n",
      "\u001b[1m13400/13400\u001b[0m \u001b[32m━━━━━━━━━━━━━━━━━━━━\u001b[0m\u001b[37m\u001b[0m \u001b[1m7s\u001b[0m 549us/step - loss: 4.3603e-04 - mae: 0.0111 - val_loss: 4.6267e-04 - val_mae: 0.0132\n",
      "Epoch 17/100\n",
      "\u001b[1m13400/13400\u001b[0m \u001b[32m━━━━━━━━━━━━━━━━━━━━\u001b[0m\u001b[37m\u001b[0m \u001b[1m7s\u001b[0m 556us/step - loss: 4.2758e-04 - mae: 0.0109 - val_loss: 4.0667e-04 - val_mae: 0.0112\n",
      "Epoch 18/100\n",
      "\u001b[1m13400/13400\u001b[0m \u001b[32m━━━━━━━━━━━━━━━━━━━━\u001b[0m\u001b[37m\u001b[0m \u001b[1m7s\u001b[0m 547us/step - loss: 4.1807e-04 - mae: 0.0108 - val_loss: 3.7567e-04 - val_mae: 0.0092\n",
      "Epoch 19/100\n",
      "\u001b[1m13400/13400\u001b[0m \u001b[32m━━━━━━━━━━━━━━━━━━━━\u001b[0m\u001b[37m\u001b[0m \u001b[1m8s\u001b[0m 564us/step - loss: 3.9969e-04 - mae: 0.0106 - val_loss: 3.8842e-04 - val_mae: 0.0108\n",
      "Epoch 20/100\n",
      "\u001b[1m13400/13400\u001b[0m \u001b[32m━━━━━━━━━━━━━━━━━━━━\u001b[0m\u001b[37m\u001b[0m \u001b[1m7s\u001b[0m 551us/step - loss: 4.1030e-04 - mae: 0.0107 - val_loss: 4.0140e-04 - val_mae: 0.0111\n",
      "Epoch 21/100\n",
      "\u001b[1m13400/13400\u001b[0m \u001b[32m━━━━━━━━━━━━━━━━━━━━\u001b[0m\u001b[37m\u001b[0m \u001b[1m8s\u001b[0m 616us/step - loss: 3.9804e-04 - mae: 0.0105 - val_loss: 4.0604e-04 - val_mae: 0.0097\n",
      "Epoch 22/100\n",
      "\u001b[1m13400/13400\u001b[0m \u001b[32m━━━━━━━━━━━━━━━━━━━━\u001b[0m\u001b[37m\u001b[0m \u001b[1m8s\u001b[0m 576us/step - loss: 3.9494e-04 - mae: 0.0104 - val_loss: 3.7707e-04 - val_mae: 0.0100\n",
      "Epoch 23/100\n",
      "\u001b[1m13400/13400\u001b[0m \u001b[32m━━━━━━━━━━━━━━━━━━━━\u001b[0m\u001b[37m\u001b[0m \u001b[1m7s\u001b[0m 555us/step - loss: 3.9150e-04 - mae: 0.0103 - val_loss: 3.6878e-04 - val_mae: 0.0097\n",
      "Epoch 24/100\n",
      "\u001b[1m13400/13400\u001b[0m \u001b[32m━━━━━━━━━━━━━━━━━━━━\u001b[0m\u001b[37m\u001b[0m \u001b[1m8s\u001b[0m 568us/step - loss: 3.8786e-04 - mae: 0.0103 - val_loss: 3.7425e-04 - val_mae: 0.0104\n",
      "Epoch 25/100\n",
      "\u001b[1m13400/13400\u001b[0m \u001b[32m━━━━━━━━━━━━━━━━━━━━\u001b[0m\u001b[37m\u001b[0m \u001b[1m8s\u001b[0m 566us/step - loss: 3.9758e-04 - mae: 0.0105 - val_loss: 4.1439e-04 - val_mae: 0.0103\n",
      "Epoch 26/100\n",
      "\u001b[1m13400/13400\u001b[0m \u001b[32m━━━━━━━━━━━━━━━━━━━━\u001b[0m\u001b[37m\u001b[0m \u001b[1m8s\u001b[0m 568us/step - loss: 3.9115e-04 - mae: 0.0105 - val_loss: 4.1884e-04 - val_mae: 0.0109\n",
      "Epoch 27/100\n",
      "\u001b[1m13400/13400\u001b[0m \u001b[32m━━━━━━━━━━━━━━━━━━━━\u001b[0m\u001b[37m\u001b[0m \u001b[1m7s\u001b[0m 558us/step - loss: 4.2959e-04 - mae: 0.0110 - val_loss: 4.1863e-04 - val_mae: 0.0106\n",
      "Epoch 28/100\n",
      "\u001b[1m13400/13400\u001b[0m \u001b[32m━━━━━━━━━━━━━━━━━━━━\u001b[0m\u001b[37m\u001b[0m \u001b[1m8s\u001b[0m 574us/step - loss: 4.1895e-04 - mae: 0.0108 - val_loss: 8.2855e-04 - val_mae: 0.0231\n",
      "Epoch 29/100\n",
      "\u001b[1m13400/13400\u001b[0m \u001b[32m━━━━━━━━━━━━━━━━━━━━\u001b[0m\u001b[37m\u001b[0m \u001b[1m8s\u001b[0m 571us/step - loss: 4.2783e-04 - mae: 0.0108 - val_loss: 3.9926e-04 - val_mae: 0.0097\n",
      "Epoch 30/100\n",
      "\u001b[1m13400/13400\u001b[0m \u001b[32m━━━━━━━━━━━━━━━━━━━━\u001b[0m\u001b[37m\u001b[0m \u001b[1m8s\u001b[0m 574us/step - loss: 4.2046e-04 - mae: 0.0107 - val_loss: 4.2059e-04 - val_mae: 0.0108\n",
      "Epoch 31/100\n",
      "\u001b[1m13400/13400\u001b[0m \u001b[32m━━━━━━━━━━━━━━━━━━━━\u001b[0m\u001b[37m\u001b[0m \u001b[1m8s\u001b[0m 563us/step - loss: 4.1999e-04 - mae: 0.0107 - val_loss: 3.9042e-04 - val_mae: 0.0103\n",
      "Epoch 32/100\n",
      "\u001b[1m13400/13400\u001b[0m \u001b[32m━━━━━━━━━━━━━━━━━━━━\u001b[0m\u001b[37m\u001b[0m \u001b[1m8s\u001b[0m 573us/step - loss: 4.0531e-04 - mae: 0.0105 - val_loss: 3.9582e-04 - val_mae: 0.0100\n",
      "Epoch 33/100\n",
      "\u001b[1m13400/13400\u001b[0m \u001b[32m━━━━━━━━━━━━━━━━━━━━\u001b[0m\u001b[37m\u001b[0m \u001b[1m8s\u001b[0m 561us/step - loss: 4.0266e-04 - mae: 0.0104 - val_loss: 3.9557e-04 - val_mae: 0.0100\n",
      "Epoch 34/100\n",
      "\u001b[1m13400/13400\u001b[0m \u001b[32m━━━━━━━━━━━━━━━━━━━━\u001b[0m\u001b[37m\u001b[0m \u001b[1m8s\u001b[0m 575us/step - loss: 3.7573e-04 - mae: 0.0102 - val_loss: 4.8905e-04 - val_mae: 0.0110\n",
      "Epoch 35/100\n",
      "\u001b[1m13400/13400\u001b[0m \u001b[32m━━━━━━━━━━━━━━━━━━━━\u001b[0m\u001b[37m\u001b[0m \u001b[1m8s\u001b[0m 575us/step - loss: 3.6792e-04 - mae: 0.0101 - val_loss: 3.4281e-04 - val_mae: 0.0095\n",
      "Epoch 36/100\n",
      "\u001b[1m13400/13400\u001b[0m \u001b[32m━━━━━━━━━━━━━━━━━━━━\u001b[0m\u001b[37m\u001b[0m \u001b[1m8s\u001b[0m 563us/step - loss: 3.7156e-04 - mae: 0.0101 - val_loss: 3.8428e-04 - val_mae: 0.0105\n",
      "Epoch 37/100\n",
      "\u001b[1m13400/13400\u001b[0m \u001b[32m━━━━━━━━━━━━━━━━━━━━\u001b[0m\u001b[37m\u001b[0m \u001b[1m8s\u001b[0m 577us/step - loss: 3.7872e-04 - mae: 0.0101 - val_loss: 3.4911e-04 - val_mae: 0.0092\n",
      "Epoch 38/100\n",
      "\u001b[1m13400/13400\u001b[0m \u001b[32m━━━━━━━━━━━━━━━━━━━━\u001b[0m\u001b[37m\u001b[0m \u001b[1m8s\u001b[0m 587us/step - loss: 3.7447e-04 - mae: 0.0102 - val_loss: 3.5145e-04 - val_mae: 0.0107\n",
      "Epoch 39/100\n",
      "\u001b[1m13400/13400\u001b[0m \u001b[32m━━━━━━━━━━━━━━━━━━━━\u001b[0m\u001b[37m\u001b[0m \u001b[1m8s\u001b[0m 565us/step - loss: 3.7245e-04 - mae: 0.0100 - val_loss: 3.6957e-04 - val_mae: 0.0108\n",
      "Epoch 40/100\n",
      "\u001b[1m13400/13400\u001b[0m \u001b[32m━━━━━━━━━━━━━━━━━━━━\u001b[0m\u001b[37m\u001b[0m \u001b[1m8s\u001b[0m 576us/step - loss: 3.7378e-04 - mae: 0.0100 - val_loss: 3.4715e-04 - val_mae: 0.0100\n",
      "Epoch 41/100\n",
      "\u001b[1m13400/13400\u001b[0m \u001b[32m━━━━━━━━━━━━━━━━━━━━\u001b[0m\u001b[37m\u001b[0m \u001b[1m8s\u001b[0m 595us/step - loss: 3.6884e-04 - mae: 0.0100 - val_loss: 3.6360e-04 - val_mae: 0.0105\n",
      "Epoch 42/100\n",
      "\u001b[1m13400/13400\u001b[0m \u001b[32m━━━━━━━━━━━━━━━━━━━━\u001b[0m\u001b[37m\u001b[0m \u001b[1m8s\u001b[0m 585us/step - loss: 3.7312e-04 - mae: 0.0101 - val_loss: 3.3054e-04 - val_mae: 0.0093\n",
      "Epoch 43/100\n",
      "\u001b[1m13400/13400\u001b[0m \u001b[32m━━━━━━━━━━━━━━━━━━━━\u001b[0m\u001b[37m\u001b[0m \u001b[1m8s\u001b[0m 567us/step - loss: 3.7910e-04 - mae: 0.0101 - val_loss: 3.6098e-04 - val_mae: 0.0099\n",
      "Epoch 44/100\n",
      "\u001b[1m13400/13400\u001b[0m \u001b[32m━━━━━━━━━━━━━━━━━━━━\u001b[0m\u001b[37m\u001b[0m \u001b[1m8s\u001b[0m 583us/step - loss: 3.5944e-04 - mae: 0.0099 - val_loss: 3.6407e-04 - val_mae: 0.0110\n",
      "Epoch 45/100\n",
      "\u001b[1m13400/13400\u001b[0m \u001b[32m━━━━━━━━━━━━━━━━━━━━\u001b[0m\u001b[37m\u001b[0m \u001b[1m8s\u001b[0m 608us/step - loss: 3.6012e-04 - mae: 0.0099 - val_loss: 3.5857e-04 - val_mae: 0.0110\n",
      "Epoch 46/100\n",
      "\u001b[1m13400/13400\u001b[0m \u001b[32m━━━━━━━━━━━━━━━━━━━━\u001b[0m\u001b[37m\u001b[0m \u001b[1m8s\u001b[0m 580us/step - loss: 3.6085e-04 - mae: 0.0099 - val_loss: 4.4869e-04 - val_mae: 0.0115\n",
      "Epoch 47/100\n",
      "\u001b[1m13400/13400\u001b[0m \u001b[32m━━━━━━━━━━━━━━━━━━━━\u001b[0m\u001b[37m\u001b[0m \u001b[1m8s\u001b[0m 587us/step - loss: 3.6303e-04 - mae: 0.0099 - val_loss: 3.9726e-04 - val_mae: 0.0107\n",
      "Epoch 48/100\n",
      "\u001b[1m13400/13400\u001b[0m \u001b[32m━━━━━━━━━━━━━━━━━━━━\u001b[0m\u001b[37m\u001b[0m \u001b[1m8s\u001b[0m 594us/step - loss: 3.6226e-04 - mae: 0.0099 - val_loss: 3.9334e-04 - val_mae: 0.0121\n",
      "Epoch 49/100\n",
      "\u001b[1m13400/13400\u001b[0m \u001b[32m━━━━━━━━━━━━━━━━━━━━\u001b[0m\u001b[37m\u001b[0m \u001b[1m8s\u001b[0m 577us/step - loss: 3.6478e-04 - mae: 0.0100 - val_loss: 3.5974e-04 - val_mae: 0.0107\n",
      "Epoch 50/100\n",
      "\u001b[1m13400/13400\u001b[0m \u001b[32m━━━━━━━━━━━━━━━━━━━━\u001b[0m\u001b[37m\u001b[0m \u001b[1m8s\u001b[0m 579us/step - loss: 3.6665e-04 - mae: 0.0100 - val_loss: 3.4306e-04 - val_mae: 0.0100\n",
      "Epoch 51/100\n",
      "\u001b[1m13400/13400\u001b[0m \u001b[32m━━━━━━━━━━━━━━━━━━━━\u001b[0m\u001b[37m\u001b[0m \u001b[1m8s\u001b[0m 587us/step - loss: 3.5046e-04 - mae: 0.0098 - val_loss: 3.3077e-04 - val_mae: 0.0092\n",
      "Epoch 52/100\n",
      "\u001b[1m13400/13400\u001b[0m \u001b[32m━━━━━━━━━━━━━━━━━━━━\u001b[0m\u001b[37m\u001b[0m \u001b[1m8s\u001b[0m 562us/step - loss: 3.6258e-04 - mae: 0.0099 - val_loss: 3.5239e-04 - val_mae: 0.0109\n",
      "Epoch 53/100\n",
      "\u001b[1m13400/13400\u001b[0m \u001b[32m━━━━━━━━━━━━━━━━━━━━\u001b[0m\u001b[37m\u001b[0m \u001b[1m8s\u001b[0m 599us/step - loss: 3.5594e-04 - mae: 0.0098 - val_loss: 4.1634e-04 - val_mae: 0.0116\n",
      "Epoch 54/100\n",
      "\u001b[1m13400/13400\u001b[0m \u001b[32m━━━━━━━━━━━━━━━━━━━━\u001b[0m\u001b[37m\u001b[0m \u001b[1m9s\u001b[0m 640us/step - loss: 3.6592e-04 - mae: 0.0100 - val_loss: 3.4635e-04 - val_mae: 0.0099\n",
      "Epoch 55/100\n",
      "\u001b[1m13400/13400\u001b[0m \u001b[32m━━━━━━━━━━━━━━━━━━━━\u001b[0m\u001b[37m\u001b[0m \u001b[1m8s\u001b[0m 583us/step - loss: 3.6171e-04 - mae: 0.0099 - val_loss: 3.5034e-04 - val_mae: 0.0096\n",
      "Epoch 56/100\n",
      "\u001b[1m13400/13400\u001b[0m \u001b[32m━━━━━━━━━━━━━━━━━━━━\u001b[0m\u001b[37m\u001b[0m \u001b[1m8s\u001b[0m 559us/step - loss: 3.6970e-04 - mae: 0.0100 - val_loss: 3.8960e-04 - val_mae: 0.0103\n",
      "Epoch 57/100\n",
      "\u001b[1m13400/13400\u001b[0m \u001b[32m━━━━━━━━━━━━━━━━━━━━\u001b[0m\u001b[37m\u001b[0m \u001b[1m8s\u001b[0m 570us/step - loss: 4.0251e-04 - mae: 0.0104 - val_loss: 3.8608e-04 - val_mae: 0.0109\n",
      "Epoch 58/100\n",
      "\u001b[1m13400/13400\u001b[0m \u001b[32m━━━━━━━━━━━━━━━━━━━━\u001b[0m\u001b[37m\u001b[0m \u001b[1m8s\u001b[0m 579us/step - loss: 3.8427e-04 - mae: 0.0101 - val_loss: 3.5801e-04 - val_mae: 0.0094\n",
      "Epoch 59/100\n",
      "\u001b[1m13400/13400\u001b[0m \u001b[32m━━━━━━━━━━━━━━━━━━━━\u001b[0m\u001b[37m\u001b[0m \u001b[1m8s\u001b[0m 584us/step - loss: 3.5119e-04 - mae: 0.0098 - val_loss: 3.3343e-04 - val_mae: 0.0095\n",
      "Epoch 60/100\n",
      "\u001b[1m13400/13400\u001b[0m \u001b[32m━━━━━━━━━━━━━━━━━━━━\u001b[0m\u001b[37m\u001b[0m \u001b[1m9s\u001b[0m 637us/step - loss: 3.5271e-04 - mae: 0.0097 - val_loss: 3.4676e-04 - val_mae: 0.0105\n",
      "Epoch 61/100\n",
      "\u001b[1m13400/13400\u001b[0m \u001b[32m━━━━━━━━━━━━━━━━━━━━\u001b[0m\u001b[37m\u001b[0m \u001b[1m8s\u001b[0m 587us/step - loss: 3.4631e-04 - mae: 0.0097 - val_loss: 3.2756e-04 - val_mae: 0.0093\n",
      "Epoch 62/100\n",
      "\u001b[1m13400/13400\u001b[0m \u001b[32m━━━━━━━━━━━━━━━━━━━━\u001b[0m\u001b[37m\u001b[0m \u001b[1m8s\u001b[0m 566us/step - loss: 3.5523e-04 - mae: 0.0098 - val_loss: 3.3547e-04 - val_mae: 0.0094\n",
      "Epoch 63/100\n",
      "\u001b[1m13400/13400\u001b[0m \u001b[32m━━━━━━━━━━━━━━━━━━━━\u001b[0m\u001b[37m\u001b[0m \u001b[1m8s\u001b[0m 572us/step - loss: 3.5158e-04 - mae: 0.0098 - val_loss: 3.7618e-04 - val_mae: 0.0091\n",
      "Epoch 64/100\n",
      "\u001b[1m13400/13400\u001b[0m \u001b[32m━━━━━━━━━━━━━━━━━━━━\u001b[0m\u001b[37m\u001b[0m \u001b[1m9s\u001b[0m 654us/step - loss: 3.5244e-04 - mae: 0.0098 - val_loss: 3.5489e-04 - val_mae: 0.0093\n",
      "Epoch 65/100\n",
      "\u001b[1m13400/13400\u001b[0m \u001b[32m━━━━━━━━━━━━━━━━━━━━\u001b[0m\u001b[37m\u001b[0m \u001b[1m9s\u001b[0m 644us/step - loss: 3.6288e-04 - mae: 0.0099 - val_loss: 3.8292e-04 - val_mae: 0.0097\n",
      "Epoch 66/100\n",
      "\u001b[1m13400/13400\u001b[0m \u001b[32m━━━━━━━━━━━━━━━━━━━━\u001b[0m\u001b[37m\u001b[0m \u001b[1m10s\u001b[0m 713us/step - loss: 3.5115e-04 - mae: 0.0097 - val_loss: 3.8644e-04 - val_mae: 0.0116\n",
      "Epoch 67/100\n",
      "\u001b[1m13400/13400\u001b[0m \u001b[32m━━━━━━━━━━━━━━━━━━━━\u001b[0m\u001b[37m\u001b[0m \u001b[1m8s\u001b[0m 622us/step - loss: 3.5569e-04 - mae: 0.0098 - val_loss: 3.4849e-04 - val_mae: 0.0090\n",
      "Epoch 68/100\n",
      "\u001b[1m13400/13400\u001b[0m \u001b[32m━━━━━━━━━━━━━━━━━━━━\u001b[0m\u001b[37m\u001b[0m \u001b[1m10s\u001b[0m 714us/step - loss: 3.4731e-04 - mae: 0.0096 - val_loss: 3.3317e-04 - val_mae: 0.0091\n",
      "Epoch 69/100\n",
      "\u001b[1m13400/13400\u001b[0m \u001b[32m━━━━━━━━━━━━━━━━━━━━\u001b[0m\u001b[37m\u001b[0m \u001b[1m9s\u001b[0m 683us/step - loss: 3.7738e-04 - mae: 0.0099 - val_loss: 3.6909e-04 - val_mae: 0.0109\n",
      "Epoch 70/100\n",
      "\u001b[1m13400/13400\u001b[0m \u001b[32m━━━━━━━━━━━━━━━━━━━━\u001b[0m\u001b[37m\u001b[0m \u001b[1m10s\u001b[0m 714us/step - loss: 3.5222e-04 - mae: 0.0097 - val_loss: 3.4263e-04 - val_mae: 0.0099\n",
      "Epoch 71/100\n",
      "\u001b[1m13400/13400\u001b[0m \u001b[32m━━━━━━━━━━━━━━━━━━━━\u001b[0m\u001b[37m\u001b[0m \u001b[1m9s\u001b[0m 689us/step - loss: 3.5347e-04 - mae: 0.0097 - val_loss: 3.4623e-04 - val_mae: 0.0099\n",
      "Epoch 72/100\n",
      "\u001b[1m13400/13400\u001b[0m \u001b[32m━━━━━━━━━━━━━━━━━━━━\u001b[0m\u001b[37m\u001b[0m \u001b[1m8s\u001b[0m 599us/step - loss: 3.5334e-04 - mae: 0.0096 - val_loss: 3.3379e-04 - val_mae: 0.0089\n",
      "Epoch 73/100\n",
      "\u001b[1m13400/13400\u001b[0m \u001b[32m━━━━━━━━━━━━━━━━━━━━\u001b[0m\u001b[37m\u001b[0m \u001b[1m9s\u001b[0m 678us/step - loss: 3.6558e-04 - mae: 0.0097 - val_loss: 3.4561e-04 - val_mae: 0.0089\n",
      "Epoch 74/100\n",
      "\u001b[1m13400/13400\u001b[0m \u001b[32m━━━━━━━━━━━━━━━━━━━━\u001b[0m\u001b[37m\u001b[0m \u001b[1m9s\u001b[0m 694us/step - loss: 3.4818e-04 - mae: 0.0096 - val_loss: 3.4612e-04 - val_mae: 0.0094\n",
      "Epoch 75/100\n",
      "\u001b[1m13400/13400\u001b[0m \u001b[32m━━━━━━━━━━━━━━━━━━━━\u001b[0m\u001b[37m\u001b[0m \u001b[1m9s\u001b[0m 636us/step - loss: 3.5079e-04 - mae: 0.0096 - val_loss: 3.2535e-04 - val_mae: 0.0089\n",
      "Epoch 76/100\n",
      "\u001b[1m13400/13400\u001b[0m \u001b[32m━━━━━━━━━━━━━━━━━━━━\u001b[0m\u001b[37m\u001b[0m \u001b[1m9s\u001b[0m 677us/step - loss: 3.5274e-04 - mae: 0.0096 - val_loss: 3.4102e-04 - val_mae: 0.0098\n",
      "Epoch 77/100\n",
      "\u001b[1m13400/13400\u001b[0m \u001b[32m━━━━━━━━━━━━━━━━━━━━\u001b[0m\u001b[37m\u001b[0m \u001b[1m8s\u001b[0m 611us/step - loss: 3.4848e-04 - mae: 0.0096 - val_loss: 3.4848e-04 - val_mae: 0.0092\n",
      "Epoch 78/100\n",
      "\u001b[1m13400/13400\u001b[0m \u001b[32m━━━━━━━━━━━━━━━━━━━━\u001b[0m\u001b[37m\u001b[0m \u001b[1m8s\u001b[0m 613us/step - loss: 3.4667e-04 - mae: 0.0096 - val_loss: 3.7619e-04 - val_mae: 0.0120\n",
      "Epoch 79/100\n",
      "\u001b[1m13400/13400\u001b[0m \u001b[32m━━━━━━━━━━━━━━━━━━━━\u001b[0m\u001b[37m\u001b[0m \u001b[1m8s\u001b[0m 626us/step - loss: 3.5354e-04 - mae: 0.0096 - val_loss: 3.3017e-04 - val_mae: 0.0090\n",
      "Epoch 80/100\n",
      "\u001b[1m13400/13400\u001b[0m \u001b[32m━━━━━━━━━━━━━━━━━━━━\u001b[0m\u001b[37m\u001b[0m \u001b[1m8s\u001b[0m 614us/step - loss: 3.5124e-04 - mae: 0.0095 - val_loss: 3.3314e-04 - val_mae: 0.0093\n",
      "Epoch 81/100\n",
      "\u001b[1m13400/13400\u001b[0m \u001b[32m━━━━━━━━━━━━━━━━━━━━\u001b[0m\u001b[37m\u001b[0m \u001b[1m8s\u001b[0m 623us/step - loss: 3.5076e-04 - mae: 0.0096 - val_loss: 3.4564e-04 - val_mae: 0.0092\n",
      "Epoch 82/100\n",
      "\u001b[1m13400/13400\u001b[0m \u001b[32m━━━━━━━━━━━━━━━━━━━━\u001b[0m\u001b[37m\u001b[0m \u001b[1m8s\u001b[0m 610us/step - loss: 3.4645e-04 - mae: 0.0095 - val_loss: 3.5343e-04 - val_mae: 0.0095\n",
      "Epoch 83/100\n",
      "\u001b[1m13400/13400\u001b[0m \u001b[32m━━━━━━━━━━━━━━━━━━━━\u001b[0m\u001b[37m\u001b[0m \u001b[1m8s\u001b[0m 618us/step - loss: 3.4596e-04 - mae: 0.0096 - val_loss: 3.5372e-04 - val_mae: 0.0105\n",
      "Epoch 84/100\n",
      "\u001b[1m13400/13400\u001b[0m \u001b[32m━━━━━━━━━━━━━━━━━━━━\u001b[0m\u001b[37m\u001b[0m \u001b[1m8s\u001b[0m 609us/step - loss: 3.4554e-04 - mae: 0.0096 - val_loss: 3.4464e-04 - val_mae: 0.0098\n",
      "Epoch 85/100\n",
      "\u001b[1m13400/13400\u001b[0m \u001b[32m━━━━━━━━━━━━━━━━━━━━\u001b[0m\u001b[37m\u001b[0m \u001b[1m8s\u001b[0m 619us/step - loss: 3.4355e-04 - mae: 0.0095 - val_loss: 3.4207e-04 - val_mae: 0.0088\n",
      "Epoch 86/100\n",
      "\u001b[1m13400/13400\u001b[0m \u001b[32m━━━━━━━━━━━━━━━━━━━━\u001b[0m\u001b[37m\u001b[0m \u001b[1m8s\u001b[0m 604us/step - loss: 3.4879e-04 - mae: 0.0095 - val_loss: 3.3220e-04 - val_mae: 0.0089\n",
      "Epoch 87/100\n",
      "\u001b[1m13400/13400\u001b[0m \u001b[32m━━━━━━━━━━━━━━━━━━━━\u001b[0m\u001b[37m\u001b[0m \u001b[1m8s\u001b[0m 616us/step - loss: 3.4847e-04 - mae: 0.0095 - val_loss: 3.5270e-04 - val_mae: 0.0092\n",
      "Epoch 88/100\n",
      "\u001b[1m13400/13400\u001b[0m \u001b[32m━━━━━━━━━━━━━━━━━━━━\u001b[0m\u001b[37m\u001b[0m \u001b[1m8s\u001b[0m 607us/step - loss: 3.4797e-04 - mae: 0.0095 - val_loss: 3.2166e-04 - val_mae: 0.0088\n",
      "Epoch 89/100\n",
      "\u001b[1m13400/13400\u001b[0m \u001b[32m━━━━━━━━━━━━━━━━━━━━\u001b[0m\u001b[37m\u001b[0m \u001b[1m8s\u001b[0m 615us/step - loss: 3.4727e-04 - mae: 0.0095 - val_loss: 3.2843e-04 - val_mae: 0.0091\n",
      "Epoch 90/100\n",
      "\u001b[1m13400/13400\u001b[0m \u001b[32m━━━━━━━━━━━━━━━━━━━━\u001b[0m\u001b[37m\u001b[0m \u001b[1m8s\u001b[0m 602us/step - loss: 3.4359e-04 - mae: 0.0095 - val_loss: 3.6552e-04 - val_mae: 0.0097\n",
      "Epoch 91/100\n",
      "\u001b[1m13400/13400\u001b[0m \u001b[32m━━━━━━━━━━━━━━━━━━━━\u001b[0m\u001b[37m\u001b[0m \u001b[1m8s\u001b[0m 625us/step - loss: 3.4551e-04 - mae: 0.0095 - val_loss: 3.3327e-04 - val_mae: 0.0089\n",
      "Epoch 92/100\n",
      "\u001b[1m13400/13400\u001b[0m \u001b[32m━━━━━━━━━━━━━━━━━━━━\u001b[0m\u001b[37m\u001b[0m \u001b[1m8s\u001b[0m 611us/step - loss: 3.5462e-04 - mae: 0.0095 - val_loss: 3.4381e-04 - val_mae: 0.0096\n",
      "Epoch 93/100\n",
      "\u001b[1m13400/13400\u001b[0m \u001b[32m━━━━━━━━━━━━━━━━━━━━\u001b[0m\u001b[37m\u001b[0m \u001b[1m8s\u001b[0m 604us/step - loss: 3.4697e-04 - mae: 0.0095 - val_loss: 3.2980e-04 - val_mae: 0.0090\n",
      "Epoch 94/100\n",
      "\u001b[1m13400/13400\u001b[0m \u001b[32m━━━━━━━━━━━━━━━━━━━━\u001b[0m\u001b[37m\u001b[0m \u001b[1m9s\u001b[0m 694us/step - loss: 3.4766e-04 - mae: 0.0095 - val_loss: 3.2728e-04 - val_mae: 0.0088\n",
      "Epoch 95/100\n",
      "\u001b[1m13400/13400\u001b[0m \u001b[32m━━━━━━━━━━━━━━━━━━━━\u001b[0m\u001b[37m\u001b[0m \u001b[1m8s\u001b[0m 588us/step - loss: 3.3930e-04 - mae: 0.0094 - val_loss: 3.2014e-04 - val_mae: 0.0088\n",
      "Epoch 96/100\n",
      "\u001b[1m13400/13400\u001b[0m \u001b[32m━━━━━━━━━━━━━━━━━━━━\u001b[0m\u001b[37m\u001b[0m \u001b[1m8s\u001b[0m 618us/step - loss: 3.4980e-04 - mae: 0.0094 - val_loss: 3.4065e-04 - val_mae: 0.0090\n",
      "Epoch 97/100\n",
      "\u001b[1m13400/13400\u001b[0m \u001b[32m━━━━━━━━━━━━━━━━━━━━\u001b[0m\u001b[37m\u001b[0m \u001b[1m9s\u001b[0m 634us/step - loss: 3.3969e-04 - mae: 0.0094 - val_loss: 3.7220e-04 - val_mae: 0.0112\n",
      "Epoch 98/100\n",
      "\u001b[1m13400/13400\u001b[0m \u001b[32m━━━━━━━━━━━━━━━━━━━━\u001b[0m\u001b[37m\u001b[0m \u001b[1m8s\u001b[0m 606us/step - loss: 3.4363e-04 - mae: 0.0095 - val_loss: 3.2020e-04 - val_mae: 0.0091\n",
      "Epoch 99/100\n",
      "\u001b[1m13400/13400\u001b[0m \u001b[32m━━━━━━━━━━━━━━━━━━━━\u001b[0m\u001b[37m\u001b[0m \u001b[1m8s\u001b[0m 625us/step - loss: 3.3473e-04 - mae: 0.0094 - val_loss: 3.2913e-04 - val_mae: 0.0097\n",
      "Epoch 100/100\n",
      "\u001b[1m13400/13400\u001b[0m \u001b[32m━━━━━━━━━━━━━━━━━━━━\u001b[0m\u001b[37m\u001b[0m \u001b[1m8s\u001b[0m 599us/step - loss: 3.3763e-04 - mae: 0.0095 - val_loss: 3.7835e-04 - val_mae: 0.0121\n",
      "\u001b[1m4188/4188\u001b[0m \u001b[32m━━━━━━━━━━━━━━━━━━━━\u001b[0m\u001b[37m\u001b[0m \u001b[1m1s\u001b[0m 283us/step\n",
      "Mean Squared Error (MSE): 0.00037363685614967166\n",
      "Mean Absolute Error (MAE): 0.012069051824982037\n",
      "R² Score: 0.9966261820410693\n"
     ]
    },
    {
     "data": {
      "image/png": "[encoded data removed]",
      "text/plain": [
       "<Figure size 640x480 with 1 Axes>"
      ]
     },
     "metadata": {},
     "output_type": "display_data"
    },
    {
     "name": "stdout",
     "output_type": "stream",
     "text": [
      "CPU times: user 16min 2s, sys: 1min 32s, total: 17min 34s\n",
      "Wall time: 13min 24s\n"
     ]
    }
   ],
   "source": [
    "%%time\n",
    "# Neural network Model\n",
    "model = tf.keras.Sequential([\n",
    "    tf.keras.Input(shape=(X_train.shape[1],)),\n",
    "    tf.keras.layers.Dense(32, activation='relu'),  \n",
    "    tf.keras.layers.Dense(16, activation='relu'),                            \n",
    "    tf.keras.layers.Dense(1, activation='linear')                           \n",
    "])\n",
    "\n",
    "# Compile the model\n",
    "model.compile(optimizer='adam', loss='mean_squared_error', metrics=['mae'])\n",
    "\n",
    "# Train the model\n",
    "model.fit(X_train, Y_train, epochs=100, batch_size=32, validation_split=0.2, verbose=1)\n",
    "\n",
    "# Predict on the test set\n",
    "Y_pred = model.predict(X_test)\n",
    "\n",
    "from sklearn.metrics import mean_absolute_error\n",
    "\n",
    "# Evaluate the model\n",
    "mse = mean_squared_error(Y_test, Y_pred)\n",
    "r2 = r2_score(Y_test, Y_pred)\n",
    "mae = mean_absolute_error(Y_test, Y_pred)\n",
    "\n",
    "\n",
    "# Output the results\n",
    "print(\"Mean Squared Error (MSE):\", mse)\n",
    "print(\"Mean Absolute Error (MAE):\", mae)\n",
    "print(\"R² Score:\", r2)\n",
    "\n",
    "import matplotlib.pyplot as plt\n",
    "plt.scatter(Y_test, Y_pred)\n",
    "plt.xlabel(\"Actual SOC\")\n",
    "plt.ylabel(\"Predicted SOC\")\n",
    "plt.title(\"Actual vs Predicted SOC (Neural Network)\")\n",
    "plt.show()"
   ]
  },
  {
   "cell_type": "code",
   "execution_count": null,
   "id": "1a5a02b5-7f23-4c83-babd-77b6ffb30b49",
   "metadata": {},
   "outputs": [],
   "source": []
  }
 ],
 "metadata": {
  "kernelspec": {
   "display_name": "Python 3 (ipykernel)",
   "language": "python",
   "name": "python3"
  },
  "language_info": {
   "codemirror_mode": {
    "name": "ipython",
    "version": 3
   },
   "file_extension": ".py",
   "mimetype": "text/x-python",
   "name": "python",
   "nbconvert_exporter": "python",
   "pygments_lexer": "ipython3",
   "version": "3.11.8"
  }
 },
 "nbformat": 4,
 "nbformat_minor": 5
}
