{
 "cells": [
  {
   "cell_type": "markdown",
   "id": "46085359-b070-4247-8a28-c74ab3342038",
   "metadata": {},
   "source": [
    "**SOC predition using Neural Network**"
   ]
  },
  {
   "cell_type": "code",
   "execution_count": null,
   "id": "376a585f-6bab-460f-a9cf-281ce4c05c6f",
   "metadata": {},
   "outputs": [],
   "source": []
  },
  {
   "cell_type": "code",
   "execution_count": null,
   "id": "ee5c8b21-bae5-4680-9a89-4b83a0420d44",
   "metadata": {},
   "outputs": [],
   "source": []
  }
 ],
 "metadata": {
  "kernelspec": {
   "display_name": "Python 3 (ipykernel)",
   "language": "python",
   "name": "python3"
  },
  "language_info": {
   "codemirror_mode": {
    "name": "ipython",
    "version": 3
   },
   "file_extension": ".py",
   "mimetype": "text/x-python",
   "name": "python",
   "nbconvert_exporter": "python",
   "pygments_lexer": "ipython3",
   "version": "3.11.8"
  }
 },
 "nbformat": 4,
 "nbformat_minor": 5
}
