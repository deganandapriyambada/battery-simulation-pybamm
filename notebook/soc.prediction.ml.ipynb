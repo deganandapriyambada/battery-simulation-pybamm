{
 "cells": [
  {
   "cell_type": "raw",
   "id": "3e4810fb-c490-4401-ba75-45cfdbe3f63c",
   "metadata": {},
   "source": [
    "**SOC predition SDBMS**"
   ]
  },
  {
   "cell_type": "markdown",
   "id": "c11cdc20-9e52-4bbb-a1dc-8aec0a544a68",
   "metadata": {},
   "source": [
    "Install pandas an sklearn"
   ]
  },
  {
   "cell_type": "code",
   "execution_count": 1,
   "id": "d34b8cff-8b87-43ed-a656-831e35c91ec3",
   "metadata": {
    "collapsed": true,
    "jupyter": {
     "outputs_hidden": true
    },
    "scrolled": true
   },
   "outputs": [
    {
     "name": "stdout",
     "output_type": "stream",
     "text": [
      "Requirement already satisfied: pandas in /Users/deganandaferdian/miniconda3/envs/battery-simulation-sdbms/lib/python3.11/site-packages (2.2.3)\n",
      "Collecting scikit-learn\n",
      "  Downloading scikit_learn-1.6.1-cp311-cp311-macosx_12_0_arm64.whl.metadata (31 kB)\n",
      "Collecting tensorflow\n",
      "  Downloading tensorflow-2.19.0-cp311-cp311-macosx_12_0_arm64.whl.metadata (4.0 kB)\n",
      "Requirement already satisfied: numpy>=1.23.2 in /Users/deganandaferdian/miniconda3/envs/battery-simulation-sdbms/lib/python3.11/site-packages (from pandas) (1.26.4)\n",
      "Requirement already satisfied: python-dateutil>=2.8.2 in /Users/deganandaferdian/miniconda3/envs/battery-simulation-sdbms/lib/python3.11/site-packages (from pandas) (2.9.0.post0)\n",
      "Requirement already satisfied: pytz>=2020.1 in /Users/deganandaferdian/miniconda3/envs/battery-simulation-sdbms/lib/python3.11/site-packages (from pandas) (2025.2)\n",
      "Requirement already satisfied: tzdata>=2022.7 in /Users/deganandaferdian/miniconda3/envs/battery-simulation-sdbms/lib/python3.11/site-packages (from pandas) (2025.2)\n",
      "Requirement already satisfied: scipy>=1.6.0 in /Users/deganandaferdian/miniconda3/envs/battery-simulation-sdbms/lib/python3.11/site-packages (from scikit-learn) (1.15.2)\n",
      "Collecting joblib>=1.2.0 (from scikit-learn)\n",
      "  Downloading joblib-1.5.1-py3-none-any.whl.metadata (5.6 kB)\n",
      "Collecting threadpoolctl>=3.1.0 (from scikit-learn)\n",
      "  Downloading threadpoolctl-3.6.0-py3-none-any.whl.metadata (13 kB)\n",
      "Collecting absl-py>=1.0.0 (from tensorflow)\n",
      "  Downloading absl_py-2.3.0-py3-none-any.whl.metadata (2.4 kB)\n",
      "Collecting astunparse>=1.6.0 (from tensorflow)\n",
      "  Downloading astunparse-1.6.3-py2.py3-none-any.whl.metadata (4.4 kB)\n",
      "Collecting flatbuffers>=24.3.25 (from tensorflow)\n",
      "  Downloading flatbuffers-25.2.10-py2.py3-none-any.whl.metadata (875 bytes)\n",
      "Collecting gast!=0.5.0,!=0.5.1,!=0.5.2,>=0.2.1 (from tensorflow)\n",
      "  Downloading gast-0.6.0-py3-none-any.whl.metadata (1.3 kB)\n",
      "Collecting google-pasta>=0.1.1 (from tensorflow)\n",
      "  Downloading google_pasta-0.2.0-py3-none-any.whl.metadata (814 bytes)\n",
      "Collecting libclang>=13.0.0 (from tensorflow)\n",
      "  Downloading libclang-18.1.1-1-py2.py3-none-macosx_11_0_arm64.whl.metadata (5.2 kB)\n",
      "Requirement already satisfied: opt-einsum>=2.3.2 in /Users/deganandaferdian/miniconda3/envs/battery-simulation-sdbms/lib/python3.11/site-packages (from tensorflow) (3.4.0)\n",
      "Requirement already satisfied: packaging in /Users/deganandaferdian/miniconda3/envs/battery-simulation-sdbms/lib/python3.11/site-packages (from tensorflow) (25.0)\n",
      "Collecting protobuf!=4.21.0,!=4.21.1,!=4.21.2,!=4.21.3,!=4.21.4,!=4.21.5,<6.0.0dev,>=3.20.3 (from tensorflow)\n",
      "  Downloading protobuf-5.29.5-cp38-abi3-macosx_10_9_universal2.whl.metadata (592 bytes)\n",
      "Requirement already satisfied: requests<3,>=2.21.0 in /Users/deganandaferdian/miniconda3/envs/battery-simulation-sdbms/lib/python3.11/site-packages (from tensorflow) (2.32.3)\n",
      "Requirement already satisfied: setuptools in /Users/deganandaferdian/miniconda3/envs/battery-simulation-sdbms/lib/python3.11/site-packages (from tensorflow) (78.1.1)\n",
      "Requirement already satisfied: six>=1.12.0 in /Users/deganandaferdian/miniconda3/envs/battery-simulation-sdbms/lib/python3.11/site-packages (from tensorflow) (1.17.0)\n",
      "Collecting termcolor>=1.1.0 (from tensorflow)\n",
      "  Downloading termcolor-3.1.0-py3-none-any.whl.metadata (6.4 kB)\n",
      "Requirement already satisfied: typing-extensions>=3.6.6 in /Users/deganandaferdian/miniconda3/envs/battery-simulation-sdbms/lib/python3.11/site-packages (from tensorflow) (4.13.2)\n",
      "Collecting wrapt>=1.11.0 (from tensorflow)\n",
      "  Downloading wrapt-1.17.2-cp311-cp311-macosx_11_0_arm64.whl.metadata (6.4 kB)\n",
      "Collecting grpcio<2.0,>=1.24.3 (from tensorflow)\n",
      "  Downloading grpcio-1.71.0-cp311-cp311-macosx_10_14_universal2.whl.metadata (3.8 kB)\n",
      "Collecting tensorboard~=2.19.0 (from tensorflow)\n",
      "  Downloading tensorboard-2.19.0-py3-none-any.whl.metadata (1.8 kB)\n",
      "Collecting keras>=3.5.0 (from tensorflow)\n",
      "  Downloading keras-3.10.0-py3-none-any.whl.metadata (6.0 kB)\n",
      "Requirement already satisfied: h5py>=3.11.0 in /Users/deganandaferdian/miniconda3/envs/battery-simulation-sdbms/lib/python3.11/site-packages (from tensorflow) (3.13.0)\n",
      "Requirement already satisfied: ml-dtypes<1.0.0,>=0.5.1 in /Users/deganandaferdian/miniconda3/envs/battery-simulation-sdbms/lib/python3.11/site-packages (from tensorflow) (0.5.1)\n",
      "Collecting tensorflow-io-gcs-filesystem>=0.23.1 (from tensorflow)\n",
      "  Downloading tensorflow_io_gcs_filesystem-0.37.1-cp311-cp311-macosx_12_0_arm64.whl.metadata (14 kB)\n",
      "Requirement already satisfied: charset_normalizer<4,>=2 in /Users/deganandaferdian/miniconda3/envs/battery-simulation-sdbms/lib/python3.11/site-packages (from requests<3,>=2.21.0->tensorflow) (3.4.2)\n",
      "Requirement already satisfied: idna<4,>=2.5 in /Users/deganandaferdian/miniconda3/envs/battery-simulation-sdbms/lib/python3.11/site-packages (from requests<3,>=2.21.0->tensorflow) (3.10)\n",
      "Requirement already satisfied: urllib3<3,>=1.21.1 in /Users/deganandaferdian/miniconda3/envs/battery-simulation-sdbms/lib/python3.11/site-packages (from requests<3,>=2.21.0->tensorflow) (2.4.0)\n",
      "Requirement already satisfied: certifi>=2017.4.17 in /Users/deganandaferdian/miniconda3/envs/battery-simulation-sdbms/lib/python3.11/site-packages (from requests<3,>=2.21.0->tensorflow) (2025.4.26)\n",
      "Collecting markdown>=2.6.8 (from tensorboard~=2.19.0->tensorflow)\n",
      "  Using cached markdown-3.8-py3-none-any.whl.metadata (5.1 kB)\n",
      "Collecting tensorboard-data-server<0.8.0,>=0.7.0 (from tensorboard~=2.19.0->tensorflow)\n",
      "  Downloading tensorboard_data_server-0.7.2-py3-none-any.whl.metadata (1.1 kB)\n",
      "Collecting werkzeug>=1.0.1 (from tensorboard~=2.19.0->tensorflow)\n",
      "  Using cached werkzeug-3.1.3-py3-none-any.whl.metadata (3.7 kB)\n",
      "Requirement already satisfied: wheel<1.0,>=0.23.0 in /Users/deganandaferdian/miniconda3/envs/battery-simulation-sdbms/lib/python3.11/site-packages (from astunparse>=1.6.0->tensorflow) (0.45.1)\n",
      "Requirement already satisfied: rich in /Users/deganandaferdian/miniconda3/envs/battery-simulation-sdbms/lib/python3.11/site-packages (from keras>=3.5.0->tensorflow) (14.0.0)\n",
      "Collecting namex (from keras>=3.5.0->tensorflow)\n",
      "  Downloading namex-0.1.0-py3-none-any.whl.metadata (322 bytes)\n",
      "Collecting optree (from keras>=3.5.0->tensorflow)\n",
      "  Downloading optree-0.16.0-cp311-cp311-macosx_11_0_arm64.whl.metadata (30 kB)\n",
      "Requirement already satisfied: MarkupSafe>=2.1.1 in /Users/deganandaferdian/miniconda3/envs/battery-simulation-sdbms/lib/python3.11/site-packages (from werkzeug>=1.0.1->tensorboard~=2.19.0->tensorflow) (3.0.2)\n",
      "Requirement already satisfied: markdown-it-py>=2.2.0 in /Users/deganandaferdian/miniconda3/envs/battery-simulation-sdbms/lib/python3.11/site-packages (from rich->keras>=3.5.0->tensorflow) (3.0.0)\n",
      "Requirement already satisfied: pygments<3.0.0,>=2.13.0 in /Users/deganandaferdian/miniconda3/envs/battery-simulation-sdbms/lib/python3.11/site-packages (from rich->keras>=3.5.0->tensorflow) (2.19.1)\n",
      "Requirement already satisfied: mdurl~=0.1 in /Users/deganandaferdian/miniconda3/envs/battery-simulation-sdbms/lib/python3.11/site-packages (from markdown-it-py>=2.2.0->rich->keras>=3.5.0->tensorflow) (0.1.2)\n",
      "Downloading scikit_learn-1.6.1-cp311-cp311-macosx_12_0_arm64.whl (11.1 MB)\n",
      "\u001b[2K   \u001b[38;2;114;156;31m━━━━━━━━━━━━━━━━━━━━━━━━━━━━━━━━━━━━━━━━\u001b[0m \u001b[32m11.1/11.1 MB\u001b[0m \u001b[31m1.3 MB/s\u001b[0m eta \u001b[36m0:00:00\u001b[0mm eta \u001b[36m0:00:01\u001b[0m[36m0:00:01\u001b[0m\n",
      "\u001b[?25hDownloading tensorflow-2.19.0-cp311-cp311-macosx_12_0_arm64.whl (252.6 MB)\n",
      "\u001b[2K   \u001b[38;2;114;156;31m━━━━━━━━━━━━━━━━━━━━━━━━━━━━━━━━━━━━━━━━\u001b[0m \u001b[32m252.6/252.6 MB\u001b[0m \u001b[31m1.7 MB/s\u001b[0m eta \u001b[36m0:00:00\u001b[0mm eta \u001b[36m0:00:01\u001b[0m[36m0:00:04\u001b[0mm\n",
      "\u001b[?25hDownloading grpcio-1.71.0-cp311-cp311-macosx_10_14_universal2.whl (11.3 MB)\n",
      "\u001b[2K   \u001b[38;2;114;156;31m━━━━━━━━━━━━━━━━━━━━━━━━━━━━━━━━━━━━━━━━\u001b[0m \u001b[32m11.3/11.3 MB\u001b[0m \u001b[31m1.9 MB/s\u001b[0m eta \u001b[36m0:00:00\u001b[0mm eta \u001b[36m0:00:01\u001b[0m[36m0:00:01\u001b[0m\n",
      "\u001b[?25hDownloading protobuf-5.29.5-cp38-abi3-macosx_10_9_universal2.whl (418 kB)\n",
      "Downloading tensorboard-2.19.0-py3-none-any.whl (5.5 MB)\n",
      "\u001b[2K   \u001b[38;2;114;156;31m━━━━━━━━━━━━━━━━━━━━━━━━━━━━━━━━━━━━━━━━\u001b[0m \u001b[32m5.5/5.5 MB\u001b[0m \u001b[31m1.4 MB/s\u001b[0m eta \u001b[36m0:00:00\u001b[0m MB/s\u001b[0m eta \u001b[36m0:00:01\u001b[0m:01\u001b[0m\n",
      "\u001b[?25hDownloading tensorboard_data_server-0.7.2-py3-none-any.whl (2.4 kB)\n",
      "Downloading absl_py-2.3.0-py3-none-any.whl (135 kB)\n",
      "Downloading astunparse-1.6.3-py2.py3-none-any.whl (12 kB)\n",
      "Downloading flatbuffers-25.2.10-py2.py3-none-any.whl (30 kB)\n",
      "Downloading gast-0.6.0-py3-none-any.whl (21 kB)\n",
      "Downloading google_pasta-0.2.0-py3-none-any.whl (57 kB)\n",
      "Downloading joblib-1.5.1-py3-none-any.whl (307 kB)\n",
      "Downloading keras-3.10.0-py3-none-any.whl (1.4 MB)\n",
      "\u001b[2K   \u001b[38;2;114;156;31m━━━━━━━━━━━━━━━━━━━━━━━━━━━━━━━━━━━━━━━━\u001b[0m \u001b[32m1.4/1.4 MB\u001b[0m \u001b[31m1.1 MB/s\u001b[0m eta \u001b[36m0:00:00\u001b[0m MB/s\u001b[0m eta \u001b[36m0:00:01\u001b[0m:01\u001b[0m\n",
      "\u001b[?25hDownloading libclang-18.1.1-1-py2.py3-none-macosx_11_0_arm64.whl (25.8 MB)\n",
      "\u001b[2K   \u001b[38;2;114;156;31m━━━━━━━━━━━━━━━━━━━━━━━━━━━━━━━━━━━━━━━━\u001b[0m \u001b[32m25.8/25.8 MB\u001b[0m \u001b[31m1.5 MB/s\u001b[0m eta \u001b[36m0:00:00\u001b[0m[36m0:00:01\u001b[0mm eta \u001b[36m0:00:01\u001b[0m\n",
      "\u001b[?25hUsing cached markdown-3.8-py3-none-any.whl (106 kB)\n",
      "Downloading tensorflow_io_gcs_filesystem-0.37.1-cp311-cp311-macosx_12_0_arm64.whl (3.5 MB)\n",
      "\u001b[2K   \u001b[38;2;114;156;31m━━━━━━━━━━━━━━━━━━━━━━━━━━━━━━━━━━━━━━━━\u001b[0m \u001b[32m3.5/3.5 MB\u001b[0m \u001b[31m1.9 MB/s\u001b[0m eta \u001b[36m0:00:00\u001b[0m MB/s\u001b[0m eta \u001b[36m0:00:01\u001b[0m\n",
      "\u001b[?25hDownloading termcolor-3.1.0-py3-none-any.whl (7.7 kB)\n",
      "Downloading threadpoolctl-3.6.0-py3-none-any.whl (18 kB)\n",
      "Using cached werkzeug-3.1.3-py3-none-any.whl (224 kB)\n",
      "Downloading wrapt-1.17.2-cp311-cp311-macosx_11_0_arm64.whl (38 kB)\n",
      "Downloading namex-0.1.0-py3-none-any.whl (5.9 kB)\n",
      "Downloading optree-0.16.0-cp311-cp311-macosx_11_0_arm64.whl (338 kB)\n",
      "Installing collected packages: namex, libclang, flatbuffers, wrapt, werkzeug, threadpoolctl, termcolor, tensorflow-io-gcs-filesystem, tensorboard-data-server, protobuf, optree, markdown, joblib, grpcio, google-pasta, gast, astunparse, absl-py, tensorboard, scikit-learn, keras, tensorflow\n",
      "\u001b[2K   \u001b[38;2;114;156;31m━━━━━━━━━━━━━━━━━━━━━━━━━━━━━━━━━━━━━━━━\u001b[0m \u001b[32m22/22\u001b[0m [tensorflow]0m \u001b[32m21/22\u001b[0m [tensorflow]it-learn]\n",
      "\u001b[1A\u001b[2KSuccessfully installed absl-py-2.3.0 astunparse-1.6.3 flatbuffers-25.2.10 gast-0.6.0 google-pasta-0.2.0 grpcio-1.71.0 joblib-1.5.1 keras-3.10.0 libclang-18.1.1 markdown-3.8 namex-0.1.0 optree-0.16.0 protobuf-5.29.5 scikit-learn-1.6.1 tensorboard-2.19.0 tensorboard-data-server-0.7.2 tensorflow-2.19.0 tensorflow-io-gcs-filesystem-0.37.1 termcolor-3.1.0 threadpoolctl-3.6.0 werkzeug-3.1.3 wrapt-1.17.2\n"
     ]
    }
   ],
   "source": [
    "!pip install pandas scikit-learn tensorflow\n"
   ]
  },
  {
   "cell_type": "code",
   "execution_count": 31,
   "id": "5723df53-bf4e-4722-b3aa-aac0245cee11",
   "metadata": {},
   "outputs": [],
   "source": [
    "import tensorflow as tf\n",
    "from sklearn.model_selection import train_test_split\n",
    "from sklearn.preprocessing import StandardScaler\n",
    "from sklearn.linear_model import LinearRegression\n",
    "from sklearn.metrics import mean_squared_error, r2_score"
   ]
  },
  {
   "cell_type": "markdown",
   "id": "76677179-b294-4844-afc8-7cef881a366c",
   "metadata": {},
   "source": [
    "Load data set to the dataframe"
   ]
  },
  {
   "cell_type": "code",
   "execution_count": 129,
   "id": "c23c3802-8934-4aa1-9624-cb41a470f053",
   "metadata": {},
   "outputs": [],
   "source": [
    "import pandas as pd\n",
    "dataSetLocation = \"./dataset/batch_battery_simulation_with_temp_and_degradation.csv\"\n",
    "dataFrame = pd.read_csv(dataSetLocation)"
   ]
  },
  {
   "cell_type": "markdown",
   "id": "3268ca53-d00a-40ba-8083-2da1c98c7ab2",
   "metadata": {},
   "source": [
    "remove unused column (timeDiff and variant)"
   ]
  },
  {
   "cell_type": "code",
   "execution_count": 130,
   "id": "a4d18c51-9fcc-48b5-8a55-b3690a061827",
   "metadata": {},
   "outputs": [],
   "source": [
    "dataFrame = dataFrame.drop('TimeDiff', axis=1).reset_index(drop=True)\n",
    "dataFrame = dataFrame.drop('Time [s]', axis=1).reset_index(drop=True)\n",
    "dataFrame = dataFrame.drop('Variant', axis=1).reset_index(drop=True)\n",
    "dataFrame = dataFrame.drop('BatteryCapacity', axis=1).reset_index(drop=True)\n",
    "# Drop SOC = 0\n",
    "dataFrame = dataFrame[dataFrame[\"SOC\"] > 1e-4].reset_index(drop=True)\n",
    "#dataFrame = dataFrame.drop('X-averaged cell temperature [K]', axis=1).reset_index(drop=True)\n",
    "dataFrame = dataFrame.drop('CapacityDiff', axis=1).reset_index(drop=True)"
   ]
  },
  {
   "cell_type": "code",
   "execution_count": 131,
   "id": "34a0e18c-16c8-43ba-afd6-4cfab9bc8c46",
   "metadata": {},
   "outputs": [
    {
     "name": "stdout",
     "output_type": "stream",
     "text": [
      "   Current [A]  Voltage [V]  X-averaged cell temperature [K]       SOC\n",
      "0     0.833333     4.144029                       298.150000  1.000000\n",
      "1     0.833333     4.139940                       298.153589  0.999769\n",
      "2     0.833333     4.136843                       298.157207  0.999537\n",
      "3     0.833333     4.134350                       298.160846  0.999306\n",
      "4     0.833333     4.132251                       298.164499  0.999074\n",
      "0.0002314814815488\n",
      "1.0\n"
     ]
    }
   ],
   "source": [
    "print(dataFrame.head())\n",
    "print(dataFrame[\"SOC\"].min())\n",
    "print(dataFrame[\"SOC\"].max())\n"
   ]
  },
  {
   "cell_type": "markdown",
   "id": "38a09ce2-d17e-46a3-a821-2e22c998f4d4",
   "metadata": {},
   "source": [
    "Check Data Dimension"
   ]
  },
  {
   "cell_type": "code",
   "execution_count": 132,
   "id": "e81f32cb-955c-45d2-8687-6a2b17e4c5ae",
   "metadata": {},
   "outputs": [
    {
     "name": "stdout",
     "output_type": "stream",
     "text": [
      "(172800, 4)\n"
     ]
    }
   ],
   "source": [
    "print(dataFrame.shape)"
   ]
  },
  {
   "cell_type": "markdown",
   "id": "d518a853-aa8a-4969-8275-c67938b4537c",
   "metadata": {},
   "source": [
    "Check Mean,Median,Mode, Quartile, Standard Deviation"
   ]
  },
  {
   "cell_type": "code",
   "execution_count": 133,
   "id": "9dde5a6d-6fec-44fe-b9cc-707372ac1b80",
   "metadata": {},
   "outputs": [
    {
     "name": "stdout",
     "output_type": "stream",
     "text": [
      "                            Column        Mean      Median        Mode  \\\n",
      "0                      Current [A]    0.670833    0.670833    0.508333   \n",
      "1                      Voltage [V]    3.803280    3.810739    2.752547   \n",
      "2  X-averaged cell temperature [K]  298.469821  298.461709  298.150000   \n",
      "3                              SOC    0.500116    0.500116    0.000231   \n",
      "\n",
      "           Q1          Q3   Std Dev  \n",
      "0    0.589583    0.752083  0.096195  \n",
      "1    3.644207    3.999975  0.215181  \n",
      "2  298.388253  298.547301  0.100881  \n",
      "3    0.250174    0.750058  0.288676  \n"
     ]
    }
   ],
   "source": [
    "numeric_cols = dataFrame.select_dtypes(include=['number']).columns\n",
    "\n",
    "stats_list = []\n",
    "for col in numeric_cols:\n",
    "    stats = {\n",
    "        'Column': col,\n",
    "        'Mean': dataFrame[col].mean(),\n",
    "        'Median': dataFrame[col].median(),\n",
    "        'Mode': dataFrame[col].mode().values[0] if not dataFrame[col].mode().empty else None,\n",
    "        'Q1': dataFrame[col].quantile(0.25),\n",
    "        'Q3': dataFrame[col].quantile(0.75),\n",
    "        'Std Dev': dataFrame[col].std()\n",
    "    }\n",
    "    stats_list.append(stats)\n",
    "\n",
    "descriptiveStatisticDataFrame = pd.DataFrame(stats_list)\n",
    "print(descriptiveStatisticDataFrame)"
   ]
  },
  {
   "cell_type": "code",
   "execution_count": 134,
   "id": "cbcea26b-e5e8-422b-8a83-b7ac4ddacd57",
   "metadata": {},
   "outputs": [
    {
     "data": {
      "image/png": "[encoded data removed]",
      "text/plain": [
       "<Figure size 640x480 with 1 Axes>"
      ]
     },
     "metadata": {},
     "output_type": "display_data"
    },
    {
     "name": "stdout",
     "output_type": "stream",
     "text": [
      "   Current [A]  Voltage [V]  X-averaged cell temperature [K]       SOC\n",
      "0     0.833333     4.144029                       298.150000  1.000000\n",
      "1     0.833333     4.139940                       298.153589  0.999769\n",
      "2     0.833333     4.136843                       298.157207  0.999537\n",
      "3     0.833333     4.134350                       298.160846  0.999306\n",
      "4     0.833333     4.132251                       298.164499  0.999074\n"
     ]
    }
   ],
   "source": [
    "import matplotlib.pyplot as plt\n",
    "\n",
    "plt.hist(dataFrame[\"SOC\"], bins=100, color=\"skyblue\", edgecolor=\"black\")\n",
    "plt.xlabel(\"SOC\")\n",
    "plt.ylabel(\"Frequency\")\n",
    "plt.title(\"SOC Distribution\")\n",
    "plt.show()\n",
    "\n",
    "print(dataFrame.head())"
   ]
  },
  {
   "cell_type": "markdown",
   "id": "dcf719d0-c54f-418f-bb6c-a1eabae0664e",
   "metadata": {},
   "source": [
    "Split X (Feature: Current, Voltage, CapacityDiff, BatteryCapacity) and Y (target: SOC)"
   ]
  },
  {
   "cell_type": "code",
   "execution_count": 135,
   "id": "0644c7b4-bf43-4d60-8ba7-1df48a7429bb",
   "metadata": {
    "scrolled": true
   },
   "outputs": [
    {
     "name": "stdout",
     "output_type": "stream",
     "text": [
      "feature: \n",
      "        Current [A]  Voltage [V]  X-averaged cell temperature [K]\n",
      "0          0.833333     4.144029                       298.150000\n",
      "1          0.833333     4.139940                       298.153589\n",
      "2          0.833333     4.136843                       298.157207\n",
      "3          0.833333     4.134350                       298.160846\n",
      "4          0.833333     4.132251                       298.164499\n",
      "...             ...          ...                              ...\n",
      "172795     0.508333     3.639226                       298.328044\n",
      "172796     0.508333     3.639129                       298.328050\n",
      "172797     0.508333     3.639032                       298.328056\n",
      "172798     0.508333     3.638935                       298.328062\n",
      "172799     0.508333     3.638838                       298.328068\n",
      "\n",
      "[172800 rows x 3 columns]\n",
      "target: \n",
      "0         1.000000\n",
      "1         0.999769\n",
      "2         0.999537\n",
      "3         0.999306\n",
      "4         0.999074\n",
      "            ...   \n",
      "172795    0.001157\n",
      "172796    0.000926\n",
      "172797    0.000694\n",
      "172798    0.000463\n",
      "172799    0.000231\n",
      "Name: SOC, Length: 172800, dtype: float64\n"
     ]
    }
   ],
   "source": [
    "Y = dataFrame['SOC']\n",
    "X = dataFrame.drop('SOC', axis=1)\n",
    "print(\"feature: \")\n",
    "print(X)\n",
    "print(\"target: \")\n",
    "print(Y)"
   ]
  },
  {
   "cell_type": "markdown",
   "id": "f6e726d7-bad4-45a8-a1e4-44ac40758baf",
   "metadata": {},
   "source": [
    "Split 0.3 for test, 0.7 for training"
   ]
  },
  {
   "cell_type": "code",
   "execution_count": 136,
   "id": "59ee0783-3125-47f1-866d-e8abe0a9e082",
   "metadata": {},
   "outputs": [],
   "source": [
    "# Split into training and test sets\n",
    "X_train, X_test, Y_train, Y_test = train_test_split(X, Y, test_size=0.3, shuffle=True, random_state=52)"
   ]
  },
  {
   "cell_type": "markdown",
   "id": "789bc1d5-a5d4-4d9e-947d-4de0b814a7c5",
   "metadata": {},
   "source": [
    "Normalize"
   ]
  },
  {
   "cell_type": "code",
   "execution_count": 137,
   "id": "e5e79dfb-a9d7-4f9b-9510-e948eae36c70",
   "metadata": {},
   "outputs": [],
   "source": [
    "scaler = StandardScaler()\n",
    "X_train = scaler.fit_transform(X_train)\n",
    "X_test = scaler.transform(X_test)"
   ]
  },
  {
   "cell_type": "markdown",
   "id": "4dd77162-755d-4655-baed-bfd2c1fd79ea",
   "metadata": {},
   "source": [
    "Train & Evaluate using TensorFlow"
   ]
  },
  {
   "cell_type": "code",
   "execution_count": 138,
   "id": "6a96015a-8e70-4731-9fdd-c94265a0344b",
   "metadata": {},
   "outputs": [
    {
     "name": "stdout",
     "output_type": "stream",
     "text": [
      "Epoch 1/100\n",
      "\u001b[1m2646/2646\u001b[0m \u001b[32m━━━━━━━━━━━━━━━━━━━━\u001b[0m\u001b[37m\u001b[0m \u001b[1m3s\u001b[0m 806us/step - loss: 0.0310 - mae: 0.0652 - val_loss: 1.1483e-04 - val_mae: 0.0077\n",
      "Epoch 2/100\n",
      "\u001b[1m2646/2646\u001b[0m \u001b[32m━━━━━━━━━━━━━━━━━━━━\u001b[0m\u001b[37m\u001b[0m \u001b[1m2s\u001b[0m 848us/step - loss: 9.9851e-05 - mae: 0.0072 - val_loss: 7.0487e-05 - val_mae: 0.0059\n",
      "Epoch 3/100\n",
      "\u001b[1m2646/2646\u001b[0m \u001b[32m━━━━━━━━━━━━━━━━━━━━\u001b[0m\u001b[37m\u001b[0m \u001b[1m2s\u001b[0m 834us/step - loss: 7.4572e-05 - mae: 0.0061 - val_loss: 6.9693e-05 - val_mae: 0.0063\n",
      "Epoch 4/100\n",
      "\u001b[1m2646/2646\u001b[0m \u001b[32m━━━━━━━━━━━━━━━━━━━━\u001b[0m\u001b[37m\u001b[0m \u001b[1m2s\u001b[0m 895us/step - loss: 5.5121e-05 - mae: 0.0054 - val_loss: 6.5893e-05 - val_mae: 0.0064\n",
      "Epoch 5/100\n",
      "\u001b[1m2646/2646\u001b[0m \u001b[32m━━━━━━━━━━━━━━━━━━━━\u001b[0m\u001b[37m\u001b[0m \u001b[1m2s\u001b[0m 859us/step - loss: 4.3807e-05 - mae: 0.0048 - val_loss: 2.4850e-05 - val_mae: 0.0037\n",
      "Epoch 6/100\n",
      "\u001b[1m2646/2646\u001b[0m \u001b[32m━━━━━━━━━━━━━━━━━━━━\u001b[0m\u001b[37m\u001b[0m \u001b[1m2s\u001b[0m 789us/step - loss: 3.5180e-05 - mae: 0.0043 - val_loss: 2.1466e-05 - val_mae: 0.0035\n",
      "Epoch 7/100\n",
      "\u001b[1m2646/2646\u001b[0m \u001b[32m━━━━━━━━━━━━━━━━━━━━\u001b[0m\u001b[37m\u001b[0m \u001b[1m2s\u001b[0m 794us/step - loss: 2.7723e-05 - mae: 0.0038 - val_loss: 2.4188e-05 - val_mae: 0.0036\n",
      "Epoch 8/100\n",
      "\u001b[1m2646/2646\u001b[0m \u001b[32m━━━━━━━━━━━━━━━━━━━━\u001b[0m\u001b[37m\u001b[0m \u001b[1m2s\u001b[0m 852us/step - loss: 2.4261e-05 - mae: 0.0036 - val_loss: 2.7544e-05 - val_mae: 0.0044\n",
      "Epoch 9/100\n",
      "\u001b[1m2646/2646\u001b[0m \u001b[32m━━━━━━━━━━━━━━━━━━━━\u001b[0m\u001b[37m\u001b[0m \u001b[1m2s\u001b[0m 831us/step - loss: 2.0410e-05 - mae: 0.0033 - val_loss: 1.7293e-05 - val_mae: 0.0029\n",
      "Epoch 10/100\n",
      "\u001b[1m2646/2646\u001b[0m \u001b[32m━━━━━━━━━━━━━━━━━━━━\u001b[0m\u001b[37m\u001b[0m \u001b[1m2s\u001b[0m 840us/step - loss: 1.9085e-05 - mae: 0.0031 - val_loss: 6.4015e-05 - val_mae: 0.0058\n",
      "Epoch 11/100\n",
      "\u001b[1m2646/2646\u001b[0m \u001b[32m━━━━━━━━━━━━━━━━━━━━\u001b[0m\u001b[37m\u001b[0m \u001b[1m2s\u001b[0m 903us/step - loss: 1.7881e-05 - mae: 0.0030 - val_loss: 2.3422e-05 - val_mae: 0.0037\n",
      "Epoch 12/100\n",
      "\u001b[1m2646/2646\u001b[0m \u001b[32m━━━━━━━━━━━━━━━━━━━━\u001b[0m\u001b[37m\u001b[0m \u001b[1m2s\u001b[0m 905us/step - loss: 1.7038e-05 - mae: 0.0029 - val_loss: 9.7481e-06 - val_mae: 0.0024\n",
      "Epoch 13/100\n",
      "\u001b[1m2646/2646\u001b[0m \u001b[32m━━━━━━━━━━━━━━━━━━━━\u001b[0m\u001b[37m\u001b[0m \u001b[1m2s\u001b[0m 897us/step - loss: 1.6452e-05 - mae: 0.0029 - val_loss: 1.1182e-05 - val_mae: 0.0024\n",
      "Epoch 14/100\n",
      "\u001b[1m2646/2646\u001b[0m \u001b[32m━━━━━━━━━━━━━━━━━━━━\u001b[0m\u001b[37m\u001b[0m \u001b[1m3s\u001b[0m 1ms/step - loss: 1.7450e-05 - mae: 0.0028 - val_loss: 9.5171e-06 - val_mae: 0.0023\n",
      "Epoch 15/100\n",
      "\u001b[1m2646/2646\u001b[0m \u001b[32m━━━━━━━━━━━━━━━━━━━━\u001b[0m\u001b[37m\u001b[0m \u001b[1m2s\u001b[0m 930us/step - loss: 1.4911e-05 - mae: 0.0026 - val_loss: 9.1724e-06 - val_mae: 0.0022\n",
      "Epoch 16/100\n",
      "\u001b[1m2646/2646\u001b[0m \u001b[32m━━━━━━━━━━━━━━━━━━━━\u001b[0m\u001b[37m\u001b[0m \u001b[1m3s\u001b[0m 1ms/step - loss: 1.1523e-05 - mae: 0.0024 - val_loss: 9.6480e-06 - val_mae: 0.0023\n",
      "Epoch 17/100\n",
      "\u001b[1m2646/2646\u001b[0m \u001b[32m━━━━━━━━━━━━━━━━━━━━\u001b[0m\u001b[37m\u001b[0m \u001b[1m3s\u001b[0m 966us/step - loss: 1.2669e-05 - mae: 0.0025 - val_loss: 1.0128e-05 - val_mae: 0.0025\n",
      "Epoch 18/100\n",
      "\u001b[1m2646/2646\u001b[0m \u001b[32m━━━━━━━━━━━━━━━━━━━━\u001b[0m\u001b[37m\u001b[0m \u001b[1m3s\u001b[0m 1ms/step - loss: 1.1542e-05 - mae: 0.0022 - val_loss: 6.3601e-06 - val_mae: 0.0018\n",
      "Epoch 19/100\n",
      "\u001b[1m2646/2646\u001b[0m \u001b[32m━━━━━━━━━━━━━━━━━━━━\u001b[0m\u001b[37m\u001b[0m \u001b[1m2s\u001b[0m 867us/step - loss: 7.3976e-06 - mae: 0.0019 - val_loss: 2.2669e-05 - val_mae: 0.0025\n",
      "Epoch 20/100\n",
      "\u001b[1m2646/2646\u001b[0m \u001b[32m━━━━━━━━━━━━━━━━━━━━\u001b[0m\u001b[37m\u001b[0m \u001b[1m3s\u001b[0m 1ms/step - loss: 8.2370e-06 - mae: 0.0020 - val_loss: 5.5592e-06 - val_mae: 0.0017\n",
      "Epoch 21/100\n",
      "\u001b[1m2646/2646\u001b[0m \u001b[32m━━━━━━━━━━━━━━━━━━━━\u001b[0m\u001b[37m\u001b[0m \u001b[1m3s\u001b[0m 984us/step - loss: 9.4976e-06 - mae: 0.0022 - val_loss: 1.1519e-05 - val_mae: 0.0028\n",
      "Epoch 22/100\n",
      "\u001b[1m2646/2646\u001b[0m \u001b[32m━━━━━━━━━━━━━━━━━━━━\u001b[0m\u001b[37m\u001b[0m \u001b[1m3s\u001b[0m 1ms/step - loss: 6.8679e-06 - mae: 0.0018 - val_loss: 2.4066e-06 - val_mae: 0.0011\n",
      "Epoch 23/100\n",
      "\u001b[1m2646/2646\u001b[0m \u001b[32m━━━━━━━━━━━━━━━━━━━━\u001b[0m\u001b[37m\u001b[0m \u001b[1m2s\u001b[0m 914us/step - loss: 7.9833e-06 - mae: 0.0019 - val_loss: 7.7665e-06 - val_mae: 0.0017\n",
      "Epoch 24/100\n",
      "\u001b[1m2646/2646\u001b[0m \u001b[32m━━━━━━━━━━━━━━━━━━━━\u001b[0m\u001b[37m\u001b[0m \u001b[1m2s\u001b[0m 889us/step - loss: 7.4619e-06 - mae: 0.0019 - val_loss: 1.9442e-06 - val_mae: 0.0011\n",
      "Epoch 25/100\n",
      "\u001b[1m2646/2646\u001b[0m \u001b[32m━━━━━━━━━━━━━━━━━━━━\u001b[0m\u001b[37m\u001b[0m \u001b[1m3s\u001b[0m 960us/step - loss: 7.9883e-06 - mae: 0.0020 - val_loss: 3.1327e-06 - val_mae: 0.0012\n",
      "Epoch 26/100\n",
      "\u001b[1m2646/2646\u001b[0m \u001b[32m━━━━━━━━━━━━━━━━━━━━\u001b[0m\u001b[37m\u001b[0m \u001b[1m3s\u001b[0m 1ms/step - loss: 7.8191e-06 - mae: 0.0018 - val_loss: 2.3560e-06 - val_mae: 0.0011\n",
      "Epoch 27/100\n",
      "\u001b[1m2646/2646\u001b[0m \u001b[32m━━━━━━━━━━━━━━━━━━━━\u001b[0m\u001b[37m\u001b[0m \u001b[1m3s\u001b[0m 1ms/step - loss: 5.6010e-06 - mae: 0.0017 - val_loss: 4.3522e-06 - val_mae: 0.0017\n",
      "Epoch 28/100\n",
      "\u001b[1m2646/2646\u001b[0m \u001b[32m━━━━━━━━━━━━━━━━━━━━\u001b[0m\u001b[37m\u001b[0m \u001b[1m3s\u001b[0m 1ms/step - loss: 6.5299e-06 - mae: 0.0018 - val_loss: 5.4661e-06 - val_mae: 0.0018\n",
      "Epoch 29/100\n",
      "\u001b[1m2646/2646\u001b[0m \u001b[32m━━━━━━━━━━━━━━━━━━━━\u001b[0m\u001b[37m\u001b[0m \u001b[1m3s\u001b[0m 946us/step - loss: 7.8303e-06 - mae: 0.0019 - val_loss: 3.6042e-06 - val_mae: 0.0014\n",
      "Epoch 30/100\n",
      "\u001b[1m2646/2646\u001b[0m \u001b[32m━━━━━━━━━━━━━━━━━━━━\u001b[0m\u001b[37m\u001b[0m \u001b[1m3s\u001b[0m 1ms/step - loss: 5.5429e-06 - mae: 0.0015 - val_loss: 7.7088e-06 - val_mae: 0.0017\n",
      "Epoch 31/100\n",
      "\u001b[1m2646/2646\u001b[0m \u001b[32m━━━━━━━━━━━━━━━━━━━━\u001b[0m\u001b[37m\u001b[0m \u001b[1m3s\u001b[0m 1ms/step - loss: 5.9722e-06 - mae: 0.0016 - val_loss: 5.2551e-06 - val_mae: 0.0019\n",
      "Epoch 32/100\n",
      "\u001b[1m2646/2646\u001b[0m \u001b[32m━━━━━━━━━━━━━━━━━━━━\u001b[0m\u001b[37m\u001b[0m \u001b[1m3s\u001b[0m 1ms/step - loss: 6.3290e-06 - mae: 0.0017 - val_loss: 4.2218e-06 - val_mae: 0.0016\n",
      "Epoch 33/100\n",
      "\u001b[1m2646/2646\u001b[0m \u001b[32m━━━━━━━━━━━━━━━━━━━━\u001b[0m\u001b[37m\u001b[0m \u001b[1m3s\u001b[0m 990us/step - loss: 5.6394e-06 - mae: 0.0016 - val_loss: 2.5215e-05 - val_mae: 0.0037\n",
      "Epoch 34/100\n",
      "\u001b[1m2646/2646\u001b[0m \u001b[32m━━━━━━━━━━━━━━━━━━━━\u001b[0m\u001b[37m\u001b[0m \u001b[1m3s\u001b[0m 990us/step - loss: 5.1061e-06 - mae: 0.0016 - val_loss: 4.1901e-06 - val_mae: 0.0016\n",
      "Epoch 35/100\n",
      "\u001b[1m2646/2646\u001b[0m \u001b[32m━━━━━━━━━━━━━━━━━━━━\u001b[0m\u001b[37m\u001b[0m \u001b[1m3s\u001b[0m 942us/step - loss: 4.7253e-06 - mae: 0.0015 - val_loss: 2.6567e-06 - val_mae: 0.0013\n",
      "Epoch 36/100\n",
      "\u001b[1m2646/2646\u001b[0m \u001b[32m━━━━━━━━━━━━━━━━━━━━\u001b[0m\u001b[37m\u001b[0m \u001b[1m3s\u001b[0m 1ms/step - loss: 4.2164e-06 - mae: 0.0014 - val_loss: 1.3407e-05 - val_mae: 0.0028\n",
      "Epoch 37/100\n",
      "\u001b[1m2646/2646\u001b[0m \u001b[32m━━━━━━━━━━━━━━━━━━━━\u001b[0m\u001b[37m\u001b[0m \u001b[1m3s\u001b[0m 1ms/step - loss: 4.6760e-06 - mae: 0.0015 - val_loss: 2.7243e-06 - val_mae: 0.0012\n",
      "Epoch 38/100\n",
      "\u001b[1m2646/2646\u001b[0m \u001b[32m━━━━━━━━━━━━━━━━━━━━\u001b[0m\u001b[37m\u001b[0m \u001b[1m3s\u001b[0m 951us/step - loss: 4.4925e-06 - mae: 0.0015 - val_loss: 3.0034e-06 - val_mae: 0.0013\n",
      "Epoch 39/100\n",
      "\u001b[1m2646/2646\u001b[0m \u001b[32m━━━━━━━━━━━━━━━━━━━━\u001b[0m\u001b[37m\u001b[0m \u001b[1m3s\u001b[0m 973us/step - loss: 3.5876e-06 - mae: 0.0013 - val_loss: 2.1599e-06 - val_mae: 0.0010\n",
      "Epoch 40/100\n",
      "\u001b[1m2646/2646\u001b[0m \u001b[32m━━━━━━━━━━━━━━━━━━━━\u001b[0m\u001b[37m\u001b[0m \u001b[1m3s\u001b[0m 1ms/step - loss: 3.9108e-06 - mae: 0.0014 - val_loss: 1.3343e-06 - val_mae: 8.5479e-04\n",
      "Epoch 41/100\n",
      "\u001b[1m2646/2646\u001b[0m \u001b[32m━━━━━━━━━━━━━━━━━━━━\u001b[0m\u001b[37m\u001b[0m \u001b[1m3s\u001b[0m 1ms/step - loss: 3.9257e-06 - mae: 0.0013 - val_loss: 1.1105e-05 - val_mae: 0.0028\n",
      "Epoch 42/100\n",
      "\u001b[1m2646/2646\u001b[0m \u001b[32m━━━━━━━━━━━━━━━━━━━━\u001b[0m\u001b[37m\u001b[0m \u001b[1m3s\u001b[0m 993us/step - loss: 4.1456e-06 - mae: 0.0014 - val_loss: 3.4786e-06 - val_mae: 0.0011\n",
      "Epoch 43/100\n",
      "\u001b[1m2646/2646\u001b[0m \u001b[32m━━━━━━━━━━━━━━━━━━━━\u001b[0m\u001b[37m\u001b[0m \u001b[1m2s\u001b[0m 906us/step - loss: 3.7740e-06 - mae: 0.0013 - val_loss: 2.3613e-06 - val_mae: 0.0013\n",
      "Epoch 44/100\n",
      "\u001b[1m2646/2646\u001b[0m \u001b[32m━━━━━━━━━━━━━━━━━━━━\u001b[0m\u001b[37m\u001b[0m \u001b[1m3s\u001b[0m 1ms/step - loss: 4.1884e-06 - mae: 0.0014 - val_loss: 2.3762e-06 - val_mae: 0.0011\n",
      "Epoch 45/100\n",
      "\u001b[1m2646/2646\u001b[0m \u001b[32m━━━━━━━━━━━━━━━━━━━━\u001b[0m\u001b[37m\u001b[0m \u001b[1m3s\u001b[0m 1ms/step - loss: 3.2958e-06 - mae: 0.0013 - val_loss: 1.5087e-06 - val_mae: 9.1579e-04\n",
      "Epoch 46/100\n",
      "\u001b[1m2646/2646\u001b[0m \u001b[32m━━━━━━━━━━━━━━━━━━━━\u001b[0m\u001b[37m\u001b[0m \u001b[1m3s\u001b[0m 976us/step - loss: 3.0910e-06 - mae: 0.0012 - val_loss: 3.7941e-06 - val_mae: 0.0011\n",
      "Epoch 47/100\n",
      "\u001b[1m2646/2646\u001b[0m \u001b[32m━━━━━━━━━━━━━━━━━━━━\u001b[0m\u001b[37m\u001b[0m \u001b[1m3s\u001b[0m 949us/step - loss: 4.0522e-06 - mae: 0.0014 - val_loss: 1.6024e-06 - val_mae: 9.0086e-04\n",
      "Epoch 48/100\n",
      "\u001b[1m2646/2646\u001b[0m \u001b[32m━━━━━━━━━━━━━━━━━━━━\u001b[0m\u001b[37m\u001b[0m \u001b[1m3s\u001b[0m 1ms/step - loss: 3.7535e-06 - mae: 0.0013 - val_loss: 1.4820e-06 - val_mae: 8.8406e-04\n",
      "Epoch 49/100\n",
      "\u001b[1m2646/2646\u001b[0m \u001b[32m━━━━━━━━━━━━━━━━━━━━\u001b[0m\u001b[37m\u001b[0m \u001b[1m3s\u001b[0m 1ms/step - loss: 3.3888e-06 - mae: 0.0013 - val_loss: 1.8371e-06 - val_mae: 9.6129e-04\n",
      "Epoch 50/100\n",
      "\u001b[1m2646/2646\u001b[0m \u001b[32m━━━━━━━━━━━━━━━━━━━━\u001b[0m\u001b[37m\u001b[0m \u001b[1m3s\u001b[0m 1ms/step - loss: 3.1660e-06 - mae: 0.0012 - val_loss: 5.0079e-06 - val_mae: 0.0016\n",
      "Epoch 51/100\n",
      "\u001b[1m2646/2646\u001b[0m \u001b[32m━━━━━━━━━━━━━━━━━━━━\u001b[0m\u001b[37m\u001b[0m \u001b[1m3s\u001b[0m 1ms/step - loss: 4.1034e-06 - mae: 0.0014 - val_loss: 1.1916e-06 - val_mae: 7.8533e-04\n",
      "Epoch 52/100\n",
      "\u001b[1m2646/2646\u001b[0m \u001b[32m━━━━━━━━━━━━━━━━━━━━\u001b[0m\u001b[37m\u001b[0m \u001b[1m2s\u001b[0m 933us/step - loss: 3.7826e-06 - mae: 0.0014 - val_loss: 2.1053e-06 - val_mae: 0.0011\n",
      "Epoch 53/100\n",
      "\u001b[1m2646/2646\u001b[0m \u001b[32m━━━━━━━━━━━━━━━━━━━━\u001b[0m\u001b[37m\u001b[0m \u001b[1m3s\u001b[0m 1ms/step - loss: 3.1771e-06 - mae: 0.0012 - val_loss: 2.4024e-06 - val_mae: 0.0013\n",
      "Epoch 54/100\n",
      "\u001b[1m2646/2646\u001b[0m \u001b[32m━━━━━━━━━━━━━━━━━━━━\u001b[0m\u001b[37m\u001b[0m \u001b[1m3s\u001b[0m 1ms/step - loss: 2.9578e-06 - mae: 0.0012 - val_loss: 1.5378e-05 - val_mae: 0.0030\n",
      "Epoch 55/100\n",
      "\u001b[1m2646/2646\u001b[0m \u001b[32m━━━━━━━━━━━━━━━━━━━━\u001b[0m\u001b[37m\u001b[0m \u001b[1m3s\u001b[0m 1ms/step - loss: 3.9632e-06 - mae: 0.0014 - val_loss: 2.2827e-06 - val_mae: 9.8866e-04\n",
      "Epoch 56/100\n",
      "\u001b[1m2646/2646\u001b[0m \u001b[32m━━━━━━━━━━━━━━━━━━━━\u001b[0m\u001b[37m\u001b[0m \u001b[1m3s\u001b[0m 1ms/step - loss: 2.9283e-06 - mae: 0.0012 - val_loss: 3.3700e-06 - val_mae: 0.0015\n",
      "Epoch 57/100\n",
      "\u001b[1m2646/2646\u001b[0m \u001b[32m━━━━━━━━━━━━━━━━━━━━\u001b[0m\u001b[37m\u001b[0m \u001b[1m2s\u001b[0m 933us/step - loss: 3.6976e-06 - mae: 0.0013 - val_loss: 1.3458e-06 - val_mae: 8.5110e-04\n",
      "Epoch 58/100\n",
      "\u001b[1m2646/2646\u001b[0m \u001b[32m━━━━━━━━━━━━━━━━━━━━\u001b[0m\u001b[37m\u001b[0m \u001b[1m3s\u001b[0m 996us/step - loss: 3.1355e-06 - mae: 0.0012 - val_loss: 4.1338e-06 - val_mae: 0.0015\n",
      "Epoch 59/100\n",
      "\u001b[1m2646/2646\u001b[0m \u001b[32m━━━━━━━━━━━━━━━━━━━━\u001b[0m\u001b[37m\u001b[0m \u001b[1m3s\u001b[0m 1ms/step - loss: 3.4141e-06 - mae: 0.0013 - val_loss: 2.2164e-06 - val_mae: 0.0011\n",
      "Epoch 60/100\n",
      "\u001b[1m2646/2646\u001b[0m \u001b[32m━━━━━━━━━━━━━━━━━━━━\u001b[0m\u001b[37m\u001b[0m \u001b[1m3s\u001b[0m 1ms/step - loss: 2.6716e-06 - mae: 0.0012 - val_loss: 2.6524e-06 - val_mae: 0.0012\n",
      "Epoch 61/100\n",
      "\u001b[1m2646/2646\u001b[0m \u001b[32m━━━━━━━━━━━━━━━━━━━━\u001b[0m\u001b[37m\u001b[0m \u001b[1m3s\u001b[0m 1ms/step - loss: 2.8876e-06 - mae: 0.0012 - val_loss: 3.9487e-06 - val_mae: 0.0014\n",
      "Epoch 62/100\n",
      "\u001b[1m2646/2646\u001b[0m \u001b[32m━━━━━━━━━━━━━━━━━━━━\u001b[0m\u001b[37m\u001b[0m \u001b[1m3s\u001b[0m 989us/step - loss: 3.1431e-06 - mae: 0.0012 - val_loss: 6.3623e-06 - val_mae: 0.0018\n",
      "Epoch 63/100\n",
      "\u001b[1m2646/2646\u001b[0m \u001b[32m━━━━━━━━━━━━━━━━━━━━\u001b[0m\u001b[37m\u001b[0m \u001b[1m3s\u001b[0m 1ms/step - loss: 2.6019e-06 - mae: 0.0011 - val_loss: 3.4896e-06 - val_mae: 0.0014\n",
      "Epoch 64/100\n",
      "\u001b[1m2646/2646\u001b[0m \u001b[32m━━━━━━━━━━━━━━━━━━━━\u001b[0m\u001b[37m\u001b[0m \u001b[1m3s\u001b[0m 1ms/step - loss: 3.0463e-06 - mae: 0.0012 - val_loss: 3.0700e-06 - val_mae: 0.0013\n",
      "Epoch 65/100\n",
      "\u001b[1m2646/2646\u001b[0m \u001b[32m━━━━━━━━━━━━━━━━━━━━\u001b[0m\u001b[37m\u001b[0m \u001b[1m3s\u001b[0m 1ms/step - loss: 3.4676e-06 - mae: 0.0013 - val_loss: 3.0532e-06 - val_mae: 0.0013\n",
      "Epoch 66/100\n",
      "\u001b[1m2646/2646\u001b[0m \u001b[32m━━━━━━━━━━━━━━━━━━━━\u001b[0m\u001b[37m\u001b[0m \u001b[1m2s\u001b[0m 903us/step - loss: 2.8000e-06 - mae: 0.0012 - val_loss: 3.8652e-06 - val_mae: 0.0011\n",
      "Epoch 67/100\n",
      "\u001b[1m2646/2646\u001b[0m \u001b[32m━━━━━━━━━━━━━━━━━━━━\u001b[0m\u001b[37m\u001b[0m \u001b[1m3s\u001b[0m 1ms/step - loss: 3.0841e-06 - mae: 0.0012 - val_loss: 1.1849e-06 - val_mae: 8.4926e-04\n",
      "Epoch 68/100\n",
      "\u001b[1m2646/2646\u001b[0m \u001b[32m━━━━━━━━━━━━━━━━━━━━\u001b[0m\u001b[37m\u001b[0m \u001b[1m3s\u001b[0m 1ms/step - loss: 2.8772e-06 - mae: 0.0012 - val_loss: 2.5648e-06 - val_mae: 0.0013\n",
      "Epoch 69/100\n",
      "\u001b[1m2646/2646\u001b[0m \u001b[32m━━━━━━━━━━━━━━━━━━━━\u001b[0m\u001b[37m\u001b[0m \u001b[1m3s\u001b[0m 1ms/step - loss: 2.3790e-06 - mae: 0.0011 - val_loss: 3.7592e-06 - val_mae: 0.0014\n",
      "Epoch 70/100\n",
      "\u001b[1m2646/2646\u001b[0m \u001b[32m━━━━━━━━━━━━━━━━━━━━\u001b[0m\u001b[37m\u001b[0m \u001b[1m3s\u001b[0m 992us/step - loss: 3.0817e-06 - mae: 0.0012 - val_loss: 2.4177e-06 - val_mae: 0.0011\n",
      "Epoch 71/100\n",
      "\u001b[1m2646/2646\u001b[0m \u001b[32m━━━━━━━━━━━━━━━━━━━━\u001b[0m\u001b[37m\u001b[0m \u001b[1m3s\u001b[0m 945us/step - loss: 2.7475e-06 - mae: 0.0012 - val_loss: 3.9699e-06 - val_mae: 0.0016\n",
      "Epoch 72/100\n",
      "\u001b[1m2646/2646\u001b[0m \u001b[32m━━━━━━━━━━━━━━━━━━━━\u001b[0m\u001b[37m\u001b[0m \u001b[1m2s\u001b[0m 803us/step - loss: 2.7669e-06 - mae: 0.0012 - val_loss: 1.2070e-06 - val_mae: 7.9892e-04\n",
      "Epoch 73/100\n",
      "\u001b[1m2646/2646\u001b[0m \u001b[32m━━━━━━━━━━━━━━━━━━━━\u001b[0m\u001b[37m\u001b[0m \u001b[1m2s\u001b[0m 576us/step - loss: 2.5529e-06 - mae: 0.0011 - val_loss: 5.8990e-06 - val_mae: 0.0019\n",
      "Epoch 74/100\n",
      "\u001b[1m2646/2646\u001b[0m \u001b[32m━━━━━━━━━━━━━━━━━━━━\u001b[0m\u001b[37m\u001b[0m \u001b[1m2s\u001b[0m 577us/step - loss: 3.2054e-06 - mae: 0.0013 - val_loss: 8.9015e-07 - val_mae: 6.6164e-04\n",
      "Epoch 75/100\n",
      "\u001b[1m2646/2646\u001b[0m \u001b[32m━━━━━━━━━━━━━━━━━━━━\u001b[0m\u001b[37m\u001b[0m \u001b[1m2s\u001b[0m 626us/step - loss: 2.2812e-06 - mae: 0.0011 - val_loss: 3.2228e-06 - val_mae: 0.0015\n",
      "Epoch 76/100\n",
      "\u001b[1m2646/2646\u001b[0m \u001b[32m━━━━━━━━━━━━━━━━━━━━\u001b[0m\u001b[37m\u001b[0m \u001b[1m2s\u001b[0m 575us/step - loss: 2.5080e-06 - mae: 0.0011 - val_loss: 1.0667e-06 - val_mae: 7.5040e-04\n",
      "Epoch 77/100\n",
      "\u001b[1m2646/2646\u001b[0m \u001b[32m━━━━━━━━━━━━━━━━━━━━\u001b[0m\u001b[37m\u001b[0m \u001b[1m2s\u001b[0m 572us/step - loss: 2.7877e-06 - mae: 0.0012 - val_loss: 5.3942e-06 - val_mae: 0.0019\n",
      "Epoch 78/100\n",
      "\u001b[1m2646/2646\u001b[0m \u001b[32m━━━━━━━━━━━━━━━━━━━━\u001b[0m\u001b[37m\u001b[0m \u001b[1m2s\u001b[0m 585us/step - loss: 2.8476e-06 - mae: 0.0012 - val_loss: 1.1202e-06 - val_mae: 7.5316e-04\n",
      "Epoch 79/100\n",
      "\u001b[1m2646/2646\u001b[0m \u001b[32m━━━━━━━━━━━━━━━━━━━━\u001b[0m\u001b[37m\u001b[0m \u001b[1m2s\u001b[0m 594us/step - loss: 3.6898e-06 - mae: 0.0013 - val_loss: 3.5592e-06 - val_mae: 0.0012\n",
      "Epoch 80/100\n",
      "\u001b[1m2646/2646\u001b[0m \u001b[32m━━━━━━━━━━━━━━━━━━━━\u001b[0m\u001b[37m\u001b[0m \u001b[1m2s\u001b[0m 589us/step - loss: 2.8202e-06 - mae: 0.0012 - val_loss: 4.6079e-06 - val_mae: 0.0015\n",
      "Epoch 81/100\n",
      "\u001b[1m2646/2646\u001b[0m \u001b[32m━━━━━━━━━━━━━━━━━━━━\u001b[0m\u001b[37m\u001b[0m \u001b[1m2s\u001b[0m 663us/step - loss: 2.5256e-06 - mae: 0.0011 - val_loss: 1.0929e-06 - val_mae: 7.5355e-04\n",
      "Epoch 82/100\n",
      "\u001b[1m2646/2646\u001b[0m \u001b[32m━━━━━━━━━━━━━━━━━━━━\u001b[0m\u001b[37m\u001b[0m \u001b[1m2s\u001b[0m 600us/step - loss: 2.0995e-06 - mae: 0.0010 - val_loss: 1.1567e-06 - val_mae: 8.3581e-04\n",
      "Epoch 83/100\n",
      "\u001b[1m2646/2646\u001b[0m \u001b[32m━━━━━━━━━━━━━━━━━━━━\u001b[0m\u001b[37m\u001b[0m \u001b[1m2s\u001b[0m 594us/step - loss: 2.4791e-06 - mae: 0.0011 - val_loss: 2.0180e-06 - val_mae: 0.0010\n",
      "Epoch 84/100\n",
      "\u001b[1m2646/2646\u001b[0m \u001b[32m━━━━━━━━━━━━━━━━━━━━\u001b[0m\u001b[37m\u001b[0m \u001b[1m2s\u001b[0m 603us/step - loss: 2.8149e-06 - mae: 0.0012 - val_loss: 1.8933e-06 - val_mae: 9.6174e-04\n",
      "Epoch 85/100\n",
      "\u001b[1m2646/2646\u001b[0m \u001b[32m━━━━━━━━━━━━━━━━━━━━\u001b[0m\u001b[37m\u001b[0m \u001b[1m2s\u001b[0m 602us/step - loss: 2.3390e-06 - mae: 0.0011 - val_loss: 1.3055e-06 - val_mae: 7.4817e-04\n",
      "Epoch 86/100\n",
      "\u001b[1m2646/2646\u001b[0m \u001b[32m━━━━━━━━━━━━━━━━━━━━\u001b[0m\u001b[37m\u001b[0m \u001b[1m2s\u001b[0m 646us/step - loss: 2.2459e-06 - mae: 0.0011 - val_loss: 1.3814e-06 - val_mae: 8.1701e-04\n",
      "Epoch 87/100\n",
      "\u001b[1m2646/2646\u001b[0m \u001b[32m━━━━━━━━━━━━━━━━━━━━\u001b[0m\u001b[37m\u001b[0m \u001b[1m2s\u001b[0m 594us/step - loss: 2.6720e-06 - mae: 0.0012 - val_loss: 1.3971e-06 - val_mae: 9.1389e-04\n",
      "Epoch 88/100\n",
      "\u001b[1m2646/2646\u001b[0m \u001b[32m━━━━━━━━━━━━━━━━━━━━\u001b[0m\u001b[37m\u001b[0m \u001b[1m2s\u001b[0m 677us/step - loss: 2.4240e-06 - mae: 0.0011 - val_loss: 7.7758e-07 - val_mae: 6.6341e-04\n",
      "Epoch 89/100\n",
      "\u001b[1m2646/2646\u001b[0m \u001b[32m━━━━━━━━━━━━━━━━━━━━\u001b[0m\u001b[37m\u001b[0m \u001b[1m2s\u001b[0m 693us/step - loss: 2.4444e-06 - mae: 0.0011 - val_loss: 4.0001e-06 - val_mae: 0.0014\n",
      "Epoch 90/100\n",
      "\u001b[1m2646/2646\u001b[0m \u001b[32m━━━━━━━━━━━━━━━━━━━━\u001b[0m\u001b[37m\u001b[0m \u001b[1m2s\u001b[0m 626us/step - loss: 2.5541e-06 - mae: 0.0011 - val_loss: 1.7636e-06 - val_mae: 0.0010\n",
      "Epoch 91/100\n",
      "\u001b[1m2646/2646\u001b[0m \u001b[32m━━━━━━━━━━━━━━━━━━━━\u001b[0m\u001b[37m\u001b[0m \u001b[1m2s\u001b[0m 629us/step - loss: 2.5927e-06 - mae: 0.0011 - val_loss: 1.7873e-06 - val_mae: 0.0010\n",
      "Epoch 92/100\n",
      "\u001b[1m2646/2646\u001b[0m \u001b[32m━━━━━━━━━━━━━━━━━━━━\u001b[0m\u001b[37m\u001b[0m \u001b[1m2s\u001b[0m 589us/step - loss: 2.2048e-06 - mae: 0.0011 - val_loss: 1.9591e-06 - val_mae: 0.0011\n",
      "Epoch 93/100\n",
      "\u001b[1m2646/2646\u001b[0m \u001b[32m━━━━━━━━━━━━━━━━━━━━\u001b[0m\u001b[37m\u001b[0m \u001b[1m2s\u001b[0m 592us/step - loss: 2.2405e-06 - mae: 0.0011 - val_loss: 1.0307e-06 - val_mae: 7.0726e-04\n",
      "Epoch 94/100\n",
      "\u001b[1m2646/2646\u001b[0m \u001b[32m━━━━━━━━━━━━━━━━━━━━\u001b[0m\u001b[37m\u001b[0m \u001b[1m2s\u001b[0m 651us/step - loss: 2.2392e-06 - mae: 0.0011 - val_loss: 1.1992e-06 - val_mae: 7.9770e-04\n",
      "Epoch 95/100\n",
      "\u001b[1m2646/2646\u001b[0m \u001b[32m━━━━━━━━━━━━━━━━━━━━\u001b[0m\u001b[37m\u001b[0m \u001b[1m2s\u001b[0m 589us/step - loss: 2.2696e-06 - mae: 0.0011 - val_loss: 1.0560e-06 - val_mae: 7.6353e-04\n",
      "Epoch 96/100\n",
      "\u001b[1m2646/2646\u001b[0m \u001b[32m━━━━━━━━━━━━━━━━━━━━\u001b[0m\u001b[37m\u001b[0m \u001b[1m2s\u001b[0m 591us/step - loss: 2.2584e-06 - mae: 0.0011 - val_loss: 1.9781e-06 - val_mae: 0.0011\n",
      "Epoch 97/100\n",
      "\u001b[1m2646/2646\u001b[0m \u001b[32m━━━━━━━━━━━━━━━━━━━━\u001b[0m\u001b[37m\u001b[0m \u001b[1m2s\u001b[0m 591us/step - loss: 2.2477e-06 - mae: 0.0011 - val_loss: 6.8971e-07 - val_mae: 6.2727e-04\n",
      "Epoch 98/100\n",
      "\u001b[1m2646/2646\u001b[0m \u001b[32m━━━━━━━━━━━━━━━━━━━━\u001b[0m\u001b[37m\u001b[0m \u001b[1m2s\u001b[0m 782us/step - loss: 2.1648e-06 - mae: 0.0011 - val_loss: 1.5289e-06 - val_mae: 9.6248e-04\n",
      "Epoch 99/100\n",
      "\u001b[1m2646/2646\u001b[0m \u001b[32m━━━━━━━━━━━━━━━━━━━━\u001b[0m\u001b[37m\u001b[0m \u001b[1m3s\u001b[0m 1ms/step - loss: 2.2868e-06 - mae: 0.0011 - val_loss: 1.3255e-06 - val_mae: 8.8640e-04\n",
      "Epoch 100/100\n",
      "\u001b[1m2646/2646\u001b[0m \u001b[32m━━━━━━━━━━━━━━━━━━━━\u001b[0m\u001b[37m\u001b[0m \u001b[1m3s\u001b[0m 1ms/step - loss: 2.2978e-06 - mae: 0.0011 - val_loss: 8.6982e-07 - val_mae: 6.9315e-04\n",
      "\u001b[1m1620/1620\u001b[0m \u001b[32m━━━━━━━━━━━━━━━━━━━━\u001b[0m\u001b[37m\u001b[0m \u001b[1m1s\u001b[0m 387us/step\n",
      "Mean Squared Error (MSE): 8.887696494470428e-07\n",
      "Mean Absolute Error (MAE): 0.0006994269537520279\n",
      "R² Score: 0.9999893952845943\n"
     ]
    },
    {
     "data": {
      "image/png": "[encoded data removed]",
      "text/plain": [
       "<Figure size 640x480 with 1 Axes>"
      ]
     },
     "metadata": {},
     "output_type": "display_data"
    },
    {
     "name": "stdout",
     "output_type": "stream",
     "text": [
      "CPU times: user 4min 35s, sys: 27.6 s, total: 5min 3s\n",
      "Wall time: 3min 58s\n"
     ]
    }
   ],
   "source": [
    "%%time\n",
    "# Neural network Model\n",
    "model = tf.keras.Sequential([\n",
    "    tf.keras.Input(shape=(X_train.shape[1],)),\n",
    "    tf.keras.layers.Dense(32, activation='relu'),  \n",
    "    tf.keras.layers.Dense(16, activation='relu'),                            \n",
    "    tf.keras.layers.Dense(1, activation='linear')                           \n",
    "])\n",
    "\n",
    "# Compile the model\n",
    "model.compile(optimizer='adam', loss='mean_squared_error', metrics=['mae'])\n",
    "\n",
    "# Train the model\n",
    "model.fit(X_train, Y_train, epochs=100, batch_size=32, validation_split=0.3, verbose=1)\n",
    "\n",
    "# Predict on the test set\n",
    "Y_pred = model.predict(X_test)\n",
    "\n",
    "from sklearn.metrics import mean_absolute_error\n",
    "\n",
    "# Evaluate the model\n",
    "mse = mean_squared_error(Y_test, Y_pred)\n",
    "mae = mean_absolute_error(Y_test, Y_pred)\n",
    "r2 = r2_score(Y_test, Y_pred)\n",
    "\n",
    "# Output the results\n",
    "print(\"Mean Squared Error (MSE):\", mse)\n",
    "print(\"Mean Absolute Error (MAE):\", mae)\n",
    "print(\"R² Score:\", r2)\n",
    "\n",
    "import matplotlib.pyplot as plt\n",
    "plt.scatter(Y_test, Y_pred)\n",
    "plt.xlabel(\"Actual SOC\")\n",
    "plt.ylabel(\"Predicted SOC\")\n",
    "plt.title(\"Actual vs Predicted SOC (Neural Network)\")\n",
    "plt.show()"
   ]
  },
  {
   "cell_type": "code",
   "execution_count": null,
   "id": "9da35dd0-d22f-4906-82a1-39415723bcf1",
   "metadata": {},
   "outputs": [],
   "source": []
  },
  {
   "cell_type": "code",
   "execution_count": null,
   "id": "9d584400-b966-450b-aa66-d4fa8c112660",
   "metadata": {},
   "outputs": [],
   "source": []
  }
 ],
 "metadata": {
  "kernelspec": {
   "display_name": "Python 3 (ipykernel)",
   "language": "python",
   "name": "python3"
  },
  "language_info": {
   "codemirror_mode": {
    "name": "ipython",
    "version": 3
   },
   "file_extension": ".py",
   "mimetype": "text/x-python",
   "name": "python",
   "nbconvert_exporter": "python",
   "pygments_lexer": "ipython3",
   "version": "3.11.8"
  }
 },
 "nbformat": 4,
 "nbformat_minor": 5
}
