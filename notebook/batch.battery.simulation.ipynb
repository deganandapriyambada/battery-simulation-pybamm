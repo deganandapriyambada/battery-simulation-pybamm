{
 "cells": [
  {
   "cell_type": "markdown",
   "id": "7289b977-311c-405a-9c4e-45bb4e4878ef",
   "metadata": {},
   "source": [
    "Install Pre Requisites"
   ]
  },
  {
   "cell_type": "code",
   "execution_count": 1,
   "id": "f187f0d9-d3cb-4a0a-977d-70e3828fc93e",
   "metadata": {
    "scrolled": true
   },
   "outputs": [
    {
     "name": "stdout",
     "output_type": "stream",
     "text": [
      "Requirement already satisfied: pybamm in c:\\users\\degananda.ferdian\\appdata\\local\\miniconda3\\envs\\sdbms-pybamm\\lib\\site-packages (23.5)\n",
      "Requirement already satisfied: numpy>=1.16 in c:\\users\\degananda.ferdian\\appdata\\local\\miniconda3\\envs\\sdbms-pybamm\\lib\\site-packages (from pybamm) (1.24.3)\n",
      "Requirement already satisfied: scipy>=1.3 in c:\\users\\degananda.ferdian\\appdata\\local\\miniconda3\\envs\\sdbms-pybamm\\lib\\site-packages (from pybamm) (1.10.1)\n",
      "Requirement already satisfied: pandas>=0.24 in c:\\users\\degananda.ferdian\\appdata\\local\\miniconda3\\envs\\sdbms-pybamm\\lib\\site-packages (from pybamm) (2.0.1)\n",
      "Requirement already satisfied: anytree>=2.4.3 in c:\\users\\degananda.ferdian\\appdata\\local\\miniconda3\\envs\\sdbms-pybamm\\lib\\site-packages (from pybamm) (2.13.0)\n",
      "Requirement already satisfied: autograd>=1.2 in c:\\users\\degananda.ferdian\\appdata\\local\\miniconda3\\envs\\sdbms-pybamm\\lib\\site-packages (from pybamm) (1.6.2)\n",
      "Requirement already satisfied: scikit-fem>=0.2.0 in c:\\users\\degananda.ferdian\\appdata\\local\\miniconda3\\envs\\sdbms-pybamm\\lib\\site-packages (from pybamm) (11.0.0)\n",
      "Requirement already satisfied: casadi>=3.6.0 in c:\\users\\degananda.ferdian\\appdata\\local\\miniconda3\\envs\\sdbms-pybamm\\lib\\site-packages (from pybamm) (3.6.2)\n",
      "Requirement already satisfied: imageio>=2.9.0 in c:\\users\\degananda.ferdian\\appdata\\local\\miniconda3\\envs\\sdbms-pybamm\\lib\\site-packages (from pybamm) (2.37.0)\n",
      "Requirement already satisfied: importlib-metadata in c:\\users\\degananda.ferdian\\appdata\\local\\miniconda3\\envs\\sdbms-pybamm\\lib\\site-packages (from pybamm) (8.6.1)\n",
      "Requirement already satisfied: pybtex>=0.24.0 in c:\\users\\degananda.ferdian\\appdata\\local\\miniconda3\\envs\\sdbms-pybamm\\lib\\site-packages (from pybamm) (0.24.0)\n",
      "Requirement already satisfied: sympy>=1.8 in c:\\users\\degananda.ferdian\\appdata\\local\\miniconda3\\envs\\sdbms-pybamm\\lib\\site-packages (from pybamm) (1.14.0)\n",
      "Requirement already satisfied: xarray in c:\\users\\degananda.ferdian\\appdata\\local\\miniconda3\\envs\\sdbms-pybamm\\lib\\site-packages (from pybamm) (2024.7.0)\n",
      "Requirement already satisfied: bpx in c:\\users\\degananda.ferdian\\appdata\\roaming\\python\\python311\\site-packages (from pybamm) (0.5.0)\n",
      "Requirement already satisfied: tqdm in c:\\users\\degananda.ferdian\\appdata\\local\\miniconda3\\envs\\sdbms-pybamm\\lib\\site-packages (from pybamm) (4.67.1)\n",
      "Requirement already satisfied: matplotlib>=2.0 in c:\\users\\degananda.ferdian\\appdata\\local\\miniconda3\\envs\\sdbms-pybamm\\lib\\site-packages (from pybamm) (3.7.1)\n",
      "Requirement already satisfied: future>=0.15.2 in c:\\users\\degananda.ferdian\\appdata\\local\\miniconda3\\envs\\sdbms-pybamm\\lib\\site-packages (from autograd>=1.2->pybamm) (1.0.0)\n",
      "Requirement already satisfied: pillow>=8.3.2 in c:\\users\\degananda.ferdian\\appdata\\local\\miniconda3\\envs\\sdbms-pybamm\\lib\\site-packages (from imageio>=2.9.0->pybamm) (11.1.0)\n",
      "Requirement already satisfied: contourpy>=1.0.1 in c:\\users\\degananda.ferdian\\appdata\\local\\miniconda3\\envs\\sdbms-pybamm\\lib\\site-packages (from matplotlib>=2.0->pybamm) (1.0.7)\n",
      "Requirement already satisfied: cycler>=0.10 in c:\\users\\degananda.ferdian\\appdata\\local\\miniconda3\\envs\\sdbms-pybamm\\lib\\site-packages (from matplotlib>=2.0->pybamm) (0.12.1)\n",
      "Requirement already satisfied: fonttools>=4.22.0 in c:\\users\\degananda.ferdian\\appdata\\local\\miniconda3\\envs\\sdbms-pybamm\\lib\\site-packages (from matplotlib>=2.0->pybamm) (4.39.3)\n",
      "Requirement already satisfied: kiwisolver>=1.0.1 in c:\\users\\degananda.ferdian\\appdata\\local\\miniconda3\\envs\\sdbms-pybamm\\lib\\site-packages (from matplotlib>=2.0->pybamm) (1.4.4)\n",
      "Requirement already satisfied: packaging>=20.0 in c:\\users\\degananda.ferdian\\appdata\\local\\miniconda3\\envs\\sdbms-pybamm\\lib\\site-packages (from matplotlib>=2.0->pybamm) (25.0)\n",
      "Requirement already satisfied: pyparsing>=2.3.1 in c:\\users\\degananda.ferdian\\appdata\\local\\miniconda3\\envs\\sdbms-pybamm\\lib\\site-packages (from matplotlib>=2.0->pybamm) (3.2.3)\n",
      "Requirement already satisfied: python-dateutil>=2.7 in c:\\users\\degananda.ferdian\\appdata\\local\\miniconda3\\envs\\sdbms-pybamm\\lib\\site-packages (from matplotlib>=2.0->pybamm) (2.9.0.post0)\n",
      "Requirement already satisfied: pytz>=2020.1 in c:\\users\\degananda.ferdian\\appdata\\local\\miniconda3\\envs\\sdbms-pybamm\\lib\\site-packages (from pandas>=0.24->pybamm) (2025.2)\n",
      "Requirement already satisfied: tzdata>=2022.1 in c:\\users\\degananda.ferdian\\appdata\\local\\miniconda3\\envs\\sdbms-pybamm\\lib\\site-packages (from pandas>=0.24->pybamm) (2025.2)\n",
      "Requirement already satisfied: PyYAML>=3.01 in c:\\users\\degananda.ferdian\\appdata\\local\\miniconda3\\envs\\sdbms-pybamm\\lib\\site-packages (from pybtex>=0.24.0->pybamm) (6.0)\n",
      "Requirement already satisfied: latexcodec>=1.0.4 in c:\\users\\degananda.ferdian\\appdata\\local\\miniconda3\\envs\\sdbms-pybamm\\lib\\site-packages (from pybtex>=0.24.0->pybamm) (2.0.1)\n",
      "Requirement already satisfied: six in c:\\users\\degananda.ferdian\\appdata\\local\\miniconda3\\envs\\sdbms-pybamm\\lib\\site-packages (from pybtex>=0.24.0->pybamm) (1.17.0)\n",
      "Requirement already satisfied: mpmath<1.4,>=1.1.0 in c:\\users\\degananda.ferdian\\appdata\\local\\miniconda3\\envs\\sdbms-pybamm\\lib\\site-packages (from sympy>=1.8->pybamm) (1.3.0)\n",
      "Requirement already satisfied: pydantic>=2.6 in c:\\users\\degananda.ferdian\\appdata\\roaming\\python\\python311\\site-packages (from bpx->pybamm) (2.11.4)\n",
      "Requirement already satisfied: annotated-types>=0.6.0 in c:\\users\\degananda.ferdian\\appdata\\roaming\\python\\python311\\site-packages (from pydantic>=2.6->bpx->pybamm) (0.7.0)\n",
      "Requirement already satisfied: pydantic-core==2.33.2 in c:\\users\\degananda.ferdian\\appdata\\roaming\\python\\python311\\site-packages (from pydantic>=2.6->bpx->pybamm) (2.33.2)\n",
      "Requirement already satisfied: typing-extensions>=4.12.2 in c:\\users\\degananda.ferdian\\appdata\\local\\miniconda3\\envs\\sdbms-pybamm\\lib\\site-packages (from pydantic>=2.6->bpx->pybamm) (4.13.2)\n",
      "Requirement already satisfied: typing-inspection>=0.4.0 in c:\\users\\degananda.ferdian\\appdata\\roaming\\python\\python311\\site-packages (from pydantic>=2.6->bpx->pybamm) (0.4.0)\n",
      "Requirement already satisfied: zipp>=3.20 in c:\\users\\degananda.ferdian\\appdata\\local\\miniconda3\\envs\\sdbms-pybamm\\lib\\site-packages (from importlib-metadata->pybamm) (3.21.0)\n",
      "Requirement already satisfied: colorama in c:\\users\\degananda.ferdian\\appdata\\local\\miniconda3\\envs\\sdbms-pybamm\\lib\\site-packages (from tqdm->pybamm) (0.4.6)\n",
      "Note: you may need to restart the kernel to use updated packages.\n",
      "Requirement already satisfied: pandas in c:\\users\\degananda.ferdian\\appdata\\local\\miniconda3\\envs\\sdbms-pybamm\\lib\\site-packages (2.0.1)\n",
      "Requirement already satisfied: python-dateutil>=2.8.2 in c:\\users\\degananda.ferdian\\appdata\\local\\miniconda3\\envs\\sdbms-pybamm\\lib\\site-packages (from pandas) (2.9.0.post0)\n",
      "Requirement already satisfied: pytz>=2020.1 in c:\\users\\degananda.ferdian\\appdata\\local\\miniconda3\\envs\\sdbms-pybamm\\lib\\site-packages (from pandas) (2025.2)\n",
      "Requirement already satisfied: tzdata>=2022.1 in c:\\users\\degananda.ferdian\\appdata\\local\\miniconda3\\envs\\sdbms-pybamm\\lib\\site-packages (from pandas) (2025.2)\n",
      "Requirement already satisfied: numpy>=1.21.0 in c:\\users\\degananda.ferdian\\appdata\\local\\miniconda3\\envs\\sdbms-pybamm\\lib\\site-packages (from pandas) (1.24.3)\n",
      "Requirement already satisfied: six>=1.5 in c:\\users\\degananda.ferdian\\appdata\\local\\miniconda3\\envs\\sdbms-pybamm\\lib\\site-packages (from python-dateutil>=2.8.2->pandas) (1.17.0)\n",
      "Note: you may need to restart the kernel to use updated packages.\n"
     ]
    }
   ],
   "source": [
    "%pip install pybamm\n",
    "%pip install pandas"
   ]
  },
  {
   "cell_type": "markdown",
   "id": "197685f0-18c8-498e-bc1d-9022506dfae5",
   "metadata": {},
   "source": [
    "Genarting Battery SOC prediction dataset with prelabeled SOC using Coulomb Counting for 40 Variant (Per 1% Capacity/AH Degredation)"
   ]
  },
  {
   "cell_type": "code",
   "execution_count": 7,
   "id": "32eeef03-5534-44f1-bcba-6abf1fc2a60e",
   "metadata": {
    "scrolled": true
   },
   "outputs": [
    {
     "name": "stdout",
     "output_type": "stream",
     "text": [
      "Running simulation for Variant 1 with Q = 5.0 Ah\n"
     ]
    },
    {
     "ename": "ValueError",
     "evalue": "Per-column arrays must each be 1-dimensional",
     "output_type": "error",
     "traceback": [
      "\u001b[31m---------------------------------------------------------------------------\u001b[39m",
      "\u001b[31mValueError\u001b[39m                                Traceback (most recent call last)",
      "\u001b[36mCell\u001b[39m\u001b[36m \u001b[39m\u001b[32mIn[7]\u001b[39m\u001b[32m, line 84\u001b[39m\n\u001b[32m     81\u001b[39m     \u001b[38;5;28;01melse\u001b[39;00m:\n\u001b[32m     82\u001b[39m         data[var] = sim.solution[var].entries\n\u001b[32m---> \u001b[39m\u001b[32m84\u001b[39m df = \u001b[43mpd\u001b[49m\u001b[43m.\u001b[49m\u001b[43mDataFrame\u001b[49m\u001b[43m(\u001b[49m\u001b[43mdata\u001b[49m\u001b[43m)\u001b[49m\n\u001b[32m     85\u001b[39m df[\u001b[33m\"\u001b[39m\u001b[33mVariant\u001b[39m\u001b[33m\"\u001b[39m] = variant_num\n\u001b[32m     86\u001b[39m all_results = pd.concat([all_results, df], ignore_index=\u001b[38;5;28;01mTrue\u001b[39;00m)\n",
      "\u001b[36mFile \u001b[39m\u001b[32m~/miniconda3/envs/battery-simulation-sdbms/lib/python3.11/site-packages/pandas/core/frame.py:778\u001b[39m, in \u001b[36mDataFrame.__init__\u001b[39m\u001b[34m(self, data, index, columns, dtype, copy)\u001b[39m\n\u001b[32m    772\u001b[39m     mgr = \u001b[38;5;28mself\u001b[39m._init_mgr(\n\u001b[32m    773\u001b[39m         data, axes={\u001b[33m\"\u001b[39m\u001b[33mindex\u001b[39m\u001b[33m\"\u001b[39m: index, \u001b[33m\"\u001b[39m\u001b[33mcolumns\u001b[39m\u001b[33m\"\u001b[39m: columns}, dtype=dtype, copy=copy\n\u001b[32m    774\u001b[39m     )\n\u001b[32m    776\u001b[39m \u001b[38;5;28;01melif\u001b[39;00m \u001b[38;5;28misinstance\u001b[39m(data, \u001b[38;5;28mdict\u001b[39m):\n\u001b[32m    777\u001b[39m     \u001b[38;5;66;03m# GH#38939 de facto copy defaults to False only in non-dict cases\u001b[39;00m\n\u001b[32m--> \u001b[39m\u001b[32m778\u001b[39m     mgr = \u001b[43mdict_to_mgr\u001b[49m\u001b[43m(\u001b[49m\u001b[43mdata\u001b[49m\u001b[43m,\u001b[49m\u001b[43m \u001b[49m\u001b[43mindex\u001b[49m\u001b[43m,\u001b[49m\u001b[43m \u001b[49m\u001b[43mcolumns\u001b[49m\u001b[43m,\u001b[49m\u001b[43m \u001b[49m\u001b[43mdtype\u001b[49m\u001b[43m=\u001b[49m\u001b[43mdtype\u001b[49m\u001b[43m,\u001b[49m\u001b[43m \u001b[49m\u001b[43mcopy\u001b[49m\u001b[43m=\u001b[49m\u001b[43mcopy\u001b[49m\u001b[43m,\u001b[49m\u001b[43m \u001b[49m\u001b[43mtyp\u001b[49m\u001b[43m=\u001b[49m\u001b[43mmanager\u001b[49m\u001b[43m)\u001b[49m\n\u001b[32m    779\u001b[39m \u001b[38;5;28;01melif\u001b[39;00m \u001b[38;5;28misinstance\u001b[39m(data, ma.MaskedArray):\n\u001b[32m    780\u001b[39m     \u001b[38;5;28;01mfrom\u001b[39;00m\u001b[38;5;250m \u001b[39m\u001b[34;01mnumpy\u001b[39;00m\u001b[34;01m.\u001b[39;00m\u001b[34;01mma\u001b[39;00m\u001b[38;5;250m \u001b[39m\u001b[38;5;28;01mimport\u001b[39;00m mrecords\n",
      "\u001b[36mFile \u001b[39m\u001b[32m~/miniconda3/envs/battery-simulation-sdbms/lib/python3.11/site-packages/pandas/core/internals/construction.py:503\u001b[39m, in \u001b[36mdict_to_mgr\u001b[39m\u001b[34m(data, index, columns, dtype, typ, copy)\u001b[39m\n\u001b[32m    499\u001b[39m     \u001b[38;5;28;01melse\u001b[39;00m:\n\u001b[32m    500\u001b[39m         \u001b[38;5;66;03m# dtype check to exclude e.g. range objects, scalars\u001b[39;00m\n\u001b[32m    501\u001b[39m         arrays = [x.copy() \u001b[38;5;28;01mif\u001b[39;00m \u001b[38;5;28mhasattr\u001b[39m(x, \u001b[33m\"\u001b[39m\u001b[33mdtype\u001b[39m\u001b[33m\"\u001b[39m) \u001b[38;5;28;01melse\u001b[39;00m x \u001b[38;5;28;01mfor\u001b[39;00m x \u001b[38;5;129;01min\u001b[39;00m arrays]\n\u001b[32m--> \u001b[39m\u001b[32m503\u001b[39m \u001b[38;5;28;01mreturn\u001b[39;00m \u001b[43marrays_to_mgr\u001b[49m\u001b[43m(\u001b[49m\u001b[43marrays\u001b[49m\u001b[43m,\u001b[49m\u001b[43m \u001b[49m\u001b[43mcolumns\u001b[49m\u001b[43m,\u001b[49m\u001b[43m \u001b[49m\u001b[43mindex\u001b[49m\u001b[43m,\u001b[49m\u001b[43m \u001b[49m\u001b[43mdtype\u001b[49m\u001b[43m=\u001b[49m\u001b[43mdtype\u001b[49m\u001b[43m,\u001b[49m\u001b[43m \u001b[49m\u001b[43mtyp\u001b[49m\u001b[43m=\u001b[49m\u001b[43mtyp\u001b[49m\u001b[43m,\u001b[49m\u001b[43m \u001b[49m\u001b[43mconsolidate\u001b[49m\u001b[43m=\u001b[49m\u001b[43mcopy\u001b[49m\u001b[43m)\u001b[49m\n",
      "\u001b[36mFile \u001b[39m\u001b[32m~/miniconda3/envs/battery-simulation-sdbms/lib/python3.11/site-packages/pandas/core/internals/construction.py:114\u001b[39m, in \u001b[36marrays_to_mgr\u001b[39m\u001b[34m(arrays, columns, index, dtype, verify_integrity, typ, consolidate)\u001b[39m\n\u001b[32m    111\u001b[39m \u001b[38;5;28;01mif\u001b[39;00m verify_integrity:\n\u001b[32m    112\u001b[39m     \u001b[38;5;66;03m# figure out the index, if necessary\u001b[39;00m\n\u001b[32m    113\u001b[39m     \u001b[38;5;28;01mif\u001b[39;00m index \u001b[38;5;129;01mis\u001b[39;00m \u001b[38;5;28;01mNone\u001b[39;00m:\n\u001b[32m--> \u001b[39m\u001b[32m114\u001b[39m         index = \u001b[43m_extract_index\u001b[49m\u001b[43m(\u001b[49m\u001b[43marrays\u001b[49m\u001b[43m)\u001b[49m\n\u001b[32m    115\u001b[39m     \u001b[38;5;28;01melse\u001b[39;00m:\n\u001b[32m    116\u001b[39m         index = ensure_index(index)\n",
      "\u001b[36mFile \u001b[39m\u001b[32m~/miniconda3/envs/battery-simulation-sdbms/lib/python3.11/site-packages/pandas/core/internals/construction.py:664\u001b[39m, in \u001b[36m_extract_index\u001b[39m\u001b[34m(data)\u001b[39m\n\u001b[32m    662\u001b[39m         raw_lengths.append(\u001b[38;5;28mlen\u001b[39m(val))\n\u001b[32m    663\u001b[39m     \u001b[38;5;28;01melif\u001b[39;00m \u001b[38;5;28misinstance\u001b[39m(val, np.ndarray) \u001b[38;5;129;01mand\u001b[39;00m val.ndim > \u001b[32m1\u001b[39m:\n\u001b[32m--> \u001b[39m\u001b[32m664\u001b[39m         \u001b[38;5;28;01mraise\u001b[39;00m \u001b[38;5;167;01mValueError\u001b[39;00m(\u001b[33m\"\u001b[39m\u001b[33mPer-column arrays must each be 1-dimensional\u001b[39m\u001b[33m\"\u001b[39m)\n\u001b[32m    666\u001b[39m \u001b[38;5;28;01mif\u001b[39;00m \u001b[38;5;129;01mnot\u001b[39;00m indexes \u001b[38;5;129;01mand\u001b[39;00m \u001b[38;5;129;01mnot\u001b[39;00m raw_lengths:\n\u001b[32m    667\u001b[39m     \u001b[38;5;28;01mraise\u001b[39;00m \u001b[38;5;167;01mValueError\u001b[39;00m(\u001b[33m\"\u001b[39m\u001b[33mIf using all scalar values, you must pass an index\u001b[39m\u001b[33m\"\u001b[39m)\n",
      "\u001b[31mValueError\u001b[39m: Per-column arrays must each be 1-dimensional"
     ]
    }
   ],
   "source": [
    "import pybamm\n",
    "import pandas as pd\n",
    "from pybamm import BaseModel\n",
    "from IPython.display import display\n",
    "\n",
    "## [1] Doyle Fuller Newman [2] Single Particle Model (SPM) [3] Single Particle Model with Electrolyte (SPMe)\n",
    "availableModel = [\"DFN\", \"SPM\", \"SPME\"]\n",
    "selectedModel = availableModel[2]\n",
    "model: BaseModel\n",
    "\n",
    "# Choose model\n",
    "match selectedModel:\n",
    "    case \"DFN\":\n",
    "        model = pybamm.lithium_ion.DFN()\n",
    "    case \"SPM\":\n",
    "        model = pybamm.lithium_ion.SPM()\n",
    "    case \"SPME\":\n",
    "        model = pybamm.lithium_ion.SPMe(options={\"thermal\": \"lumped\", \"SEI\": \"constant\"})\n",
    "\n",
    "# List of capacities from 5.0 Ah to 3.05 Ah in 1% steps\n",
    "capacity_variants = [round(5.0 * (1 - i / 100), 2) for i in range(1)]\n",
    "\n",
    "# Final DataFrame to store all results\n",
    "all_results = pd.DataFrame()\n",
    "\n",
    "# Loop through all capacity variants\n",
    "for variant_num, cap in enumerate(capacity_variants, start=1):\n",
    "    print(f\"Running simulation for Variant {variant_num} with Q = {cap} Ah\")\n",
    "\n",
    "    selectedInputParameter = pybamm.ParameterValues(\"Chen2020\")\n",
    "    selectedInputParameter.update({\n",
    "        \"Nominal cell capacity [A.h]\": cap\n",
    "    })\n",
    "    \n",
    "    experiment = pybamm.Experiment(\n",
    "        [\n",
    "            (\n",
    "                \"Charge at 2C until 4.2 V\",\n",
    "                \"Discharge at C/6 until 2.5 V\"\n",
    "            )\n",
    "        ],\n",
    "        period=\"5 second\"\n",
    "    )\n",
    "\n",
    "    sim = pybamm.Simulation(model, experiment=experiment, parameter_values=selectedInputParameter)\n",
    "    \n",
    "    try:\n",
    "        sim.solve()\n",
    "    except Exception as e:\n",
    "        print(f\"Simulation failed for Q = {cap} Ah: {e}\")\n",
    "        continue  # skip to the next variant\n",
    "\n",
    "    # Prepare data collection\n",
    "    output_variables = [\"Time [s]\", \"Current [A]\", \"Voltage [V]\", \"X-averaged cell temperature [K]\",\n",
    "                        \"BatteryCapacity\", \"TimeDiff\", \"CapacityDiff\", \"SOC\", \"X-averaged negative particle stoichiometry\"]\n",
    "    \n",
    "    data = {}\n",
    "    num_rows = len(sim.solution[\"Time [min]\"].entries)\n",
    "\n",
    "    for var in output_variables:\n",
    "        if var == \"TimeDiff\":\n",
    "            timeDiffValues = [0] + [\n",
    "                sim.solution[\"Time [s]\"].entries[i] - sim.solution[\"Time [s]\"].entries[i - 1]\n",
    "                for i in range(1, num_rows)\n",
    "            ]\n",
    "            data[var] = timeDiffValues\n",
    "        elif var == \"BatteryCapacity\":\n",
    "            data[var] = [cap] * num_rows\n",
    "        elif var == \"CapacityDiff\":\n",
    "            capacityDiffValues = [0]\n",
    "            for i in range(1, num_rows):\n",
    "                deltaCapacity = sim.solution[\"Current [A]\"].entries[i] * (timeDiffValues[i] / 3600) * -1\n",
    "                capacityDiffValues.append(deltaCapacity)\n",
    "            data[var] = capacityDiffValues\n",
    "        elif var == \"SOC\":\n",
    "            soc_values = [1]\n",
    "            for i in range(1, num_rows):\n",
    "                updated_soc = soc_values[i - 1] + (data[\"CapacityDiff\"][i] / cap)\n",
    "                soc_values.append(max(0, min(1, updated_soc)))\n",
    "            data[var] = soc_values\n",
    "        else:\n",
    "            data[var] = sim.solution[var].entries\n",
    "\n",
    "    df = pd.DataFrame(data)\n",
    "    df[\"Variant\"] = variant_num\n",
    "    all_results = pd.concat([all_results, df], ignore_index=True)\n",
    "\n",
    "# Save to CSV\n",
    "all_results.to_csv(\"batch_battery_simulation.csv\", index=False)\n",
    "display(all_results)\n"
   ]
  },
  {
   "cell_type": "code",
   "execution_count": null,
   "id": "1c99ec6e-222b-4383-a78f-f2289bd8d68b",
   "metadata": {},
   "outputs": [],
   "source": []
  }
 ],
 "metadata": {
  "kernelspec": {
   "display_name": "Python 3 (ipykernel)",
   "language": "python",
   "name": "python3"
  },
  "language_info": {
   "codemirror_mode": {
    "name": "ipython",
    "version": 3
   },
   "file_extension": ".py",
   "mimetype": "text/x-python",
   "name": "python",
   "nbconvert_exporter": "python",
   "pygments_lexer": "ipython3",
   "version": "3.11.8"
  }
 },
 "nbformat": 4,
 "nbformat_minor": 5
}
