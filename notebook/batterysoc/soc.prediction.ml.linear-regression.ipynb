{
 "cells": [
  {
   "cell_type": "markdown",
   "id": "46085359-b070-4247-8a28-c74ab3342038",
   "metadata": {},
   "source": [
    "**SOC predition SDBMS**"
   ]
  },
  {
   "cell_type": "markdown",
   "id": "c11cdc20-9e52-4bbb-a1dc-8aec0a544a68",
   "metadata": {},
   "source": [
    "Install pandas an sklearn"
   ]
  },
  {
   "cell_type": "code",
   "execution_count": 1,
   "id": "d34b8cff-8b87-43ed-a656-831e35c91ec3",
   "metadata": {},
   "outputs": [
    {
     "name": "stdout",
     "output_type": "stream",
     "text": [
      "Requirement already satisfied: pandas in c:\\users\\degananda.ferdian\\appdata\\local\\miniconda3\\envs\\sdbms-pybamm\\lib\\site-packages (2.0.1)\n",
      "Requirement already satisfied: python-dateutil>=2.8.2 in c:\\users\\degananda.ferdian\\appdata\\local\\miniconda3\\envs\\sdbms-pybamm\\lib\\site-packages (from pandas) (2.9.0.post0)\n",
      "Requirement already satisfied: pytz>=2020.1 in c:\\users\\degananda.ferdian\\appdata\\local\\miniconda3\\envs\\sdbms-pybamm\\lib\\site-packages (from pandas) (2025.2)\n",
      "Requirement already satisfied: tzdata>=2022.1 in c:\\users\\degananda.ferdian\\appdata\\local\\miniconda3\\envs\\sdbms-pybamm\\lib\\site-packages (from pandas) (2025.2)\n",
      "Requirement already satisfied: numpy>=1.21.0 in c:\\users\\degananda.ferdian\\appdata\\local\\miniconda3\\envs\\sdbms-pybamm\\lib\\site-packages (from pandas) (1.24.3)\n",
      "Requirement already satisfied: six>=1.5 in c:\\users\\degananda.ferdian\\appdata\\local\\miniconda3\\envs\\sdbms-pybamm\\lib\\site-packages (from python-dateutil>=2.8.2->pandas) (1.17.0)\n",
      "Requirement already satisfied: scikit-learn in c:\\users\\degananda.ferdian\\appdata\\local\\miniconda3\\envs\\sdbms-pybamm\\lib\\site-packages (1.6.1)\n",
      "Requirement already satisfied: numpy>=1.19.5 in c:\\users\\degananda.ferdian\\appdata\\local\\miniconda3\\envs\\sdbms-pybamm\\lib\\site-packages (from scikit-learn) (1.24.3)\n",
      "Requirement already satisfied: scipy>=1.6.0 in c:\\users\\degananda.ferdian\\appdata\\local\\miniconda3\\envs\\sdbms-pybamm\\lib\\site-packages (from scikit-learn) (1.10.1)\n",
      "Requirement already satisfied: joblib>=1.2.0 in c:\\users\\degananda.ferdian\\appdata\\local\\miniconda3\\envs\\sdbms-pybamm\\lib\\site-packages (from scikit-learn) (1.5.1)\n",
      "Requirement already satisfied: threadpoolctl>=3.1.0 in c:\\users\\degananda.ferdian\\appdata\\local\\miniconda3\\envs\\sdbms-pybamm\\lib\\site-packages (from scikit-learn) (3.6.0)\n",
      "Requirement already satisfied: numpy in c:\\users\\degananda.ferdian\\appdata\\local\\miniconda3\\envs\\sdbms-pybamm\\lib\\site-packages (1.24.3)\n"
     ]
    }
   ],
   "source": [
    "!pip install pandas\n",
    "!pip install scikit-learn\n",
    "!pip install numpy"
   ]
  },
  {
   "cell_type": "markdown",
   "id": "863400fd-89f4-40fb-9ed1-972459eb5e27",
   "metadata": {},
   "source": [
    "Load SKLearn"
   ]
  },
  {
   "cell_type": "code",
   "execution_count": 2,
   "id": "5723df53-bf4e-4722-b3aa-aac0245cee11",
   "metadata": {},
   "outputs": [],
   "source": [
    "from sklearn.model_selection import train_test_split\n",
    "from sklearn.preprocessing import StandardScaler\n",
    "from sklearn.linear_model import LinearRegression\n",
    "from sklearn.metrics import mean_squared_error, r2_score\n",
    "import numpy as np"
   ]
  },
  {
   "cell_type": "markdown",
   "id": "76677179-b294-4844-afc8-7cef881a366c",
   "metadata": {},
   "source": [
    "Load data set to the dataframe"
   ]
  },
  {
   "cell_type": "code",
   "execution_count": 3,
   "id": "c23c3802-8934-4aa1-9624-cb41a470f053",
   "metadata": {},
   "outputs": [],
   "source": [
    "import pandas as pd\n",
    "dataSetLocation = \"./batch_battery_simulation.csv\"\n",
    "dataFrame = pd.read_csv(dataSetLocation)"
   ]
  },
  {
   "cell_type": "markdown",
   "id": "3268ca53-d00a-40ba-8083-2da1c98c7ab2",
   "metadata": {},
   "source": [
    "remove unused column (timeDiff and variant)"
   ]
  },
  {
   "cell_type": "code",
   "execution_count": 4,
   "id": "a4d18c51-9fcc-48b5-8a55-b3690a061827",
   "metadata": {},
   "outputs": [],
   "source": [
    "dataFrame = dataFrame.drop('TimeDiff', axis=1)\n",
    "dataFrame = dataFrame.drop('Time [s]', axis=1)\n",
    "dataFrame = dataFrame.drop('Variant', axis=1)"
   ]
  },
  {
   "cell_type": "code",
   "execution_count": 5,
   "id": "34a0e18c-16c8-43ba-afd6-4cfab9bc8c46",
   "metadata": {},
   "outputs": [
    {
     "name": "stdout",
     "output_type": "stream",
     "text": [
      "   Current [A]  Voltage [V]  X-averaged cell temperature [K]  BatteryCapacity   \n",
      "0     0.833333     4.144409                           298.15              5.0  \\\n",
      "1     0.833333     4.143481                           298.15              5.0   \n",
      "2     0.833333     4.142612                           298.15              5.0   \n",
      "3     0.833333     4.141797                           298.15              5.0   \n",
      "4     0.833333     4.141031                           298.15              5.0   \n",
      "\n",
      "   CapacityDiff       SOC  \n",
      "0      0.000000  1.000000  \n",
      "1     -0.000231  0.999954  \n",
      "2     -0.000231  0.999907  \n",
      "3     -0.000231  0.999861  \n",
      "4     -0.000231  0.999815  \n"
     ]
    }
   ],
   "source": [
    "print(dataFrame.head())"
   ]
  },
  {
   "cell_type": "markdown",
   "id": "38a09ce2-d17e-46a3-a821-2e22c998f4d4",
   "metadata": {},
   "source": [
    "Check Data Dimension"
   ]
  },
  {
   "cell_type": "code",
   "execution_count": 6,
   "id": "e81f32cb-955c-45d2-8687-6a2b17e4c5ae",
   "metadata": {},
   "outputs": [
    {
     "name": "stdout",
     "output_type": "stream",
     "text": [
      "(1112679, 6)\n"
     ]
    }
   ],
   "source": [
    "print(dataFrame.shape)"
   ]
  },
  {
   "cell_type": "markdown",
   "id": "d518a853-aa8a-4969-8275-c67938b4537c",
   "metadata": {},
   "source": [
    "Check Mean,Median,Mode, Quartile, Standard Deviation"
   ]
  },
  {
   "cell_type": "code",
   "execution_count": 7,
   "id": "9dde5a6d-6fec-44fe-b9cc-707372ac1b80",
   "metadata": {},
   "outputs": [
    {
     "name": "stdout",
     "output_type": "stream",
     "text": [
      "                            Column        Mean      Median        Mode   \n",
      "0                      Current [A]    0.656742    0.650000    0.508333  \\\n",
      "1                      Voltage [V]    3.682930    3.709571    2.500010   \n",
      "2  X-averaged cell temperature [K]  298.150000  298.150000  298.150000   \n",
      "3                  BatteryCapacity    3.940450    3.900000    3.050000   \n",
      "4                     CapacityDiff   -0.000182   -0.000181   -0.000141   \n",
      "5                              SOC    0.388270    0.356111    0.000000   \n",
      "\n",
      "           Q1          Q3       Std Dev  \n",
      "0    0.575000    0.741667  9.598274e-02  \n",
      "1    3.494654    3.948876  3.184094e-01  \n",
      "2  298.150000  298.150000  7.958082e-13  \n",
      "3    3.450000    4.450000  5.758965e-01  \n",
      "4   -0.000206   -0.000160  2.669068e-05  \n",
      "5    0.034167    0.678056  3.287844e-01  \n"
     ]
    }
   ],
   "source": [
    "numeric_cols = dataFrame.select_dtypes(include=['number']).columns\n",
    "\n",
    "stats_list = []\n",
    "for col in numeric_cols:\n",
    "    stats = {\n",
    "        'Column': col,\n",
    "        'Mean': dataFrame[col].mean(),\n",
    "        'Median': dataFrame[col].median(),\n",
    "        'Mode': dataFrame[col].mode().values[0] if not dataFrame[col].mode().empty else None,\n",
    "        'Q1': dataFrame[col].quantile(0.25),\n",
    "        'Q3': dataFrame[col].quantile(0.75),\n",
    "        'Std Dev': dataFrame[col].std()\n",
    "    }\n",
    "    stats_list.append(stats)\n",
    "\n",
    "descriptiveStatisticDataFrame = pd.DataFrame(stats_list)\n",
    "print(descriptiveStatisticDataFrame)"
   ]
  },
  {
   "cell_type": "markdown",
   "id": "603854ee-f815-43db-867a-7a6ba157bc25",
   "metadata": {},
   "source": [
    "remove constant feature (X-averaged cell temperature [K])"
   ]
  },
  {
   "cell_type": "code",
   "execution_count": 8,
   "id": "cbcea26b-e5e8-422b-8a83-b7ac4ddacd57",
   "metadata": {},
   "outputs": [
    {
     "name": "stdout",
     "output_type": "stream",
     "text": [
      "   Current [A]  Voltage [V]  BatteryCapacity  CapacityDiff       SOC\n",
      "0     0.833333     4.144409              5.0      0.000000  1.000000\n",
      "1     0.833333     4.143481              5.0     -0.000231  0.999954\n",
      "2     0.833333     4.142612              5.0     -0.000231  0.999907\n",
      "3     0.833333     4.141797              5.0     -0.000231  0.999861\n",
      "4     0.833333     4.141031              5.0     -0.000231  0.999815\n"
     ]
    }
   ],
   "source": [
    "dataFrame = dataFrame.drop('X-averaged cell temperature [K]', axis=1)\n",
    "print(dataFrame.head())"
   ]
  },
  {
   "cell_type": "markdown",
   "id": "dcf719d0-c54f-418f-bb6c-a1eabae0664e",
   "metadata": {},
   "source": [
    "Split X (Feature: Current, Voltage, CapacityDiff, BatteryCapacity) and Y (target: SOC)"
   ]
  },
  {
   "cell_type": "code",
   "execution_count": 9,
   "id": "0644c7b4-bf43-4d60-8ba7-1df48a7429bb",
   "metadata": {
    "scrolled": true
   },
   "outputs": [
    {
     "name": "stdout",
     "output_type": "stream",
     "text": [
      "feature: \n",
      "         Current [A]  Voltage [V]  BatteryCapacity  CapacityDiff\n",
      "0           0.833333     4.144409             5.00      0.000000\n",
      "1           0.833333     4.143481             5.00     -0.000231\n",
      "2           0.833333     4.142612             5.00     -0.000231\n",
      "3           0.833333     4.141797             5.00     -0.000231\n",
      "4           0.833333     4.141031             5.00     -0.000231\n",
      "...              ...          ...              ...           ...\n",
      "1112674     0.508333     2.502233             3.05     -0.000141\n",
      "1112675     0.508333     2.501581             3.05     -0.000141\n",
      "1112676     0.508333     2.500929             3.05     -0.000141\n",
      "1112677     0.508333     2.500276             3.05     -0.000141\n",
      "1112678     0.508333     2.500010             3.05     -0.000058\n",
      "\n",
      "[1112679 rows x 4 columns]\n",
      "target: \n",
      "0          1.000000\n",
      "1          0.999954\n",
      "2          0.999907\n",
      "3          0.999861\n",
      "4          0.999815\n",
      "             ...   \n",
      "1112674    0.000000\n",
      "1112675    0.000000\n",
      "1112676    0.000000\n",
      "1112677    0.000000\n",
      "1112678    0.000000\n",
      "Name: SOC, Length: 1112679, dtype: float64\n"
     ]
    }
   ],
   "source": [
    "Y = dataFrame['SOC']\n",
    "X = dataFrame.drop('SOC', axis=1)\n",
    "print(\"feature: \")\n",
    "print(X)\n",
    "print(\"target: \")\n",
    "print(Y)"
   ]
  },
  {
   "cell_type": "markdown",
   "id": "f6e726d7-bad4-45a8-a1e4-44ac40758baf",
   "metadata": {},
   "source": [
    "Split 0.2 for test, 0.8 for training"
   ]
  },
  {
   "cell_type": "code",
   "execution_count": 10,
   "id": "59ee0783-3125-47f1-866d-e8abe0a9e082",
   "metadata": {},
   "outputs": [],
   "source": [
    "# Split into training and test sets\n",
    "X_train, X_test, Y_train, Y_test = train_test_split(X, Y, test_size=0.2, random_state=42)"
   ]
  },
  {
   "cell_type": "markdown",
   "id": "789bc1d5-a5d4-4d9e-947d-4de0b814a7c5",
   "metadata": {},
   "source": [
    "Normalize"
   ]
  },
  {
   "cell_type": "code",
   "execution_count": 11,
   "id": "e5e79dfb-a9d7-4f9b-9510-e948eae36c70",
   "metadata": {},
   "outputs": [],
   "source": [
    "scaler = StandardScaler()\n",
    "X_train = scaler.fit_transform(X_train)\n",
    "X_test = scaler.transform(X_test)"
   ]
  },
  {
   "cell_type": "markdown",
   "id": "4dd77162-755d-4655-baed-bfd2c1fd79ea",
   "metadata": {},
   "source": [
    "Train & Evaluate"
   ]
  },
  {
   "cell_type": "code",
   "execution_count": 12,
   "id": "6a96015a-8e70-4731-9fdd-c94265a0344b",
   "metadata": {},
   "outputs": [
    {
     "name": "stdout",
     "output_type": "stream",
     "text": [
      "R2 = how much model's predictions differ from the actual values\n",
      "MSE = mean squared differences\n",
      "MSE: 0.02085829298029153\n",
      "R²: 0.8068486088286295\n"
     ]
    }
   ],
   "source": [
    "# Train model\n",
    "model = LinearRegression()\n",
    "model.fit(X_train, Y_train)\n",
    "\n",
    "# Predict on test set\n",
    "Y_pred = model.predict(X_test)\n",
    "\n",
    "# Evaluate\n",
    "print(\"R2 = how much model's predictions differ from the actual values\")\n",
    "print(\"MSE = mean squared differences\")\n",
    "print(\"MSE:\", mean_squared_error(Y_test, Y_pred))\n",
    "print(\"R²:\", r2_score(Y_test, Y_pred))"
   ]
  },
  {
   "cell_type": "markdown",
   "id": "0ee557bf-2800-426f-b814-a7f119a49a93",
   "metadata": {},
   "source": [
    "FNN "
   ]
  },
  {
   "cell_type": "code",
   "execution_count": null,
   "id": "978bf550-3767-4dae-b755-70ea341d4eb8",
   "metadata": {},
   "outputs": [],
   "source": []
  },
  {
   "cell_type": "code",
   "execution_count": null,
   "id": "79d3fd33-5f5c-4bc9-ac42-9ec0fe11e7fe",
   "metadata": {},
   "outputs": [],
   "source": [
    "RNN"
   ]
  },
  {
   "cell_type": "code",
   "execution_count": null,
   "id": "af3844ba-1fff-4a04-9fb8-c3e2e1294389",
   "metadata": {},
   "outputs": [],
   "source": []
  }
 ],
 "metadata": {
  "kernelspec": {
   "display_name": "Python 3 (ipykernel)",
   "language": "python",
   "name": "python3"
  },
  "language_info": {
   "codemirror_mode": {
    "name": "ipython",
    "version": 3
   },
   "file_extension": ".py",
   "mimetype": "text/x-python",
   "name": "python",
   "nbconvert_exporter": "python",
   "pygments_lexer": "ipython3",
   "version": "3.11.11"
  }
 },
 "nbformat": 4,
 "nbformat_minor": 5
}
