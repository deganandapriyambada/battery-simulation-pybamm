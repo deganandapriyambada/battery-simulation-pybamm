{
 "cells": [
  {
   "cell_type": "markdown",
   "id": "7608a02e-71f2-41ec-be6c-11851d92dbc5",
   "metadata": {},
   "source": [
    "SDBMS Battery Simulation"
   ]
  },
  {
   "cell_type": "markdown",
   "id": "5fa79885-b836-4af0-91bf-70cf0cad9e4b",
   "metadata": {},
   "source": [
    "Install Pybamm on Jupyer"
   ]
  },
  {
   "cell_type": "code",
   "execution_count": 1,
   "id": "9dd43e99-e51e-4990-9c16-9447d355b287",
   "metadata": {},
   "outputs": [
    {
     "name": "stdout",
     "output_type": "stream",
     "text": [
      "Requirement already satisfied: pybamm in c:\\users\\degananda.ferdian\\appdata\\local\\miniconda3\\envs\\sdbms-pybamm\\lib\\site-packages (23.5)\n",
      "Requirement already satisfied: numpy>=1.16 in c:\\users\\degananda.ferdian\\appdata\\local\\miniconda3\\envs\\sdbms-pybamm\\lib\\site-packages (from pybamm) (1.24.3)\n",
      "Requirement already satisfied: scipy>=1.3 in c:\\users\\degananda.ferdian\\appdata\\local\\miniconda3\\envs\\sdbms-pybamm\\lib\\site-packages (from pybamm) (1.10.1)\n",
      "Requirement already satisfied: pandas>=0.24 in c:\\users\\degananda.ferdian\\appdata\\local\\miniconda3\\envs\\sdbms-pybamm\\lib\\site-packages (from pybamm) (2.0.1)\n",
      "Requirement already satisfied: anytree>=2.4.3 in c:\\users\\degananda.ferdian\\appdata\\local\\miniconda3\\envs\\sdbms-pybamm\\lib\\site-packages (from pybamm) (2.13.0)\n",
      "Requirement already satisfied: autograd>=1.2 in c:\\users\\degananda.ferdian\\appdata\\local\\miniconda3\\envs\\sdbms-pybamm\\lib\\site-packages (from pybamm) (1.6.2)\n",
      "Requirement already satisfied: scikit-fem>=0.2.0 in c:\\users\\degananda.ferdian\\appdata\\local\\miniconda3\\envs\\sdbms-pybamm\\lib\\site-packages (from pybamm) (11.0.0)\n",
      "Requirement already satisfied: casadi>=3.6.0 in c:\\users\\degananda.ferdian\\appdata\\local\\miniconda3\\envs\\sdbms-pybamm\\lib\\site-packages (from pybamm) (3.6.2)\n",
      "Requirement already satisfied: imageio>=2.9.0 in c:\\users\\degananda.ferdian\\appdata\\local\\miniconda3\\envs\\sdbms-pybamm\\lib\\site-packages (from pybamm) (2.37.0)\n",
      "Requirement already satisfied: importlib-metadata in c:\\users\\degananda.ferdian\\appdata\\local\\miniconda3\\envs\\sdbms-pybamm\\lib\\site-packages (from pybamm) (8.6.1)\n",
      "Requirement already satisfied: pybtex>=0.24.0 in c:\\users\\degananda.ferdian\\appdata\\local\\miniconda3\\envs\\sdbms-pybamm\\lib\\site-packages (from pybamm) (0.24.0)\n",
      "Requirement already satisfied: sympy>=1.8 in c:\\users\\degananda.ferdian\\appdata\\local\\miniconda3\\envs\\sdbms-pybamm\\lib\\site-packages (from pybamm) (1.14.0)\n",
      "Requirement already satisfied: xarray in c:\\users\\degananda.ferdian\\appdata\\local\\miniconda3\\envs\\sdbms-pybamm\\lib\\site-packages (from pybamm) (2024.7.0)\n",
      "Requirement already satisfied: bpx in c:\\users\\degananda.ferdian\\appdata\\roaming\\python\\python311\\site-packages (from pybamm) (0.5.0)\n",
      "Requirement already satisfied: tqdm in c:\\users\\degananda.ferdian\\appdata\\local\\miniconda3\\envs\\sdbms-pybamm\\lib\\site-packages (from pybamm) (4.67.1)\n",
      "Requirement already satisfied: matplotlib>=2.0 in c:\\users\\degananda.ferdian\\appdata\\local\\miniconda3\\envs\\sdbms-pybamm\\lib\\site-packages (from pybamm) (3.7.1)\n",
      "Requirement already satisfied: future>=0.15.2 in c:\\users\\degananda.ferdian\\appdata\\local\\miniconda3\\envs\\sdbms-pybamm\\lib\\site-packages (from autograd>=1.2->pybamm) (1.0.0)\n",
      "Requirement already satisfied: pillow>=8.3.2 in c:\\users\\degananda.ferdian\\appdata\\local\\miniconda3\\envs\\sdbms-pybamm\\lib\\site-packages (from imageio>=2.9.0->pybamm) (11.1.0)\n",
      "Requirement already satisfied: contourpy>=1.0.1 in c:\\users\\degananda.ferdian\\appdata\\local\\miniconda3\\envs\\sdbms-pybamm\\lib\\site-packages (from matplotlib>=2.0->pybamm) (1.0.7)\n",
      "Requirement already satisfied: cycler>=0.10 in c:\\users\\degananda.ferdian\\appdata\\local\\miniconda3\\envs\\sdbms-pybamm\\lib\\site-packages (from matplotlib>=2.0->pybamm) (0.12.1)\n",
      "Requirement already satisfied: fonttools>=4.22.0 in c:\\users\\degananda.ferdian\\appdata\\local\\miniconda3\\envs\\sdbms-pybamm\\lib\\site-packages (from matplotlib>=2.0->pybamm) (4.39.3)\n",
      "Requirement already satisfied: kiwisolver>=1.0.1 in c:\\users\\degananda.ferdian\\appdata\\local\\miniconda3\\envs\\sdbms-pybamm\\lib\\site-packages (from matplotlib>=2.0->pybamm) (1.4.4)\n",
      "Requirement already satisfied: packaging>=20.0 in c:\\users\\degananda.ferdian\\appdata\\local\\miniconda3\\envs\\sdbms-pybamm\\lib\\site-packages (from matplotlib>=2.0->pybamm) (25.0)\n",
      "Requirement already satisfied: pyparsing>=2.3.1 in c:\\users\\degananda.ferdian\\appdata\\local\\miniconda3\\envs\\sdbms-pybamm\\lib\\site-packages (from matplotlib>=2.0->pybamm) (3.2.3)\n",
      "Requirement already satisfied: python-dateutil>=2.7 in c:\\users\\degananda.ferdian\\appdata\\local\\miniconda3\\envs\\sdbms-pybamm\\lib\\site-packages (from matplotlib>=2.0->pybamm) (2.9.0.post0)\n",
      "Requirement already satisfied: pytz>=2020.1 in c:\\users\\degananda.ferdian\\appdata\\local\\miniconda3\\envs\\sdbms-pybamm\\lib\\site-packages (from pandas>=0.24->pybamm) (2025.2)\n",
      "Requirement already satisfied: tzdata>=2022.1 in c:\\users\\degananda.ferdian\\appdata\\local\\miniconda3\\envs\\sdbms-pybamm\\lib\\site-packages (from pandas>=0.24->pybamm) (2025.2)\n",
      "Requirement already satisfied: PyYAML>=3.01 in c:\\users\\degananda.ferdian\\appdata\\local\\miniconda3\\envs\\sdbms-pybamm\\lib\\site-packages (from pybtex>=0.24.0->pybamm) (6.0)\n",
      "Requirement already satisfied: latexcodec>=1.0.4 in c:\\users\\degananda.ferdian\\appdata\\local\\miniconda3\\envs\\sdbms-pybamm\\lib\\site-packages (from pybtex>=0.24.0->pybamm) (2.0.1)\n",
      "Requirement already satisfied: six in c:\\users\\degananda.ferdian\\appdata\\local\\miniconda3\\envs\\sdbms-pybamm\\lib\\site-packages (from pybtex>=0.24.0->pybamm) (1.17.0)\n",
      "Requirement already satisfied: mpmath<1.4,>=1.1.0 in c:\\users\\degananda.ferdian\\appdata\\local\\miniconda3\\envs\\sdbms-pybamm\\lib\\site-packages (from sympy>=1.8->pybamm) (1.3.0)\n",
      "Requirement already satisfied: pydantic>=2.6 in c:\\users\\degananda.ferdian\\appdata\\roaming\\python\\python311\\site-packages (from bpx->pybamm) (2.11.4)\n",
      "Requirement already satisfied: annotated-types>=0.6.0 in c:\\users\\degananda.ferdian\\appdata\\roaming\\python\\python311\\site-packages (from pydantic>=2.6->bpx->pybamm) (0.7.0)\n",
      "Requirement already satisfied: pydantic-core==2.33.2 in c:\\users\\degananda.ferdian\\appdata\\roaming\\python\\python311\\site-packages (from pydantic>=2.6->bpx->pybamm) (2.33.2)\n",
      "Requirement already satisfied: typing-extensions>=4.12.2 in c:\\users\\degananda.ferdian\\appdata\\local\\miniconda3\\envs\\sdbms-pybamm\\lib\\site-packages (from pydantic>=2.6->bpx->pybamm) (4.13.2)\n",
      "Requirement already satisfied: typing-inspection>=0.4.0 in c:\\users\\degananda.ferdian\\appdata\\roaming\\python\\python311\\site-packages (from pydantic>=2.6->bpx->pybamm) (0.4.0)\n",
      "Requirement already satisfied: zipp>=3.20 in c:\\users\\degananda.ferdian\\appdata\\local\\miniconda3\\envs\\sdbms-pybamm\\lib\\site-packages (from importlib-metadata->pybamm) (3.21.0)\n",
      "Requirement already satisfied: colorama in c:\\users\\degananda.ferdian\\appdata\\local\\miniconda3\\envs\\sdbms-pybamm\\lib\\site-packages (from tqdm->pybamm) (0.4.6)\n",
      "Note: you may need to restart the kernel to use updated packages.\n",
      "Requirement already satisfied: pandas in c:\\users\\degananda.ferdian\\appdata\\local\\miniconda3\\envs\\sdbms-pybamm\\lib\\site-packages (2.0.1)\n",
      "Requirement already satisfied: python-dateutil>=2.8.2 in c:\\users\\degananda.ferdian\\appdata\\local\\miniconda3\\envs\\sdbms-pybamm\\lib\\site-packages (from pandas) (2.9.0.post0)\n",
      "Requirement already satisfied: pytz>=2020.1 in c:\\users\\degananda.ferdian\\appdata\\local\\miniconda3\\envs\\sdbms-pybamm\\lib\\site-packages (from pandas) (2025.2)\n",
      "Requirement already satisfied: tzdata>=2022.1 in c:\\users\\degananda.ferdian\\appdata\\local\\miniconda3\\envs\\sdbms-pybamm\\lib\\site-packages (from pandas) (2025.2)\n",
      "Requirement already satisfied: numpy>=1.21.0 in c:\\users\\degananda.ferdian\\appdata\\local\\miniconda3\\envs\\sdbms-pybamm\\lib\\site-packages (from pandas) (1.24.3)\n",
      "Requirement already satisfied: six>=1.5 in c:\\users\\degananda.ferdian\\appdata\\local\\miniconda3\\envs\\sdbms-pybamm\\lib\\site-packages (from python-dateutil>=2.8.2->pandas) (1.17.0)\n",
      "Note: you may need to restart the kernel to use updated packages.\n"
     ]
    }
   ],
   "source": [
    "%pip install pybamm\n",
    "%pip install pandas"
   ]
  },
  {
   "cell_type": "markdown",
   "id": "6896ee51-5d1d-4591-b81d-b7108abd2013",
   "metadata": {},
   "source": [
    "Initiating PyBamm"
   ]
  },
  {
   "cell_type": "code",
   "execution_count": 2,
   "id": "d0d299c4-6a39-4b84-9d6f-95350766d9cb",
   "metadata": {},
   "outputs": [],
   "source": [
    "import pybamm\n",
    "from pybamm import BaseModel\n",
    "from pprint import pprint"
   ]
  },
  {
   "cell_type": "markdown",
   "id": "c9b1404e-196d-4fd3-b89a-54dbb83e027c",
   "metadata": {},
   "source": [
    "Choose Battery Chemical & Model"
   ]
  },
  {
   "cell_type": "code",
   "execution_count": 3,
   "id": "9738e8fc-d29b-426d-bebd-1186d700dde2",
   "metadata": {},
   "outputs": [],
   "source": [
    "## [1] Doyle Fuller newman [2] Single Particle Model (SPM) [3] Single Particle Model with Electrolyte (SPMe)\n",
    "availableModel = [\"DFN\",\"SPM\", \"SPME\"]\n",
    "selectedModel = availableModel[0]\n",
    "model : BaseModel\n",
    "\n",
    "match selectedModel:\n",
    "    case \"DFN\":\n",
    "        model : BaseModel = pybamm.lithium_ion.DFN()\n",
    "    case \"SPM\":\n",
    "        model : BaseModel = pybamm.lithium_ion.SPM()\n",
    "    case \"SPME\":\n",
    "        model : BaseModel = pybamm.lithium_ion.SPMe()\n",
    "        \n"
   ]
  },
  {
   "cell_type": "markdown",
   "id": "8803a01a-25a4-44ed-813c-43270ccf5987",
   "metadata": {},
   "source": [
    "Print Available Model Input Parameter.\n",
    "Input Parameter = predefined config / parameter for physical, chemical and electrochemical properties of battery."
   ]
  },
  {
   "cell_type": "code",
   "execution_count": 4,
   "id": "adfc51cb-de9d-49b0-b36d-0c388586e767",
   "metadata": {},
   "outputs": [
    {
     "name": "stdout",
     "output_type": "stream",
     "text": [
      "['Ai2020',\n",
      " 'Chen2020',\n",
      " 'Chen2020_composite',\n",
      " 'ECM_Example',\n",
      " 'Ecker2015',\n",
      " 'Marquis2019',\n",
      " 'Mohtat2020',\n",
      " 'NCA_Kim2011',\n",
      " 'OKane2022',\n",
      " 'ORegan2022',\n",
      " 'Prada2013',\n",
      " 'Ramadass2004',\n",
      " 'Sulzer2019',\n",
      " 'Xu2019']\n"
     ]
    }
   ],
   "source": [
    "modelInputParameters = list(pybamm.parameter_sets)\n",
    "pprint(modelInputParameters)"
   ]
  },
  {
   "cell_type": "markdown",
   "id": "244fd5b5-729c-4833-88ab-c67e4d16de91",
   "metadata": {},
   "source": [
    "Display Selected Model input parameter value"
   ]
  },
  {
   "cell_type": "code",
   "execution_count": 14,
   "id": "1eecbcaa-5506-416b-8583-7472c61691fd",
   "metadata": {
    "scrolled": true
   },
   "outputs": [
    {
     "name": "stdout",
     "output_type": "stream",
     "text": [
      "{'Ambient temperature [K]': 298.15,\n",
      " 'Boltzmann constant [J.K-1]': 1.380649e-23,\n",
      " 'Bulk solvent concentration [mol.m-3]': 2636.0,\n",
      " 'Cation transference number': 0.2594,\n",
      " 'Cell cooling surface area [m2]': 0.00531,\n",
      " 'Cell thermal expansion coefficient [m.K-1]': 1.1e-06,\n",
      " 'Cell volume [m3]': 2.42e-05,\n",
      " 'Contact resistance [Ohm]': 0,\n",
      " 'Current function [A]': 5.0,\n",
      " 'EC diffusivity [m2.s-1]': 2e-18,\n",
      " 'EC initial concentration in electrolyte [mol.m-3]': 4541.0,\n",
      " 'Electrode height [m]': 0.065,\n",
      " 'Electrode width [m]': 1.58,\n",
      " 'Electrolyte conductivity [S.m-1]': <function electrolyte_conductivity_Nyman2008 at 0x000001EDF6FD9D00>,\n",
      " 'Electrolyte diffusivity [m2.s-1]': <function electrolyte_diffusivity_Nyman2008 at 0x000001EDF6FD9C60>,\n",
      " 'Electron charge [C]': 1.602176634e-19,\n",
      " 'Faraday constant [C.mol-1]': 96485.33212,\n",
      " 'Ideal gas constant [J.K-1.mol-1]': 8.314462618,\n",
      " 'Initial concentration in electrolyte [mol.m-3]': 1000.0,\n",
      " 'Initial concentration in negative electrode [mol.m-3]': 29866.0,\n",
      " 'Initial concentration in positive electrode [mol.m-3]': 17038.0,\n",
      " 'Initial inner SEI thickness [m]': 2.5e-09,\n",
      " 'Initial outer SEI thickness [m]': 2.5e-09,\n",
      " 'Initial temperature [K]': 298.15,\n",
      " 'Inner SEI electron conductivity [S.m-1]': 8.95e-14,\n",
      " 'Inner SEI lithium interstitial diffusivity [m2.s-1]': 1e-20,\n",
      " 'Inner SEI open-circuit potential [V]': 0.1,\n",
      " 'Inner SEI partial molar volume [m3.mol-1]': 9.585e-05,\n",
      " 'Inner SEI reaction proportion': 0.5,\n",
      " 'Lithium interstitial reference concentration [mol.m-3]': 15.0,\n",
      " 'Lower voltage cut-off [V]': 2.5,\n",
      " 'Maximum concentration in negative electrode [mol.m-3]': 33133.0,\n",
      " 'Maximum concentration in positive electrode [mol.m-3]': 63104.0,\n",
      " 'Negative current collector conductivity [S.m-1]': 58411000.0,\n",
      " 'Negative current collector density [kg.m-3]': 8960.0,\n",
      " 'Negative current collector specific heat capacity [J.kg-1.K-1]': 385.0,\n",
      " 'Negative current collector thermal conductivity [W.m-1.K-1]': 401.0,\n",
      " 'Negative current collector thickness [m]': 1.2e-05,\n",
      " 'Negative electrode Bruggeman coefficient (electrode)': 0,\n",
      " 'Negative electrode Bruggeman coefficient (electrolyte)': 1.5,\n",
      " 'Negative electrode OCP [V]': <function graphite_LGM50_ocp_Chen2020 at 0x000001EDF073CFE0>,\n",
      " 'Negative electrode OCP entropic change [V.K-1]': 0.0,\n",
      " 'Negative electrode active material volume fraction': 0.75,\n",
      " 'Negative electrode charge transfer coefficient': 0.5,\n",
      " 'Negative electrode conductivity [S.m-1]': 215.0,\n",
      " 'Negative electrode density [kg.m-3]': 1657.0,\n",
      " 'Negative electrode diffusivity [m2.s-1]': 3.3e-14,\n",
      " 'Negative electrode double-layer capacity [F.m-2]': 0.2,\n",
      " 'Negative electrode exchange-current density [A.m-2]': <function graphite_LGM50_electrolyte_exchange_current_density_Chen2020 at 0x000001EDF6FD9580>,\n",
      " 'Negative electrode porosity': 0.25,\n",
      " 'Negative electrode reaction-driven LAM factor [m3.mol-1]': 0.0,\n",
      " 'Negative electrode specific heat capacity [J.kg-1.K-1]': 700.0,\n",
      " 'Negative electrode thermal conductivity [W.m-1.K-1]': 1.7,\n",
      " 'Negative electrode thickness [m]': 8.52e-05,\n",
      " 'Negative particle radius [m]': 5.86e-06,\n",
      " 'Nominal cell capacity [A.h]': 120,\n",
      " 'Number of cells connected in series to make a battery': 1.0,\n",
      " 'Number of electrodes connected in parallel to make a cell': 1.0,\n",
      " 'Outer SEI open-circuit potential [V]': 0.8,\n",
      " 'Outer SEI partial molar volume [m3.mol-1]': 9.585e-05,\n",
      " 'Outer SEI solvent diffusivity [m2.s-1]': 2.5000000000000002e-22,\n",
      " 'Positive current collector conductivity [S.m-1]': 36914000.0,\n",
      " 'Positive current collector density [kg.m-3]': 2700.0,\n",
      " 'Positive current collector specific heat capacity [J.kg-1.K-1]': 897.0,\n",
      " 'Positive current collector thermal conductivity [W.m-1.K-1]': 237.0,\n",
      " 'Positive current collector thickness [m]': 1.6e-05,\n",
      " 'Positive electrode Bruggeman coefficient (electrode)': 0,\n",
      " 'Positive electrode Bruggeman coefficient (electrolyte)': 1.5,\n",
      " 'Positive electrode OCP [V]': <function nmc_LGM50_ocp_Chen2020 at 0x000001EDF6FD9A80>,\n",
      " 'Positive electrode OCP entropic change [V.K-1]': 0.0,\n",
      " 'Positive electrode active material volume fraction': 0.665,\n",
      " 'Positive electrode charge transfer coefficient': 0.5,\n",
      " 'Positive electrode conductivity [S.m-1]': 0.18,\n",
      " 'Positive electrode density [kg.m-3]': 3262.0,\n",
      " 'Positive electrode diffusivity [m2.s-1]': 4e-15,\n",
      " 'Positive electrode double-layer capacity [F.m-2]': 0.2,\n",
      " 'Positive electrode exchange-current density [A.m-2]': <function nmc_LGM50_electrolyte_exchange_current_density_Chen2020 at 0x000001EDF6FD9BC0>,\n",
      " 'Positive electrode porosity': 0.335,\n",
      " 'Positive electrode reaction-driven LAM factor [m3.mol-1]': 0.0,\n",
      " 'Positive electrode specific heat capacity [J.kg-1.K-1]': 700.0,\n",
      " 'Positive electrode thermal conductivity [W.m-1.K-1]': 2.1,\n",
      " 'Positive electrode thickness [m]': 7.56e-05,\n",
      " 'Positive particle radius [m]': 5.22e-06,\n",
      " 'Ratio of lithium moles to SEI moles': 2.0,\n",
      " 'Reference temperature [K]': 298.15,\n",
      " 'SEI growth activation energy [J.mol-1]': 0.0,\n",
      " 'SEI kinetic rate constant [m.s-1]': 1e-12,\n",
      " 'SEI open-circuit potential [V]': 0.4,\n",
      " 'SEI reaction exchange current density [A.m-2]': 1.5e-07,\n",
      " 'SEI resistivity [Ohm.m]': 200000.0,\n",
      " 'Separator Bruggeman coefficient (electrolyte)': 1.5,\n",
      " 'Separator density [kg.m-3]': 397.0,\n",
      " 'Separator porosity': 0.47,\n",
      " 'Separator specific heat capacity [J.kg-1.K-1]': 700.0,\n",
      " 'Separator thermal conductivity [W.m-1.K-1]': 0.16,\n",
      " 'Separator thickness [m]': 1.2e-05,\n",
      " 'Thermodynamic factor': 1.0,\n",
      " 'Total heat transfer coefficient [W.m-2.K-1]': 10.0,\n",
      " 'Upper voltage cut-off [V]': 4.2,\n",
      " 'citations': ['Chen2020']}\n"
     ]
    }
   ],
   "source": [
    "selectedInputParameter =  pybamm.ParameterValues(\"Chen2020\")\n",
    "inputBatteryCapacity = 120\n",
    "selectedInputParameter.update({\n",
    "    \"Nominal cell capacity [A.h]\": inputBatteryCapacity\n",
    "})\n",
    "## DFN => Chen2020, Ai2020. SPME = Marquis2019, SPM = Marquis2019\n",
    "pprint(selectedInputParameter)"
   ]
  },
  {
   "cell_type": "markdown",
   "id": "f5168a1c-73ff-4ebb-bb01-e8a6e0c0a324",
   "metadata": {},
   "source": [
    "Get Q (Battery Capacity)"
   ]
  },
  {
   "cell_type": "code",
   "execution_count": 15,
   "id": "e1925b3c-1236-48b0-bbf7-2f503b3350aa",
   "metadata": {},
   "outputs": [
    {
     "name": "stdout",
     "output_type": "stream",
     "text": [
      "120\n"
     ]
    }
   ],
   "source": [
    "batteryCapacity = selectedInputParameter['Nominal cell capacity [A.h]']\n",
    "pprint(batteryCapacity)"
   ]
  },
  {
   "cell_type": "markdown",
   "id": "59f4eeaf-5496-4aeb-b245-a5615398113d",
   "metadata": {},
   "source": [
    "Print Available Model Output Parameter"
   ]
  },
  {
   "cell_type": "code",
   "execution_count": 16,
   "id": "0d365560-fbc3-4726-8e93-a6d688bcea0b",
   "metadata": {
    "scrolled": true
   },
   "outputs": [],
   "source": [
    "availableOutputModelVariable = model.variable_names()\n",
    "#pprint(availableOutputModelVariable)"
   ]
  },
  {
   "cell_type": "markdown",
   "id": "d756e75f-39f0-4d58-a42b-9be469c4f38f",
   "metadata": {},
   "source": [
    "Available Instructions"
   ]
  },
  {
   "cell_type": "markdown",
   "id": "0df6294b-298a-4f03-b352-14c3489b4238",
   "metadata": {},
   "source": [
    "- \"Discharge at 1C for 0.5 hours\",\n",
    "- \"Discharge at C/20 for 0.5 hours\",\n",
    "- \"Charge at 0.5 C for 45 minutes\",\n",
    "- \"Discharge at 1 A for 90 seconds\",\n",
    "- \"Charge at 200mA for 45 minutes\",\n",
    "- \"Discharge at 1 W for 0.5 hours\",\n",
    "- \"Charge at 200 mW for 45 minutes\",\n",
    "- \"Rest for 10 minutes\",\n",
    "- \"Hold at 1 V for 20 seconds\",\n",
    "- \"Charge at 1 C until 4.1V\",\n",
    "- \"Hold at 4.1 V until 50 mA\",\n",
    "- #\"Hold at 3V until C/50\","
   ]
  },
  {
   "cell_type": "markdown",
   "id": "0f01ff53-7b63-4231-8965-034627b3c078",
   "metadata": {},
   "source": [
    "Run Simulation"
   ]
  },
  {
   "cell_type": "code",
   "execution_count": 17,
   "id": "ad24e34f-756e-4e74-9dbe-ea9bfb817a8c",
   "metadata": {},
   "outputs": [
    {
     "name": "stderr",
     "output_type": "stream",
     "text": [
      "At t = 2.11006, repeated recoverable residual errors.\n",
      "At t = 2.10788 and h = 1.76458e-11, the corrector convergence failed repeatedly or with |h| = hmin.\n",
      "At t = 2.10831 and h = 6.14592e-14, the corrector convergence failed repeatedly or with |h| = hmin.\n",
      "At t = 2.10733 and h = 1.5513e-11, the corrector convergence failed repeatedly or with |h| = hmin.\n",
      "At t = 2.10735 and h = 1.42754e-11, the corrector convergence failed repeatedly or with |h| = hmin.\n",
      "At t = 2.1075 and h = 1.52924e-11, the corrector convergence failed repeatedly or with |h| = hmin.\n",
      "2025-05-26 17:36:20.078 - [ERROR] callbacks.on_experiment_error(224): Simulation error: Maximum number of decreased steps occurred at t=0.0 (final SolverError: 'Error in Function::call for 'F' [IdasInterface] at D:\\bld\\casadi_1682498873855\\work\\casadi\\core\\function.cpp:1401:\n",
      "Error in Function::call for 'F' [IdasInterface] at D:\\bld\\casadi_1682498873855\\work\\casadi\\core\\function.cpp:330:\n",
      "D:\\bld\\casadi_1682498873855\\work\\casadi\\interfaces\\sundials\\idas_interface.cpp:604: IDASolve returned \"IDA_CONV_FAIL\". Consult IDAS documentation.'). For a full solution try reducing dt_max (currently, dt_max=600) and/or reducing the size of the time steps or period of the experiment. Set `return_solution_if_failed_early=True` to return the solution object up to the point where failure occured.\n"
     ]
    },
    {
     "ename": "SolverError",
     "evalue": "Step 'Discharge at C/0.5 for 2 hours or until 2.5 V' is infeasible due to exceeded bounds at initial conditions. If this step is part of a longer cycle, round brackets should be used to indicate this, e.g.:\n pybamm.Experiment([(\n\tDischarge at C/5 for 10 hours or until 3.3 V,\n\tCharge at 1 A until 4.1 V,\n\tHold at 4.1 V until 10 mA\n])",
     "output_type": "error",
     "traceback": [
      "\u001b[31m---------------------------------------------------------------------------\u001b[39m",
      "\u001b[31mSolverError\u001b[39m                               Traceback (most recent call last)",
      "\u001b[36mCell\u001b[39m\u001b[36m \u001b[39m\u001b[32mIn[17]\u001b[39m\u001b[32m, line 11\u001b[39m\n\u001b[32m      1\u001b[39m experiment = pybamm.Experiment(\n\u001b[32m      2\u001b[39m     [\n\u001b[32m      3\u001b[39m         (\n\u001b[32m   (...)\u001b[39m\u001b[32m      8\u001b[39m     period=\u001b[33m\"\u001b[39m\u001b[33m1 second\u001b[39m\u001b[33m\"\u001b[39m  \u001b[38;5;66;03m# <-- This sets data points every 1 second\u001b[39;00m\n\u001b[32m      9\u001b[39m )\n\u001b[32m     10\u001b[39m sim = pybamm.Simulation(model, experiment=experiment, parameter_values=selectedInputParameter)\n\u001b[32m---> \u001b[39m\u001b[32m11\u001b[39m \u001b[43msim\u001b[49m\u001b[43m.\u001b[49m\u001b[43msolve\u001b[49m\u001b[43m(\u001b[49m\u001b[43m)\u001b[49m\n",
      "\u001b[36mFile \u001b[39m\u001b[32m~\\AppData\\Local\\miniconda3\\envs\\sdbms-pybamm\\Lib\\site-packages\\pybamm\\simulation.py:825\u001b[39m, in \u001b[36mSimulation.solve\u001b[39m\u001b[34m(self, t_eval, solver, check_model, save_at_cycles, calc_esoh, starting_solution, initial_soc, callbacks, showprogress, **kwargs)\u001b[39m\n\u001b[32m    823\u001b[39m \u001b[38;5;28;01mif\u001b[39;00m \u001b[38;5;28mall\u001b[39m(\u001b[38;5;28misinstance\u001b[39m(step, pybamm.EmptySolution) \u001b[38;5;28;01mfor\u001b[39;00m step \u001b[38;5;129;01min\u001b[39;00m steps):\n\u001b[32m    824\u001b[39m     \u001b[38;5;28;01mif\u001b[39;00m \u001b[38;5;28mlen\u001b[39m(steps) == \u001b[32m1\u001b[39m:\n\u001b[32m--> \u001b[39m\u001b[32m825\u001b[39m         \u001b[38;5;28;01mraise\u001b[39;00m pybamm.SolverError(\n\u001b[32m    826\u001b[39m             \u001b[33mf\u001b[39m\u001b[33m\"\u001b[39m\u001b[33mStep \u001b[39m\u001b[33m'\u001b[39m\u001b[38;5;132;01m{\u001b[39;00mop_conds_str\u001b[38;5;132;01m}\u001b[39;00m\u001b[33m'\u001b[39m\u001b[33m is infeasible \u001b[39m\u001b[33m\"\u001b[39m\n\u001b[32m    827\u001b[39m             \u001b[33m\"\u001b[39m\u001b[33mdue to exceeded bounds at initial conditions. \u001b[39m\u001b[33m\"\u001b[39m\n\u001b[32m    828\u001b[39m             \u001b[33m\"\u001b[39m\u001b[33mIf this step is part of a longer cycle, \u001b[39m\u001b[33m\"\u001b[39m\n\u001b[32m    829\u001b[39m             \u001b[33m\"\u001b[39m\u001b[33mround brackets should be used to indicate this, \u001b[39m\u001b[33m\"\u001b[39m\n\u001b[32m    830\u001b[39m             \u001b[33m\"\u001b[39m\u001b[33me.g.:\u001b[39m\u001b[38;5;130;01m\\n\u001b[39;00m\u001b[33m pybamm.Experiment([(\u001b[39m\u001b[38;5;130;01m\\n\u001b[39;00m\u001b[33m\"\u001b[39m\n\u001b[32m    831\u001b[39m             \u001b[33m\"\u001b[39m\u001b[38;5;130;01m\\t\u001b[39;00m\u001b[33mDischarge at C/5 for 10 hours or until 3.3 V,\u001b[39m\u001b[38;5;130;01m\\n\u001b[39;00m\u001b[33m\"\u001b[39m\n\u001b[32m    832\u001b[39m             \u001b[33m\"\u001b[39m\u001b[38;5;130;01m\\t\u001b[39;00m\u001b[33mCharge at 1 A until 4.1 V,\u001b[39m\u001b[38;5;130;01m\\n\u001b[39;00m\u001b[33m\"\u001b[39m\n\u001b[32m    833\u001b[39m             \u001b[33m\"\u001b[39m\u001b[38;5;130;01m\\t\u001b[39;00m\u001b[33mHold at 4.1 V until 10 mA\u001b[39m\u001b[38;5;130;01m\\n\u001b[39;00m\u001b[33m\"\u001b[39m\n\u001b[32m    834\u001b[39m             \u001b[33m\"\u001b[39m\u001b[33m])\u001b[39m\u001b[33m\"\u001b[39m\n\u001b[32m    835\u001b[39m         )\n\u001b[32m    836\u001b[39m     \u001b[38;5;28;01melse\u001b[39;00m:\n\u001b[32m    837\u001b[39m         this_cycle = \u001b[38;5;28mself\u001b[39m.experiment.operating_conditions_cycles[\n\u001b[32m    838\u001b[39m             cycle_num - \u001b[32m1\u001b[39m\n\u001b[32m    839\u001b[39m         ]\n",
      "\u001b[31mSolverError\u001b[39m: Step 'Discharge at C/0.5 for 2 hours or until 2.5 V' is infeasible due to exceeded bounds at initial conditions. If this step is part of a longer cycle, round brackets should be used to indicate this, e.g.:\n pybamm.Experiment([(\n\tDischarge at C/5 for 10 hours or until 3.3 V,\n\tCharge at 1 A until 4.1 V,\n\tHold at 4.1 V until 10 mA\n])"
     ]
    }
   ],
   "source": [
    "experiment = pybamm.Experiment(\n",
    "    [\n",
    "        (\n",
    "            \"Charge at 1 C until 4.2 V\",\n",
    "            \"Discharge at C/0.5 for 2 hours or until 2.5 V\"\n",
    "        )\n",
    "    ],\n",
    "    period=\"1 second\"  # <-- This sets data points every 1 second\n",
    ")\n",
    "sim = pybamm.Simulation(model, experiment=experiment, parameter_values=selectedInputParameter)\n",
    "sim.solve()"
   ]
  },
  {
   "cell_type": "markdown",
   "id": "8e83492d-a632-418d-82fb-2a69441c31b0",
   "metadata": {},
   "source": [
    "Visualize"
   ]
  },
  {
   "cell_type": "markdown",
   "id": "d21526a2-904b-4752-ab75-e95bcc2d917e",
   "metadata": {},
   "source": [
    "Custom Plot with Selected Model Result Parameter"
   ]
  },
  {
   "cell_type": "code",
   "execution_count": 10,
   "id": "11cab9fd-ae37-4ae6-a975-e7c3d10eec2f",
   "metadata": {},
   "outputs": [
    {
     "data": {
      "application/vnd.jupyter.widget-view+json": {
       "model_id": "2a031d830f124bdd8b7a8f585bfafcba",
       "version_major": 2,
       "version_minor": 0
      },
      "text/plain": [
       "interactive(children=(FloatSlider(value=0.0, description='t', max=1703.0718860908285, step=17.030718860908284)…"
      ]
     },
     "metadata": {},
     "output_type": "display_data"
    },
    {
     "data": {
      "text/plain": [
       "<pybamm.plotting.quick_plot.QuickPlot at 0x1edf8cc3550>"
      ]
     },
     "execution_count": 10,
     "metadata": {},
     "output_type": "execute_result"
    }
   ],
   "source": [
    "output_variables = [\"Time [s]\", \"Current [A]\", \"Voltage [V]\", \"X-averaged cell temperature [K]\"]\n",
    "sim.plot(output_variables=output_variables)"
   ]
  },
  {
   "cell_type": "markdown",
   "id": "f5234ed5-0fb7-4279-a062-3c485d4c9ccf",
   "metadata": {},
   "source": [
    "Store to pandas data frame and Compute SOC"
   ]
  },
  {
   "cell_type": "code",
   "execution_count": 11,
   "id": "d4986891-3f06-4aff-bb34-8df7c4fa18ff",
   "metadata": {},
   "outputs": [
    {
     "data": {
      "text/html": [
       "<div>\n",
       "<style scoped>\n",
       "    .dataframe tbody tr th:only-of-type {\n",
       "        vertical-align: middle;\n",
       "    }\n",
       "\n",
       "    .dataframe tbody tr th {\n",
       "        vertical-align: top;\n",
       "    }\n",
       "\n",
       "    .dataframe thead th {\n",
       "        text-align: right;\n",
       "    }\n",
       "</style>\n",
       "<table border=\"1\" class=\"dataframe\">\n",
       "  <thead>\n",
       "    <tr style=\"text-align: right;\">\n",
       "      <th></th>\n",
       "      <th>Time [s]</th>\n",
       "      <th>Current [A]</th>\n",
       "      <th>Voltage [V]</th>\n",
       "      <th>X-averaged cell temperature [K]</th>\n",
       "      <th>BatteryCapacity</th>\n",
       "      <th>TimeDiff</th>\n",
       "      <th>CapacityDiff</th>\n",
       "      <th>SOC</th>\n",
       "    </tr>\n",
       "  </thead>\n",
       "  <tbody>\n",
       "    <tr>\n",
       "      <th>0</th>\n",
       "      <td>0.000000</td>\n",
       "      <td>10.0</td>\n",
       "      <td>3.965329</td>\n",
       "      <td>298.15</td>\n",
       "      <td>5</td>\n",
       "      <td>0.000000</td>\n",
       "      <td>0.000000</td>\n",
       "      <td>1.000000</td>\n",
       "    </tr>\n",
       "    <tr>\n",
       "      <th>1</th>\n",
       "      <td>1.000000</td>\n",
       "      <td>10.0</td>\n",
       "      <td>3.954918</td>\n",
       "      <td>298.15</td>\n",
       "      <td>5</td>\n",
       "      <td>1.000000</td>\n",
       "      <td>-0.002778</td>\n",
       "      <td>0.999444</td>\n",
       "    </tr>\n",
       "    <tr>\n",
       "      <th>2</th>\n",
       "      <td>2.000000</td>\n",
       "      <td>10.0</td>\n",
       "      <td>3.945408</td>\n",
       "      <td>298.15</td>\n",
       "      <td>5</td>\n",
       "      <td>1.000000</td>\n",
       "      <td>-0.002778</td>\n",
       "      <td>0.998889</td>\n",
       "    </tr>\n",
       "    <tr>\n",
       "      <th>3</th>\n",
       "      <td>3.000000</td>\n",
       "      <td>10.0</td>\n",
       "      <td>3.936768</td>\n",
       "      <td>298.15</td>\n",
       "      <td>5</td>\n",
       "      <td>1.000000</td>\n",
       "      <td>-0.002778</td>\n",
       "      <td>0.998333</td>\n",
       "    </tr>\n",
       "    <tr>\n",
       "      <th>4</th>\n",
       "      <td>4.000000</td>\n",
       "      <td>10.0</td>\n",
       "      <td>3.928941</td>\n",
       "      <td>298.15</td>\n",
       "      <td>5</td>\n",
       "      <td>1.000000</td>\n",
       "      <td>-0.002778</td>\n",
       "      <td>0.997778</td>\n",
       "    </tr>\n",
       "    <tr>\n",
       "      <th>...</th>\n",
       "      <td>...</td>\n",
       "      <td>...</td>\n",
       "      <td>...</td>\n",
       "      <td>...</td>\n",
       "      <td>...</td>\n",
       "      <td>...</td>\n",
       "      <td>...</td>\n",
       "      <td>...</td>\n",
       "    </tr>\n",
       "    <tr>\n",
       "      <th>1700</th>\n",
       "      <td>1700.000000</td>\n",
       "      <td>10.0</td>\n",
       "      <td>2.514492</td>\n",
       "      <td>298.15</td>\n",
       "      <td>5</td>\n",
       "      <td>1.000000</td>\n",
       "      <td>-0.002778</td>\n",
       "      <td>0.055556</td>\n",
       "    </tr>\n",
       "    <tr>\n",
       "      <th>1701</th>\n",
       "      <td>1701.000000</td>\n",
       "      <td>10.0</td>\n",
       "      <td>2.509855</td>\n",
       "      <td>298.15</td>\n",
       "      <td>5</td>\n",
       "      <td>1.000000</td>\n",
       "      <td>-0.002778</td>\n",
       "      <td>0.055000</td>\n",
       "    </tr>\n",
       "    <tr>\n",
       "      <th>1702</th>\n",
       "      <td>1702.000000</td>\n",
       "      <td>10.0</td>\n",
       "      <td>2.505144</td>\n",
       "      <td>298.15</td>\n",
       "      <td>5</td>\n",
       "      <td>1.000000</td>\n",
       "      <td>-0.002778</td>\n",
       "      <td>0.054444</td>\n",
       "    </tr>\n",
       "    <tr>\n",
       "      <th>1703</th>\n",
       "      <td>1703.000000</td>\n",
       "      <td>10.0</td>\n",
       "      <td>2.500357</td>\n",
       "      <td>298.15</td>\n",
       "      <td>5</td>\n",
       "      <td>1.000000</td>\n",
       "      <td>-0.002778</td>\n",
       "      <td>0.053889</td>\n",
       "    </tr>\n",
       "    <tr>\n",
       "      <th>1704</th>\n",
       "      <td>1703.071886</td>\n",
       "      <td>10.0</td>\n",
       "      <td>2.500010</td>\n",
       "      <td>298.15</td>\n",
       "      <td>5</td>\n",
       "      <td>0.071886</td>\n",
       "      <td>-0.000200</td>\n",
       "      <td>0.053849</td>\n",
       "    </tr>\n",
       "  </tbody>\n",
       "</table>\n",
       "<p>1705 rows × 8 columns</p>\n",
       "</div>"
      ],
      "text/plain": [
       "         Time [s]  Current [A]  Voltage [V]  X-averaged cell temperature [K]   \n",
       "0        0.000000         10.0     3.965329                           298.15  \\\n",
       "1        1.000000         10.0     3.954918                           298.15   \n",
       "2        2.000000         10.0     3.945408                           298.15   \n",
       "3        3.000000         10.0     3.936768                           298.15   \n",
       "4        4.000000         10.0     3.928941                           298.15   \n",
       "...           ...          ...          ...                              ...   \n",
       "1700  1700.000000         10.0     2.514492                           298.15   \n",
       "1701  1701.000000         10.0     2.509855                           298.15   \n",
       "1702  1702.000000         10.0     2.505144                           298.15   \n",
       "1703  1703.000000         10.0     2.500357                           298.15   \n",
       "1704  1703.071886         10.0     2.500010                           298.15   \n",
       "\n",
       "      BatteryCapacity  TimeDiff  CapacityDiff       SOC  \n",
       "0                   5  0.000000      0.000000  1.000000  \n",
       "1                   5  1.000000     -0.002778  0.999444  \n",
       "2                   5  1.000000     -0.002778  0.998889  \n",
       "3                   5  1.000000     -0.002778  0.998333  \n",
       "4                   5  1.000000     -0.002778  0.997778  \n",
       "...               ...       ...           ...       ...  \n",
       "1700                5  1.000000     -0.002778  0.055556  \n",
       "1701                5  1.000000     -0.002778  0.055000  \n",
       "1702                5  1.000000     -0.002778  0.054444  \n",
       "1703                5  1.000000     -0.002778  0.053889  \n",
       "1704                5  0.071886     -0.000200  0.053849  \n",
       "\n",
       "[1705 rows x 8 columns]"
      ]
     },
     "metadata": {},
     "output_type": "display_data"
    }
   ],
   "source": [
    "import pandas as pd\n",
    "output_variables.append(\"BatteryCapacity\")\n",
    "output_variables.append(\"TimeDiff\")\n",
    "output_variables.append(\"CapacityDiff\")\n",
    "output_variables.append(\"SOC\")\n",
    "data = {}\n",
    "num_rows = len(sim.solution[\"Time [min]\"].entries)\n",
    "\n",
    "for var in output_variables:\n",
    "    if var == \"TimeDiff\":\n",
    "        timeDiffValues = []\n",
    "        for i in range(num_rows):\n",
    "            if i == 0:\n",
    "                timeDiffValues.append(0)\n",
    "            else:\n",
    "                prevTime = sim.solution[\"Time [s]\"].entries[i-1]\n",
    "                currentTime = sim.solution[\"Time [s]\"].entries[i]\n",
    "                deltaTime = currentTime - prevTime\n",
    "                timeDiffValues.append(deltaTime)\n",
    "        data[var] = timeDiffValues\n",
    "    elif var == \"BatteryCapacity\":\n",
    "        data[var] = inputBatteryCapacity\n",
    "    elif var == \"CapacityDiff\":\n",
    "        capacityDiffValues = []\n",
    "        for i in range(num_rows):\n",
    "            if i == 0:\n",
    "                capacityDiffValues.append(0)\n",
    "            else:\n",
    "                deltaCapacity =  sim.solution[\"Current [A]\"].entries[i]*(timeDiffValues[i]/3600)*-1\n",
    "                capacityDiffValues.append(deltaCapacity)\n",
    "        data[var] = capacityDiffValues\n",
    "    elif var == \"SOC\":\n",
    "        soc_values = []\n",
    "        for i in range(num_rows):\n",
    "            if i == 0:\n",
    "                soc_values.append(1)\n",
    "            else:\n",
    "                ## Compute using Coulomb Counting\n",
    "                updatedSOC = soc_values[i-1]+(capacityDiffValues[i]/batteryCapacity)\n",
    "                soc_values.append(updatedSOC)\n",
    "        data[var] = soc_values\n",
    "    else:\n",
    "        data[var] = sim.solution[var].entries\n",
    "        \n",
    "simulationOutputDf = pd.DataFrame(data)\n",
    "display(simulationOutputDf)\n",
    "simulationOutputDf.to_csv(\"simulation_output_coulomb.csv\", index=False)"
   ]
  },
  {
   "cell_type": "markdown",
   "id": "edf166dc-ae8e-4521-8312-7f18d979e9ed",
   "metadata": {},
   "source": [
    "Plot voltage component"
   ]
  },
  {
   "cell_type": "code",
   "execution_count": 13,
   "id": "52cec372-9d25-4791-97c8-bc023ffbff9d",
   "metadata": {},
   "outputs": [
    {
     "name": "stdout",
     "output_type": "stream",
     "text": [
      "'end'\n"
     ]
    }
   ],
   "source": [
    "pprint(\"end\")"
   ]
  },
  {
   "cell_type": "code",
   "execution_count": null,
   "id": "bfb71d88-a8c6-4eee-be35-87a8dc096a81",
   "metadata": {},
   "outputs": [],
   "source": []
  }
 ],
 "metadata": {
  "kernelspec": {
   "display_name": "Python 3 (ipykernel)",
   "language": "python",
   "name": "python3"
  },
  "language_info": {
   "codemirror_mode": {
    "name": "ipython",
    "version": 3
   },
   "file_extension": ".py",
   "mimetype": "text/x-python",
   "name": "python",
   "nbconvert_exporter": "python",
   "pygments_lexer": "ipython3",
   "version": "3.11.11"
  }
 },
 "nbformat": 4,
 "nbformat_minor": 5
}
